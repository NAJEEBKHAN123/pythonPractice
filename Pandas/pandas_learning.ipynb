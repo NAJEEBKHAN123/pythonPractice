{
 "cells": [
  {
   "cell_type": "markdown",
   "id": "01384d8c",
   "metadata": {},
   "source": [
    "## Pandas"
   ]
  },
  {
   "cell_type": "markdown",
   "id": "f8c40c56",
   "metadata": {},
   "source": [
    "Pandas ia a powerful and versatile py library specially designed for data manipulation and analysis.\n",
    "Its provide data structure like series and Dataframe.\n",
    "1 series: A 1D labeled array (like excel column).\n",
    "2 datafrome: A 2B labeled array data table (excelSheet, sql table)"
   ]
  },
  {
   "cell_type": "code",
   "execution_count": 1,
   "id": "01395595",
   "metadata": {},
   "outputs": [],
   "source": [
    "import numpy as np\n",
    "import pandas as pd"
   ]
  },
  {
   "cell_type": "code",
   "execution_count": 2,
   "id": "66fc082d",
   "metadata": {},
   "outputs": [
    {
     "data": {
      "text/plain": [
       "0      Pakistan\n",
       "1         India\n",
       "2    Bangladesh\n",
       "3          Oman\n",
       "4         Dubai\n",
       "dtype: object"
      ]
     },
     "execution_count": 2,
     "metadata": {},
     "output_type": "execute_result"
    }
   ],
   "source": [
    "country = [\"Pakistan\", \"India\", \"Bangladesh\", \"Oman\", \"Dubai\"]\n",
    "\n",
    "pd.Series(country)"
   ]
  },
  {
   "cell_type": "code",
   "execution_count": 3,
   "id": "d0f55c62",
   "metadata": {},
   "outputs": [
    {
     "data": {
      "text/plain": [
       "0    20\n",
       "1    40\n",
       "2    55\n",
       "3    90\n",
       "4    10\n",
       "dtype: int64"
      ]
     },
     "execution_count": 3,
     "metadata": {},
     "output_type": "execute_result"
    }
   ],
   "source": [
    "score = [20,40,55,90,10]\n",
    "\n",
    "pd.Series(score)"
   ]
  },
  {
   "cell_type": "code",
   "execution_count": 4,
   "id": "316ae873",
   "metadata": {},
   "outputs": [
    {
     "name": "stdout",
     "output_type": "stream",
     "text": [
      "Country:     country Code:\n"
     ]
    },
    {
     "data": {
      "text/plain": [
       "Pakistan      4\n",
       "India         9\n",
       "Bangladesh    4\n",
       "Oman          3\n",
       "Dubai         6\n",
       "dtype: int64"
      ]
     },
     "execution_count": 4,
     "metadata": {},
     "output_type": "execute_result"
    }
   ],
   "source": [
    "#custom index\n",
    "country = [\"Pakistan\", \"India\", \"Bangladesh\", \"Oman\", \"Dubai\"]\n",
    "countryCode = [4,9,4,3,6]\n",
    "\n",
    "print(\"Country:\"+ \"     \" +\"country Code:\")\n",
    "pd.Series(countryCode, country)\n"
   ]
  },
  {
   "cell_type": "code",
   "execution_count": 5,
   "id": "e747f898",
   "metadata": {},
   "outputs": [],
   "source": [
    "#dict\n",
    "\n",
    "marks = {\n",
    "    'maths': 50,\n",
    "    'english': 60,\n",
    "    'Urdu': 90,\n",
    "    'Biology': 100\n",
    "}\n",
    "\n",
    "marks = pd.Series(marks, index=marks)\n",
    "\n"
   ]
  },
  {
   "cell_type": "markdown",
   "id": "78fcac21",
   "metadata": {},
   "source": [
    "Series Attribues "
   ]
  },
  {
   "cell_type": "code",
   "execution_count": 6,
   "id": "4a28ff4c",
   "metadata": {},
   "outputs": [
    {
     "name": "stdout",
     "output_type": "stream",
     "text": [
      "4\n"
     ]
    }
   ],
   "source": [
    "#size\n",
    "\n",
    "print(marks.size)"
   ]
  },
  {
   "cell_type": "code",
   "execution_count": 7,
   "id": "1a75531d",
   "metadata": {},
   "outputs": [
    {
     "data": {
      "text/plain": [
       "dtype('int64')"
      ]
     },
     "execution_count": 7,
     "metadata": {},
     "output_type": "execute_result"
    }
   ],
   "source": [
    "#dtype\n",
    "\n",
    "marks.dtype"
   ]
  },
  {
   "cell_type": "code",
   "execution_count": 8,
   "id": "3d153e15",
   "metadata": {},
   "outputs": [
    {
     "data": {
      "text/plain": [
       "False"
      ]
     },
     "execution_count": 8,
     "metadata": {},
     "output_type": "execute_result"
    }
   ],
   "source": [
    "# is_unique\n",
    "\n",
    "marks = [1,2,3,3,4,5,6,7,15]\n",
    "res = pd.Series(marks)\n",
    "\n",
    "res.is_unique"
   ]
  },
  {
   "cell_type": "code",
   "execution_count": 9,
   "id": "f3e312ca",
   "metadata": {},
   "outputs": [
    {
     "data": {
      "text/plain": [
       "RangeIndex(start=0, stop=9, step=1)"
      ]
     },
     "execution_count": 9,
     "metadata": {},
     "output_type": "execute_result"
    }
   ],
   "source": [
    "#index\n",
    "\n",
    "res.index"
   ]
  },
  {
   "cell_type": "code",
   "execution_count": 10,
   "id": "e6ac390e",
   "metadata": {},
   "outputs": [
    {
     "data": {
      "text/plain": [
       "array([ 1,  2,  3,  3,  4,  5,  6,  7, 15])"
      ]
     },
     "execution_count": 10,
     "metadata": {},
     "output_type": "execute_result"
    }
   ],
   "source": [
    "#values\n",
    "\n",
    "res.values\n"
   ]
  },
  {
   "cell_type": "markdown",
   "id": "0eef6dfb",
   "metadata": {},
   "source": [
    "## Series using read_csv"
   ]
  },
  {
   "cell_type": "code",
   "execution_count": 11,
   "id": "cf33eb5e",
   "metadata": {},
   "outputs": [
    {
     "data": {
      "text/plain": [
       "0       48\n",
       "1       57\n",
       "2       40\n",
       "3       43\n",
       "4       44\n",
       "      ... \n",
       "360    231\n",
       "361    226\n",
       "362    155\n",
       "363    144\n",
       "364    172\n",
       "Name: Subscribers gained, Length: 365, dtype: int64"
      ]
     },
     "execution_count": 11,
     "metadata": {},
     "output_type": "execute_result"
    }
   ],
   "source": [
    "# with one column\n",
    "subs = pd.read_csv('./subs.csv').squeeze()\n",
    "subs\n"
   ]
  },
  {
   "cell_type": "code",
   "execution_count": 12,
   "id": "e3e209bb",
   "metadata": {},
   "outputs": [
    {
     "data": {
      "text/plain": [
       "match_no\n",
       "1       1\n",
       "2      23\n",
       "3      13\n",
       "4      12\n",
       "5       1\n",
       "       ..\n",
       "211     0\n",
       "212    20\n",
       "213    73\n",
       "214    25\n",
       "215     7\n",
       "Name: runs, Length: 215, dtype: int64"
      ]
     },
     "execution_count": 12,
     "metadata": {},
     "output_type": "execute_result"
    }
   ],
   "source": [
    "# with 2 column\n",
    "\n",
    "vk = pd.read_csv('./kohli_ipl.csv', index_col='match_no').squeeze()\n",
    "vk"
   ]
  },
  {
   "cell_type": "code",
   "execution_count": 13,
   "id": "02c04257",
   "metadata": {},
   "outputs": [
    {
     "data": {
      "text/plain": [
       "movie\n",
       "Uri: The Surgical Strike                   Vicky Kaushal\n",
       "Battalion 609                                Vicky Ahuja\n",
       "The Accidental Prime Minister (film)         Anupam Kher\n",
       "Why Cheat India                            Emraan Hashmi\n",
       "Evening Shadows                         Mona Ambegaonkar\n",
       "                                              ...       \n",
       "Hum Tumhare Hain Sanam                    Shah Rukh Khan\n",
       "Aankhen (2002 film)                     Amitabh Bachchan\n",
       "Saathiya (film)                             Vivek Oberoi\n",
       "Company (film)                                Ajay Devgn\n",
       "Awara Paagal Deewana                        Akshay Kumar\n",
       "Name: lead, Length: 1500, dtype: object"
      ]
     },
     "execution_count": 13,
     "metadata": {},
     "output_type": "execute_result"
    }
   ],
   "source": [
    "# with 2 col\n",
    "\n",
    "bollywood = pd.read_csv('./bollywood.csv', index_col='movie').squeeze()\n",
    "bollywood"
   ]
  },
  {
   "cell_type": "markdown",
   "id": "de63cd5a",
   "metadata": {},
   "source": [
    "## Series method"
   ]
  },
  {
   "cell_type": "code",
   "execution_count": 14,
   "id": "31feac1b",
   "metadata": {},
   "outputs": [
    {
     "data": {
      "text/plain": [
       "match_no\n",
       "1     1\n",
       "2    23\n",
       "3    13\n",
       "4    12\n",
       "5     1\n",
       "Name: runs, dtype: int64"
      ]
     },
     "execution_count": 14,
     "metadata": {},
     "output_type": "execute_result"
    }
   ],
   "source": [
    "#head\n",
    "vk.head()"
   ]
  },
  {
   "cell_type": "code",
   "execution_count": 15,
   "id": "6902cacf",
   "metadata": {},
   "outputs": [
    {
     "data": {
      "text/plain": [
       "match_no\n",
       "1      1\n",
       "2     23\n",
       "3     13\n",
       "4     12\n",
       "5      1\n",
       "6      9\n",
       "7     34\n",
       "8      0\n",
       "9     21\n",
       "10     3\n",
       "Name: runs, dtype: int64"
      ]
     },
     "execution_count": 15,
     "metadata": {},
     "output_type": "execute_result"
    }
   ],
   "source": [
    "vk.head(10)"
   ]
  },
  {
   "cell_type": "code",
   "execution_count": 16,
   "id": "d5bf0474",
   "metadata": {},
   "outputs": [
    {
     "data": {
      "text/plain": [
       "match_no\n",
       "211     0\n",
       "212    20\n",
       "213    73\n",
       "214    25\n",
       "215     7\n",
       "Name: runs, dtype: int64"
      ]
     },
     "execution_count": 16,
     "metadata": {},
     "output_type": "execute_result"
    }
   ],
   "source": [
    "#Tail\n",
    "\n",
    "vk.tail()"
   ]
  },
  {
   "cell_type": "code",
   "execution_count": 17,
   "id": "589f0a7a",
   "metadata": {},
   "outputs": [
    {
     "data": {
      "text/plain": [
       "362    155\n",
       "363    144\n",
       "364    172\n",
       "Name: Subscribers gained, dtype: int64"
      ]
     },
     "execution_count": 17,
     "metadata": {},
     "output_type": "execute_result"
    }
   ],
   "source": [
    "subs.tail(3)"
   ]
  },
  {
   "cell_type": "code",
   "execution_count": 18,
   "id": "0a3ab083",
   "metadata": {},
   "outputs": [
    {
     "data": {
      "text/plain": [
       "273    170\n",
       "Name: Subscribers gained, dtype: int64"
      ]
     },
     "execution_count": 18,
     "metadata": {},
     "output_type": "execute_result"
    }
   ],
   "source": [
    "#sample\n",
    "subs.sample()"
   ]
  },
  {
   "cell_type": "code",
   "execution_count": 19,
   "id": "50dfc20a",
   "metadata": {},
   "outputs": [
    {
     "data": {
      "text/plain": [
       "88      84\n",
       "232    254\n",
       "50     101\n",
       "72      92\n",
       "346    219\n",
       "312    230\n",
       "362    155\n",
       "49     108\n",
       "280    295\n",
       "276    237\n",
       "Name: Subscribers gained, dtype: int64"
      ]
     },
     "execution_count": 19,
     "metadata": {},
     "output_type": "execute_result"
    }
   ],
   "source": [
    "subs.sample(10)"
   ]
  },
  {
   "cell_type": "code",
   "execution_count": 20,
   "id": "0e59efde",
   "metadata": {},
   "outputs": [
    {
     "data": {
      "text/plain": [
       "lead\n",
       "Akshay Kumar            48\n",
       "Amitabh Bachchan        45\n",
       "Ajay Devgn              38\n",
       "Salman Khan             31\n",
       "Sanjay Dutt             26\n",
       "                        ..\n",
       "Tanishaa Mukerji         1\n",
       "Tanuja                   1\n",
       "Ankit                    1\n",
       "Rakhee Gulzar            1\n",
       "Geetika Vidya Ohlyan     1\n",
       "Name: count, Length: 566, dtype: int64"
      ]
     },
     "execution_count": 20,
     "metadata": {},
     "output_type": "execute_result"
    }
   ],
   "source": [
    "bollywood.value_counts()"
   ]
  },
  {
   "cell_type": "code",
   "execution_count": 21,
   "id": "21acc9b8",
   "metadata": {},
   "outputs": [
    {
     "data": {
      "text/plain": [
       "movie\n",
       "Qaidi Band                            Aadar Jain\n",
       "Roar: Tigers of the Sundarbans      Aadil Chahal\n",
       "Lipstick Under My Burkha            Aahana Kumra\n",
       "Raat Gayi Baat Gayi?                Aamir Bashir\n",
       "Talaash: The Answer Lies Within       Aamir Khan\n",
       "                                        ...     \n",
       "Dil Toh Deewana Hai                  Zeenat Aman\n",
       "Sallu Ki Shaadi                      Zeenat Aman\n",
       "Strings of Passion                   Zeenat Aman\n",
       "Dunno Y... Na Jaane Kyon             Zeenat Aman\n",
       "Taj Mahal: An Eternal Love Story     Zulfi Sayed\n",
       "Name: lead, Length: 1500, dtype: object"
      ]
     },
     "execution_count": 21,
     "metadata": {},
     "output_type": "execute_result"
    }
   ],
   "source": [
    "#sort values\n",
    "\n",
    "bollywood.sort_values()"
   ]
  },
  {
   "cell_type": "code",
   "execution_count": 22,
   "id": "be57c775",
   "metadata": {},
   "outputs": [
    {
     "data": {
      "text/plain": [
       "movie\n",
       "Taj Mahal: An Eternal Love Story     Zulfi Sayed\n",
       "Dil Toh Deewana Hai                  Zeenat Aman\n",
       "Strings of Passion                   Zeenat Aman\n",
       "Sallu Ki Shaadi                      Zeenat Aman\n",
       "Dunno Y... Na Jaane Kyon             Zeenat Aman\n",
       "                                        ...     \n",
       "Fanaa (2006 film)                     Aamir Khan\n",
       "Raat Gayi Baat Gayi?                Aamir Bashir\n",
       "Lipstick Under My Burkha            Aahana Kumra\n",
       "Roar: Tigers of the Sundarbans      Aadil Chahal\n",
       "Qaidi Band                            Aadar Jain\n",
       "Name: lead, Length: 1500, dtype: object"
      ]
     },
     "execution_count": 22,
     "metadata": {},
     "output_type": "execute_result"
    }
   ],
   "source": [
    "#descinding order\n",
    "bollywood.sort_values(ascending=False)"
   ]
  },
  {
   "cell_type": "code",
   "execution_count": 23,
   "id": "44f4139a",
   "metadata": {},
   "outputs": [
    {
     "data": {
      "text/plain": [
       "match_no\n",
       "1       1\n",
       "2      23\n",
       "3      13\n",
       "4      12\n",
       "5       1\n",
       "       ..\n",
       "211     0\n",
       "212    20\n",
       "213    73\n",
       "214    25\n",
       "215     7\n",
       "Name: runs, Length: 215, dtype: int64"
      ]
     },
     "execution_count": 23,
     "metadata": {},
     "output_type": "execute_result"
    }
   ],
   "source": [
    "#index\n",
    "\n",
    "vk.sort_index()"
   ]
  },
  {
   "cell_type": "markdown",
   "id": "e0df8772",
   "metadata": {},
   "source": [
    "## Series Math method"
   ]
  },
  {
   "cell_type": "code",
   "execution_count": 24,
   "id": "368ff13b",
   "metadata": {},
   "outputs": [
    {
     "name": "stdout",
     "output_type": "stream",
     "text": [
      "215\n",
      "365\n",
      "1500\n"
     ]
    }
   ],
   "source": [
    "# count\n",
    "\n",
    "print(vk.count())\n",
    "print(subs.count())\n",
    "print(bollywood.count())\n"
   ]
  },
  {
   "cell_type": "code",
   "execution_count": 25,
   "id": "ce8238f7",
   "metadata": {},
   "outputs": [
    {
     "data": {
      "text/plain": [
       "np.int64(49510)"
      ]
     },
     "execution_count": 25,
     "metadata": {},
     "output_type": "execute_result"
    }
   ],
   "source": [
    "#sum\n",
    "\n",
    "subs.sum()"
   ]
  },
  {
   "cell_type": "code",
   "execution_count": 26,
   "id": "21f0230a",
   "metadata": {},
   "outputs": [
    {
     "data": {
      "text/plain": [
       "np.int64(0)"
      ]
     },
     "execution_count": 26,
     "metadata": {},
     "output_type": "execute_result"
    }
   ],
   "source": [
    "vk.product()"
   ]
  },
  {
   "cell_type": "code",
   "execution_count": 27,
   "id": "6ed84564",
   "metadata": {},
   "outputs": [
    {
     "data": {
      "text/plain": [
       "np.float64(135.64383561643837)"
      ]
     },
     "execution_count": 27,
     "metadata": {},
     "output_type": "execute_result"
    }
   ],
   "source": [
    "#mean\n",
    "subs.mean()"
   ]
  },
  {
   "cell_type": "code",
   "execution_count": 28,
   "id": "b586bcf4",
   "metadata": {},
   "outputs": [
    {
     "data": {
      "text/plain": [
       "np.float64(123.0)"
      ]
     },
     "execution_count": 28,
     "metadata": {},
     "output_type": "execute_result"
    }
   ],
   "source": [
    "#median\n",
    "\n",
    "subs.median()"
   ]
  },
  {
   "cell_type": "code",
   "execution_count": 29,
   "id": "0f48a549",
   "metadata": {},
   "outputs": [
    {
     "data": {
      "text/plain": [
       "0    105\n",
       "Name: Subscribers gained, dtype: int64"
      ]
     },
     "execution_count": 29,
     "metadata": {},
     "output_type": "execute_result"
    }
   ],
   "source": [
    "#mode\n",
    "\n",
    "subs.mode()"
   ]
  },
  {
   "cell_type": "code",
   "execution_count": 30,
   "id": "753f9d65",
   "metadata": {},
   "outputs": [
    {
     "data": {
      "text/plain": [
       "np.float64(62.6750230372527)"
      ]
     },
     "execution_count": 30,
     "metadata": {},
     "output_type": "execute_result"
    }
   ],
   "source": [
    "subs.std()"
   ]
  },
  {
   "cell_type": "code",
   "execution_count": 31,
   "id": "9a0b5f0d",
   "metadata": {},
   "outputs": [
    {
     "data": {
      "text/plain": [
       "np.float64(3928.1585127201565)"
      ]
     },
     "execution_count": 31,
     "metadata": {},
     "output_type": "execute_result"
    }
   ],
   "source": [
    "subs.var()"
   ]
  },
  {
   "cell_type": "code",
   "execution_count": 32,
   "id": "94e30298",
   "metadata": {},
   "outputs": [
    {
     "data": {
      "text/plain": [
       "np.int64(396)"
      ]
     },
     "execution_count": 32,
     "metadata": {},
     "output_type": "execute_result"
    }
   ],
   "source": [
    "#max\n",
    "\n",
    "subs.max()"
   ]
  },
  {
   "cell_type": "code",
   "execution_count": 33,
   "id": "ee3fd70d",
   "metadata": {},
   "outputs": [
    {
     "data": {
      "text/plain": [
       "np.int64(33)"
      ]
     },
     "execution_count": 33,
     "metadata": {},
     "output_type": "execute_result"
    }
   ],
   "source": [
    "subs.min()"
   ]
  },
  {
   "cell_type": "code",
   "execution_count": 34,
   "id": "a5ade484",
   "metadata": {},
   "outputs": [
    {
     "data": {
      "text/plain": [
       "count    365.000000\n",
       "mean     135.643836\n",
       "std       62.675023\n",
       "min       33.000000\n",
       "25%       88.000000\n",
       "50%      123.000000\n",
       "75%      177.000000\n",
       "max      396.000000\n",
       "Name: Subscribers gained, dtype: float64"
      ]
     },
     "execution_count": 34,
     "metadata": {},
     "output_type": "execute_result"
    }
   ],
   "source": [
    "#describe\n",
    "\n",
    "subs.describe()"
   ]
  },
  {
   "cell_type": "markdown",
   "id": "a45416ef",
   "metadata": {},
   "source": [
    "## Series indexing"
   ]
  },
  {
   "cell_type": "code",
   "execution_count": 35,
   "id": "b337a038",
   "metadata": {},
   "outputs": [
    {
     "data": {
      "text/plain": [
       "0    54\n",
       "1     6\n",
       "2    54\n",
       "3     7\n",
       "4    77\n",
       "5    88\n",
       "6    98\n",
       "7    54\n",
       "dtype: int64"
      ]
     },
     "execution_count": 35,
     "metadata": {},
     "output_type": "execute_result"
    }
   ],
   "source": [
    "x = pd.Series([54,6,54,7,77,88,98,54])\n",
    "x"
   ]
  },
  {
   "cell_type": "code",
   "execution_count": 36,
   "id": "7ef5c4dc",
   "metadata": {},
   "outputs": [
    {
     "data": {
      "text/plain": [
       "np.int64(7)"
      ]
     },
     "execution_count": 36,
     "metadata": {},
     "output_type": "execute_result"
    }
   ],
   "source": [
    "#integer\n",
    "x[3]"
   ]
  },
  {
   "cell_type": "markdown",
   "id": "a3912294",
   "metadata": {},
   "source": [
    " negative indexing is not working on the integer index its only working with the string indexing."
   ]
  },
  {
   "cell_type": "code",
   "execution_count": 37,
   "id": "25287225",
   "metadata": {},
   "outputs": [
    {
     "data": {
      "text/plain": [
       "np.int64(1)"
      ]
     },
     "execution_count": 37,
     "metadata": {},
     "output_type": "execute_result"
    }
   ],
   "source": [
    "#slicing\n",
    "\n",
    "vk[5]"
   ]
  },
  {
   "cell_type": "code",
   "execution_count": 38,
   "id": "38c1bc04",
   "metadata": {},
   "outputs": [
    {
     "data": {
      "text/plain": [
       "match_no\n",
       "3     13\n",
       "4     12\n",
       "5      1\n",
       "6      9\n",
       "7     34\n",
       "8      0\n",
       "9     21\n",
       "10     3\n",
       "11    10\n",
       "12    38\n",
       "13     3\n",
       "14    11\n",
       "15    50\n",
       "16     2\n",
       "17    22\n",
       "18    19\n",
       "19    16\n",
       "20    15\n",
       "Name: runs, dtype: int64"
      ]
     },
     "execution_count": 38,
     "metadata": {},
     "output_type": "execute_result"
    }
   ],
   "source": [
    "vk[2:20]"
   ]
  },
  {
   "cell_type": "code",
   "execution_count": 39,
   "id": "355f21d8",
   "metadata": {},
   "outputs": [
    {
     "data": {
      "text/plain": [
       "match_no\n",
       "1       1\n",
       "41     71\n",
       "81     93\n",
       "121    14\n",
       "161    41\n",
       "201    12\n",
       "Name: runs, dtype: int64"
      ]
     },
     "execution_count": 39,
     "metadata": {},
     "output_type": "execute_result"
    }
   ],
   "source": [
    "vk[::40]"
   ]
  },
  {
   "cell_type": "code",
   "execution_count": 40,
   "id": "30019939",
   "metadata": {},
   "outputs": [
    {
     "data": {
      "text/plain": [
       "match_no\n",
       "4    12\n",
       "6     9\n",
       "7    34\n",
       "Name: runs, dtype: int64"
      ]
     },
     "execution_count": 40,
     "metadata": {},
     "output_type": "execute_result"
    }
   ],
   "source": [
    "#fancy indexing\n",
    "\n",
    "vk[[4,6,7]]"
   ]
  },
  {
   "cell_type": "code",
   "execution_count": 41,
   "id": "377f2e69",
   "metadata": {},
   "outputs": [
    {
     "data": {
      "text/plain": [
       "np.int64(38)"
      ]
     },
     "execution_count": 41,
     "metadata": {},
     "output_type": "execute_result"
    }
   ],
   "source": [
    "# indexing with a label\n",
    "vk[12]"
   ]
  },
  {
   "cell_type": "markdown",
   "id": "6fcdded2",
   "metadata": {},
   "source": [
    "## Series with python functionalities"
   ]
  },
  {
   "cell_type": "code",
   "execution_count": 42,
   "id": "6fa47922",
   "metadata": {},
   "outputs": [
    {
     "data": {
      "text/plain": [
       "0       48\n",
       "1       57\n",
       "2       40\n",
       "3       43\n",
       "4       44\n",
       "      ... \n",
       "360    231\n",
       "361    226\n",
       "362    155\n",
       "363    144\n",
       "364    172\n",
       "Name: Subscribers gained, Length: 365, dtype: int64"
      ]
     },
     "execution_count": 42,
     "metadata": {},
     "output_type": "execute_result"
    }
   ],
   "source": [
    "subs"
   ]
  },
  {
   "cell_type": "code",
   "execution_count": 48,
   "id": "954e2602",
   "metadata": {},
   "outputs": [
    {
     "name": "stdout",
     "output_type": "stream",
     "text": [
      "365\n",
      "['T', '_AXIS_LEN', '_AXIS_ORDERS', '_AXIS_TO_AXIS_NUMBER', '_HANDLED_TYPES', '__abs__', '__add__', '__and__', '__annotations__', '__array__', '__array_priority__', '__array_ufunc__', '__bool__', '__class__', '__column_consortium_standard__', '__contains__', '__copy__', '__deepcopy__', '__delattr__', '__delitem__', '__dict__', '__dir__', '__divmod__', '__doc__', '__eq__', '__finalize__', '__firstlineno__', '__float__', '__floordiv__', '__format__', '__ge__', '__getattr__', '__getattribute__', '__getitem__', '__getstate__', '__gt__', '__hash__', '__iadd__', '__iand__', '__ifloordiv__', '__imod__', '__imul__', '__init__', '__init_subclass__', '__int__', '__invert__', '__ior__', '__ipow__', '__isub__', '__iter__', '__itruediv__', '__ixor__', '__le__', '__len__', '__lt__', '__matmul__', '__mod__', '__module__', '__mul__', '__ne__', '__neg__', '__new__', '__nonzero__', '__or__', '__pandas_priority__', '__pos__', '__pow__', '__radd__', '__rand__', '__rdivmod__', '__reduce__', '__reduce_ex__', '__repr__', '__rfloordiv__', '__rmatmul__', '__rmod__', '__rmul__', '__ror__', '__round__', '__rpow__', '__rsub__', '__rtruediv__', '__rxor__', '__setattr__', '__setitem__', '__setstate__', '__sizeof__', '__static_attributes__', '__str__', '__sub__', '__subclasshook__', '__truediv__', '__weakref__', '__xor__', '_accessors', '_accum_func', '_agg_examples_doc', '_agg_see_also_doc', '_align_for_op', '_align_frame', '_align_series', '_append', '_arith_method', '_as_manager', '_attrs', '_binop', '_cacher', '_can_hold_na', '_check_inplace_and_allows_duplicate_labels', '_check_is_chained_assignment_possible', '_check_label_or_level_ambiguity', '_check_setitem_copy', '_clear_item_cache', '_clip_with_one_bound', '_clip_with_scalar', '_cmp_method', '_consolidate', '_consolidate_inplace', '_construct_axes_dict', '_construct_result', '_constructor', '_constructor_expanddim', '_constructor_expanddim_from_mgr', '_constructor_from_mgr', '_data', '_deprecate_downcast', '_dir_additions', '_dir_deletions', '_drop_axis', '_drop_labels_or_levels', '_duplicated', '_find_valid_index', '_flags', '_flex_method', '_from_mgr', '_get_axis', '_get_axis_name', '_get_axis_number', '_get_axis_resolvers', '_get_block_manager_axis', '_get_bool_data', '_get_cacher', '_get_cleaned_column_resolvers', '_get_index_resolvers', '_get_label_or_level_values', '_get_numeric_data', '_get_rows_with_mask', '_get_value', '_get_values_tuple', '_get_with', '_getitem_slice', '_gotitem', '_hidden_attrs', '_indexed_same', '_info_axis', '_info_axis_name', '_info_axis_number', '_init_dict', '_init_mgr', '_inplace_method', '_internal_names', '_internal_names_set', '_is_cached', '_is_copy', '_is_label_or_level_reference', '_is_label_reference', '_is_level_reference', '_is_mixed_type', '_is_view', '_is_view_after_cow_rules', '_item_cache', '_ixs', '_logical_func', '_logical_method', '_map_values', '_maybe_update_cacher', '_memory_usage', '_metadata', '_mgr', '_min_count_stat_function', '_name', '_needs_reindex_multi', '_pad_or_backfill', '_protect_consolidate', '_reduce', '_references', '_reindex_axes', '_reindex_indexer', '_reindex_multi', '_reindex_with_indexers', '_rename', '_replace_single', '_repr_data_resource_', '_repr_latex_', '_reset_cache', '_reset_cacher', '_set_as_cached', '_set_axis', '_set_axis_name', '_set_axis_nocheck', '_set_is_copy', '_set_labels', '_set_name', '_set_value', '_set_values', '_set_with', '_set_with_engine', '_shift_with_freq', '_slice', '_stat_function', '_stat_function_ddof', '_take_with_is_copy', '_to_latex_via_styler', '_typ', '_update_inplace', '_validate_dtype', '_values', '_where', 'abs', 'add', 'add_prefix', 'add_suffix', 'agg', 'aggregate', 'align', 'all', 'any', 'apply', 'argmax', 'argmin', 'argsort', 'array', 'asfreq', 'asof', 'astype', 'at', 'at_time', 'attrs', 'autocorr', 'axes', 'backfill', 'between', 'between_time', 'bfill', 'bool', 'case_when', 'clip', 'combine', 'combine_first', 'compare', 'convert_dtypes', 'copy', 'corr', 'count', 'cov', 'cummax', 'cummin', 'cumprod', 'cumsum', 'describe', 'diff', 'div', 'divide', 'divmod', 'dot', 'drop', 'drop_duplicates', 'droplevel', 'dropna', 'dtype', 'dtypes', 'duplicated', 'empty', 'eq', 'equals', 'ewm', 'expanding', 'explode', 'factorize', 'ffill', 'fillna', 'filter', 'first', 'first_valid_index', 'flags', 'floordiv', 'ge', 'get', 'groupby', 'gt', 'hasnans', 'head', 'hist', 'iat', 'idxmax', 'idxmin', 'iloc', 'index', 'infer_objects', 'info', 'interpolate', 'is_monotonic_decreasing', 'is_monotonic_increasing', 'is_unique', 'isin', 'isna', 'isnull', 'item', 'items', 'keys', 'kurt', 'kurtosis', 'last', 'last_valid_index', 'le', 'list', 'loc', 'lt', 'map', 'mask', 'max', 'mean', 'median', 'memory_usage', 'min', 'mod', 'mode', 'mul', 'multiply', 'name', 'nbytes', 'ndim', 'ne', 'nlargest', 'notna', 'notnull', 'nsmallest', 'nunique', 'pad', 'pct_change', 'pipe', 'plot', 'pop', 'pow', 'prod', 'product', 'quantile', 'radd', 'rank', 'ravel', 'rdiv', 'rdivmod', 'reindex', 'reindex_like', 'rename', 'rename_axis', 'reorder_levels', 'repeat', 'replace', 'resample', 'reset_index', 'rfloordiv', 'rmod', 'rmul', 'rolling', 'round', 'rpow', 'rsub', 'rtruediv', 'sample', 'searchsorted', 'sem', 'set_axis', 'set_flags', 'shape', 'shift', 'size', 'skew', 'sort_index', 'sort_values', 'squeeze', 'std', 'struct', 'sub', 'subtract', 'sum', 'swapaxes', 'swaplevel', 'tail', 'take', 'to_clipboard', 'to_csv', 'to_dict', 'to_excel', 'to_frame', 'to_hdf', 'to_json', 'to_latex', 'to_list', 'to_markdown', 'to_numpy', 'to_period', 'to_pickle', 'to_sql', 'to_string', 'to_timestamp', 'to_xarray', 'transform', 'transpose', 'truediv', 'truncate', 'tz_convert', 'tz_localize', 'unique', 'unstack', 'update', 'value_counts', 'values', 'var', 'view', 'where', 'xs']\n",
      "<class 'pandas.core.series.Series'>\n",
      "[33, 33, 35, 37, 39, 40, 40, 40, 40, 42, 42, 43, 44, 44, 44, 45, 46, 46, 48, 49, 49, 49, 49, 50, 50, 50, 51, 54, 56, 56, 56, 56, 57, 61, 62, 64, 65, 65, 66, 66, 66, 66, 67, 68, 70, 70, 70, 71, 71, 72, 72, 72, 72, 72, 73, 74, 74, 75, 76, 76, 76, 76, 77, 77, 78, 78, 78, 79, 79, 80, 80, 80, 81, 81, 82, 82, 83, 83, 83, 84, 84, 84, 85, 86, 86, 86, 87, 87, 87, 87, 88, 88, 88, 88, 88, 89, 89, 89, 90, 90, 90, 90, 91, 92, 92, 92, 93, 93, 93, 93, 95, 95, 96, 96, 96, 96, 97, 97, 98, 98, 99, 99, 100, 100, 100, 101, 101, 101, 102, 102, 103, 103, 104, 104, 104, 105, 105, 105, 105, 105, 105, 105, 105, 105, 108, 108, 108, 108, 108, 108, 109, 109, 110, 110, 110, 111, 111, 112, 113, 113, 113, 114, 114, 114, 114, 115, 115, 115, 115, 117, 117, 117, 118, 118, 119, 119, 119, 119, 120, 122, 123, 123, 123, 123, 123, 124, 125, 126, 127, 128, 128, 129, 130, 131, 131, 132, 132, 134, 134, 134, 135, 135, 136, 136, 136, 137, 138, 138, 138, 139, 140, 144, 145, 146, 146, 146, 146, 147, 149, 150, 150, 150, 150, 151, 152, 152, 152, 153, 153, 153, 154, 154, 154, 155, 155, 156, 156, 156, 156, 157, 157, 157, 157, 158, 158, 159, 159, 160, 160, 160, 160, 162, 164, 166, 167, 167, 168, 170, 170, 170, 170, 171, 172, 172, 173, 173, 173, 174, 174, 175, 175, 176, 176, 177, 178, 179, 179, 180, 180, 180, 182, 183, 183, 183, 184, 184, 184, 185, 185, 185, 185, 186, 186, 186, 188, 189, 190, 190, 192, 192, 192, 196, 196, 196, 197, 197, 202, 202, 202, 203, 204, 206, 207, 209, 210, 210, 211, 212, 213, 214, 216, 219, 220, 221, 221, 222, 222, 224, 225, 225, 226, 227, 228, 229, 230, 231, 233, 236, 236, 237, 241, 243, 244, 245, 247, 249, 254, 254, 258, 259, 259, 261, 261, 265, 267, 268, 269, 276, 276, 290, 295, 301, 306, 312, 396]\n",
      "33\n",
      "396\n"
     ]
    }
   ],
   "source": [
    "print(len(subs))\n",
    "print(dir(subs))\n",
    "print(type(subs))\n",
    "print(sorted(subs))\n",
    "print(min(subs))\n",
    "print(max(subs))"
   ]
  },
  {
   "cell_type": "code",
   "execution_count": 49,
   "id": "9cfd9d91",
   "metadata": {},
   "outputs": [
    {
     "data": {
      "text/plain": [
       "match_no\n",
       "1       1\n",
       "2      23\n",
       "3      13\n",
       "4      12\n",
       "5       1\n",
       "       ..\n",
       "211     0\n",
       "212    20\n",
       "213    73\n",
       "214    25\n",
       "215     7\n",
       "Name: runs, Length: 215, dtype: int64"
      ]
     },
     "execution_count": 49,
     "metadata": {},
     "output_type": "execute_result"
    }
   ],
   "source": [
    "vk"
   ]
  },
  {
   "cell_type": "markdown",
   "id": "35a14f30",
   "metadata": {},
   "source": [
    "## Type conversion "
   ]
  },
  {
   "cell_type": "code",
   "execution_count": 50,
   "id": "0a8f7f89",
   "metadata": {},
   "outputs": [
    {
     "data": {
      "text/plain": [
       "[1,\n",
       " 23,\n",
       " 13,\n",
       " 12,\n",
       " 1,\n",
       " 9,\n",
       " 34,\n",
       " 0,\n",
       " 21,\n",
       " 3,\n",
       " 10,\n",
       " 38,\n",
       " 3,\n",
       " 11,\n",
       " 50,\n",
       " 2,\n",
       " 22,\n",
       " 19,\n",
       " 16,\n",
       " 15,\n",
       " 20,\n",
       " 38,\n",
       " 19,\n",
       " 24,\n",
       " 7,\n",
       " 2,\n",
       " 16,\n",
       " 17,\n",
       " 24,\n",
       " 38,\n",
       " 34,\n",
       " 42,\n",
       " 13,\n",
       " 58,\n",
       " 3,\n",
       " 14,\n",
       " 37,\n",
       " 9,\n",
       " 23,\n",
       " 12,\n",
       " 71,\n",
       " 35,\n",
       " 30,\n",
       " 56,\n",
       " 67,\n",
       " 27,\n",
       " 27,\n",
       " 39,\n",
       " 15,\n",
       " 11,\n",
       " 31,\n",
       " 70,\n",
       " 8,\n",
       " 35,\n",
       " 8,\n",
       " 6,\n",
       " 57,\n",
       " 22,\n",
       " 16,\n",
       " 4,\n",
       " 16,\n",
       " 18,\n",
       " 45,\n",
       " 9,\n",
       " 36,\n",
       " 9,\n",
       " 3,\n",
       " 73,\n",
       " 42,\n",
       " 24,\n",
       " 51,\n",
       " 35,\n",
       " 58,\n",
       " 65,\n",
       " 1,\n",
       " 11,\n",
       " 1,\n",
       " 32,\n",
       " 25,\n",
       " 57,\n",
       " 93,\n",
       " 99,\n",
       " 17,\n",
       " 14,\n",
       " 56,\n",
       " 49,\n",
       " 0,\n",
       " 31,\n",
       " 21,\n",
       " 4,\n",
       " 0,\n",
       " 35,\n",
       " 0,\n",
       " 4,\n",
       " 10,\n",
       " 27,\n",
       " 67,\n",
       " 38,\n",
       " 73,\n",
       " 13,\n",
       " 41,\n",
       " 18,\n",
       " 51,\n",
       " 62,\n",
       " 35,\n",
       " 1,\n",
       " 34,\n",
       " 48,\n",
       " 32,\n",
       " 82,\n",
       " 19,\n",
       " 44,\n",
       " 1,\n",
       " 12,\n",
       " 12,\n",
       " 75,\n",
       " 79,\n",
       " 33,\n",
       " 80,\n",
       " 100,\n",
       " 14,\n",
       " 52,\n",
       " 108,\n",
       " 20,\n",
       " 7,\n",
       " 109,\n",
       " 75,\n",
       " 113,\n",
       " 54,\n",
       " 0,\n",
       " 54,\n",
       " 62,\n",
       " 28,\n",
       " 64,\n",
       " 0,\n",
       " 10,\n",
       " 55,\n",
       " 20,\n",
       " 6,\n",
       " 5,\n",
       " 58,\n",
       " 31,\n",
       " 21,\n",
       " 57,\n",
       " 92,\n",
       " 30,\n",
       " 18,\n",
       " 68,\n",
       " 32,\n",
       " 8,\n",
       " 39,\n",
       " 70,\n",
       " 48,\n",
       " 12,\n",
       " 4,\n",
       " 6,\n",
       " 46,\n",
       " 3,\n",
       " 23,\n",
       " 84,\n",
       " 41,\n",
       " 67,\n",
       " 8,\n",
       " 100,\n",
       " 9,\n",
       " 13,\n",
       " 23,\n",
       " 25,\n",
       " 16,\n",
       " 18,\n",
       " 9,\n",
       " 7,\n",
       " 29,\n",
       " 1,\n",
       " 72,\n",
       " 43,\n",
       " 43,\n",
       " 90,\n",
       " 48,\n",
       " 14,\n",
       " 33,\n",
       " 50,\n",
       " 8,\n",
       " 6,\n",
       " 33,\n",
       " 33,\n",
       " 5,\n",
       " 72,\n",
       " 8,\n",
       " 12,\n",
       " 35,\n",
       " 5,\n",
       " 25,\n",
       " 5,\n",
       " 4,\n",
       " 25,\n",
       " 51,\n",
       " 53,\n",
       " 39,\n",
       " 41,\n",
       " 12,\n",
       " 5,\n",
       " 48,\n",
       " 1,\n",
       " 12,\n",
       " 0,\n",
       " 0,\n",
       " 9,\n",
       " 58,\n",
       " 30,\n",
       " 0,\n",
       " 20,\n",
       " 73,\n",
       " 25,\n",
       " 7]"
      ]
     },
     "execution_count": 50,
     "metadata": {},
     "output_type": "execute_result"
    }
   ],
   "source": [
    "list(vk)"
   ]
  },
  {
   "cell_type": "code",
   "execution_count": 55,
   "id": "33511dfd",
   "metadata": {},
   "outputs": [
    {
     "data": {
      "text/plain": [
       "{1: np.int64(1),\n",
       " 2: np.int64(23),\n",
       " 3: np.int64(13),\n",
       " 4: np.int64(12),\n",
       " 5: np.int64(1),\n",
       " 6: np.int64(9),\n",
       " 7: np.int64(34),\n",
       " 8: np.int64(0),\n",
       " 9: np.int64(21),\n",
       " 10: np.int64(3),\n",
       " 11: np.int64(10),\n",
       " 12: np.int64(38),\n",
       " 13: np.int64(3),\n",
       " 14: np.int64(11),\n",
       " 15: np.int64(50),\n",
       " 16: np.int64(2),\n",
       " 17: np.int64(22),\n",
       " 18: np.int64(19),\n",
       " 19: np.int64(16),\n",
       " 20: np.int64(15),\n",
       " 21: np.int64(20),\n",
       " 22: np.int64(38),\n",
       " 23: np.int64(19),\n",
       " 24: np.int64(24),\n",
       " 25: np.int64(7),\n",
       " 26: np.int64(2),\n",
       " 27: np.int64(16),\n",
       " 28: np.int64(17),\n",
       " 29: np.int64(24),\n",
       " 30: np.int64(38),\n",
       " 31: np.int64(34),\n",
       " 32: np.int64(42),\n",
       " 33: np.int64(13),\n",
       " 34: np.int64(58),\n",
       " 35: np.int64(3),\n",
       " 36: np.int64(14),\n",
       " 37: np.int64(37),\n",
       " 38: np.int64(9),\n",
       " 39: np.int64(23),\n",
       " 40: np.int64(12),\n",
       " 41: np.int64(71),\n",
       " 42: np.int64(35),\n",
       " 43: np.int64(30),\n",
       " 44: np.int64(56),\n",
       " 45: np.int64(67),\n",
       " 46: np.int64(27),\n",
       " 47: np.int64(27),\n",
       " 48: np.int64(39),\n",
       " 49: np.int64(15),\n",
       " 50: np.int64(11),\n",
       " 51: np.int64(31),\n",
       " 52: np.int64(70),\n",
       " 53: np.int64(8),\n",
       " 54: np.int64(35),\n",
       " 55: np.int64(8),\n",
       " 56: np.int64(6),\n",
       " 57: np.int64(57),\n",
       " 58: np.int64(22),\n",
       " 59: np.int64(16),\n",
       " 60: np.int64(4),\n",
       " 61: np.int64(16),\n",
       " 62: np.int64(18),\n",
       " 63: np.int64(45),\n",
       " 64: np.int64(9),\n",
       " 65: np.int64(36),\n",
       " 66: np.int64(9),\n",
       " 67: np.int64(3),\n",
       " 68: np.int64(73),\n",
       " 69: np.int64(42),\n",
       " 70: np.int64(24),\n",
       " 71: np.int64(51),\n",
       " 72: np.int64(35),\n",
       " 73: np.int64(58),\n",
       " 74: np.int64(65),\n",
       " 75: np.int64(1),\n",
       " 76: np.int64(11),\n",
       " 77: np.int64(1),\n",
       " 78: np.int64(32),\n",
       " 79: np.int64(25),\n",
       " 80: np.int64(57),\n",
       " 81: np.int64(93),\n",
       " 82: np.int64(99),\n",
       " 83: np.int64(17),\n",
       " 84: np.int64(14),\n",
       " 85: np.int64(56),\n",
       " 86: np.int64(49),\n",
       " 87: np.int64(0),\n",
       " 88: np.int64(31),\n",
       " 89: np.int64(21),\n",
       " 90: np.int64(4),\n",
       " 91: np.int64(0),\n",
       " 92: np.int64(35),\n",
       " 93: np.int64(0),\n",
       " 94: np.int64(4),\n",
       " 95: np.int64(10),\n",
       " 96: np.int64(27),\n",
       " 97: np.int64(67),\n",
       " 98: np.int64(38),\n",
       " 99: np.int64(73),\n",
       " 100: np.int64(13),\n",
       " 101: np.int64(41),\n",
       " 102: np.int64(18),\n",
       " 103: np.int64(51),\n",
       " 104: np.int64(62),\n",
       " 105: np.int64(35),\n",
       " 106: np.int64(1),\n",
       " 107: np.int64(34),\n",
       " 108: np.int64(48),\n",
       " 109: np.int64(32),\n",
       " 110: np.int64(82),\n",
       " 111: np.int64(19),\n",
       " 112: np.int64(44),\n",
       " 113: np.int64(1),\n",
       " 114: np.int64(12),\n",
       " 115: np.int64(12),\n",
       " 116: np.int64(75),\n",
       " 117: np.int64(79),\n",
       " 118: np.int64(33),\n",
       " 119: np.int64(80),\n",
       " 120: np.int64(100),\n",
       " 121: np.int64(14),\n",
       " 122: np.int64(52),\n",
       " 123: np.int64(108),\n",
       " 124: np.int64(20),\n",
       " 125: np.int64(7),\n",
       " 126: np.int64(109),\n",
       " 127: np.int64(75),\n",
       " 128: np.int64(113),\n",
       " 129: np.int64(54),\n",
       " 130: np.int64(0),\n",
       " 131: np.int64(54),\n",
       " 132: np.int64(62),\n",
       " 133: np.int64(28),\n",
       " 134: np.int64(64),\n",
       " 135: np.int64(0),\n",
       " 136: np.int64(10),\n",
       " 137: np.int64(55),\n",
       " 138: np.int64(20),\n",
       " 139: np.int64(6),\n",
       " 140: np.int64(5),\n",
       " 141: np.int64(58),\n",
       " 142: np.int64(31),\n",
       " 143: np.int64(21),\n",
       " 144: np.int64(57),\n",
       " 145: np.int64(92),\n",
       " 146: np.int64(30),\n",
       " 147: np.int64(18),\n",
       " 148: np.int64(68),\n",
       " 149: np.int64(32),\n",
       " 150: np.int64(8),\n",
       " 151: np.int64(39),\n",
       " 152: np.int64(70),\n",
       " 153: np.int64(48),\n",
       " 154: np.int64(12),\n",
       " 155: np.int64(4),\n",
       " 156: np.int64(6),\n",
       " 157: np.int64(46),\n",
       " 158: np.int64(3),\n",
       " 159: np.int64(23),\n",
       " 160: np.int64(84),\n",
       " 161: np.int64(41),\n",
       " 162: np.int64(67),\n",
       " 163: np.int64(8),\n",
       " 164: np.int64(100),\n",
       " 165: np.int64(9),\n",
       " 166: np.int64(13),\n",
       " 167: np.int64(23),\n",
       " 168: np.int64(25),\n",
       " 169: np.int64(16),\n",
       " 170: np.int64(18),\n",
       " 171: np.int64(9),\n",
       " 172: np.int64(7),\n",
       " 173: np.int64(29),\n",
       " 174: np.int64(1),\n",
       " 175: np.int64(72),\n",
       " 176: np.int64(43),\n",
       " 177: np.int64(43),\n",
       " 178: np.int64(90),\n",
       " 179: np.int64(48),\n",
       " 180: np.int64(14),\n",
       " 181: np.int64(33),\n",
       " 182: np.int64(50),\n",
       " 183: np.int64(8),\n",
       " 184: np.int64(6),\n",
       " 185: np.int64(33),\n",
       " 186: np.int64(33),\n",
       " 187: np.int64(5),\n",
       " 188: np.int64(72),\n",
       " 189: np.int64(8),\n",
       " 190: np.int64(12),\n",
       " 191: np.int64(35),\n",
       " 192: np.int64(5),\n",
       " 193: np.int64(25),\n",
       " 194: np.int64(5),\n",
       " 195: np.int64(4),\n",
       " 196: np.int64(25),\n",
       " 197: np.int64(51),\n",
       " 198: np.int64(53),\n",
       " 199: np.int64(39),\n",
       " 200: np.int64(41),\n",
       " 201: np.int64(12),\n",
       " 202: np.int64(5),\n",
       " 203: np.int64(48),\n",
       " 204: np.int64(1),\n",
       " 205: np.int64(12),\n",
       " 206: np.int64(0),\n",
       " 207: np.int64(0),\n",
       " 208: np.int64(9),\n",
       " 209: np.int64(58),\n",
       " 210: np.int64(30),\n",
       " 211: np.int64(0),\n",
       " 212: np.int64(20),\n",
       " 213: np.int64(73),\n",
       " 214: np.int64(25),\n",
       " 215: np.int64(7)}"
      ]
     },
     "execution_count": 55,
     "metadata": {},
     "output_type": "execute_result"
    }
   ],
   "source": [
    "dict(vk)"
   ]
  },
  {
   "cell_type": "markdown",
   "id": "3a456cf1",
   "metadata": {},
   "source": [
    "## Membership operation"
   ]
  },
  {
   "cell_type": "code",
   "execution_count": 56,
   "id": "78cbdbbd",
   "metadata": {},
   "outputs": [
    {
     "data": {
      "text/plain": [
       "match_no\n",
       "1       1\n",
       "2      23\n",
       "3      13\n",
       "4      12\n",
       "5       1\n",
       "       ..\n",
       "211     0\n",
       "212    20\n",
       "213    73\n",
       "214    25\n",
       "215     7\n",
       "Name: runs, Length: 215, dtype: int64"
      ]
     },
     "execution_count": 56,
     "metadata": {},
     "output_type": "execute_result"
    }
   ],
   "source": [
    "vk"
   ]
  },
  {
   "cell_type": "code",
   "execution_count": 58,
   "id": "6fa722b5",
   "metadata": {},
   "outputs": [
    {
     "data": {
      "text/plain": [
       "True"
      ]
     },
     "execution_count": 58,
     "metadata": {},
     "output_type": "execute_result"
    }
   ],
   "source": [
    "73 in vk"
   ]
  },
  {
   "cell_type": "markdown",
   "id": "a96a0d6f",
   "metadata": {},
   "source": [
    "## loop"
   ]
  },
  {
   "cell_type": "code",
   "execution_count": 64,
   "id": "a9c6ef52",
   "metadata": {},
   "outputs": [
    {
     "name": "stdout",
     "output_type": "stream",
     "text": [
      "1\n",
      "23\n",
      "13\n",
      "12\n",
      "1\n",
      "9\n",
      "34\n",
      "0\n",
      "21\n",
      "3\n",
      "10\n",
      "38\n",
      "3\n",
      "11\n",
      "50\n",
      "2\n",
      "22\n",
      "19\n",
      "16\n",
      "15\n",
      "20\n",
      "38\n",
      "19\n",
      "24\n",
      "7\n",
      "2\n",
      "16\n",
      "17\n",
      "24\n",
      "38\n",
      "34\n",
      "42\n",
      "13\n",
      "58\n",
      "3\n",
      "14\n",
      "37\n",
      "9\n",
      "23\n",
      "12\n",
      "71\n",
      "35\n",
      "30\n",
      "56\n",
      "67\n",
      "27\n",
      "27\n",
      "39\n",
      "15\n",
      "11\n",
      "31\n",
      "70\n",
      "8\n",
      "35\n",
      "8\n",
      "6\n",
      "57\n",
      "22\n",
      "16\n",
      "4\n",
      "16\n",
      "18\n",
      "45\n",
      "9\n",
      "36\n",
      "9\n",
      "3\n",
      "73\n",
      "42\n",
      "24\n",
      "51\n",
      "35\n",
      "58\n",
      "65\n",
      "1\n",
      "11\n",
      "1\n",
      "32\n",
      "25\n",
      "57\n",
      "93\n",
      "99\n",
      "17\n",
      "14\n",
      "56\n",
      "49\n",
      "0\n",
      "31\n",
      "21\n",
      "4\n",
      "0\n",
      "35\n",
      "0\n",
      "4\n",
      "10\n",
      "27\n",
      "67\n",
      "38\n",
      "73\n",
      "13\n",
      "41\n",
      "18\n",
      "51\n",
      "62\n",
      "35\n",
      "1\n",
      "34\n",
      "48\n",
      "32\n",
      "82\n",
      "19\n",
      "44\n",
      "1\n",
      "12\n",
      "12\n",
      "75\n",
      "79\n",
      "33\n",
      "80\n",
      "100\n",
      "14\n",
      "52\n",
      "108\n",
      "20\n",
      "7\n",
      "109\n",
      "75\n",
      "113\n",
      "54\n",
      "0\n",
      "54\n",
      "62\n",
      "28\n",
      "64\n",
      "0\n",
      "10\n",
      "55\n",
      "20\n",
      "6\n",
      "5\n",
      "58\n",
      "31\n",
      "21\n",
      "57\n",
      "92\n",
      "30\n",
      "18\n",
      "68\n",
      "32\n",
      "8\n",
      "39\n",
      "70\n",
      "48\n",
      "12\n",
      "4\n",
      "6\n",
      "46\n",
      "3\n",
      "23\n",
      "84\n",
      "41\n",
      "67\n",
      "8\n",
      "100\n",
      "9\n",
      "13\n",
      "23\n",
      "25\n",
      "16\n",
      "18\n",
      "9\n",
      "7\n",
      "29\n",
      "1\n",
      "72\n",
      "43\n",
      "43\n",
      "90\n",
      "48\n",
      "14\n",
      "33\n",
      "50\n",
      "8\n",
      "6\n",
      "33\n",
      "33\n",
      "5\n",
      "72\n",
      "8\n",
      "12\n",
      "35\n",
      "5\n",
      "25\n",
      "5\n",
      "4\n",
      "25\n",
      "51\n",
      "53\n",
      "39\n",
      "41\n",
      "12\n",
      "5\n",
      "48\n",
      "1\n",
      "12\n",
      "0\n",
      "0\n",
      "9\n",
      "58\n",
      "30\n",
      "0\n",
      "20\n",
      "73\n",
      "25\n",
      "7\n"
     ]
    }
   ],
   "source": [
    "for i in vk:\n",
    "    print(i)"
   ]
  },
  {
   "cell_type": "code",
   "execution_count": 65,
   "id": "859e6015",
   "metadata": {},
   "outputs": [
    {
     "name": "stdout",
     "output_type": "stream",
     "text": [
      "1\n",
      "2\n",
      "3\n",
      "4\n",
      "5\n",
      "6\n",
      "7\n",
      "8\n",
      "9\n",
      "10\n",
      "11\n",
      "12\n",
      "13\n",
      "14\n",
      "15\n",
      "16\n",
      "17\n",
      "18\n",
      "19\n",
      "20\n",
      "21\n",
      "22\n",
      "23\n",
      "24\n",
      "25\n",
      "26\n",
      "27\n",
      "28\n",
      "29\n",
      "30\n",
      "31\n",
      "32\n",
      "33\n",
      "34\n",
      "35\n",
      "36\n",
      "37\n",
      "38\n",
      "39\n",
      "40\n",
      "41\n",
      "42\n",
      "43\n",
      "44\n",
      "45\n",
      "46\n",
      "47\n",
      "48\n",
      "49\n",
      "50\n",
      "51\n",
      "52\n",
      "53\n",
      "54\n",
      "55\n",
      "56\n",
      "57\n",
      "58\n",
      "59\n",
      "60\n",
      "61\n",
      "62\n",
      "63\n",
      "64\n",
      "65\n",
      "66\n",
      "67\n",
      "68\n",
      "69\n",
      "70\n",
      "71\n",
      "72\n",
      "73\n",
      "74\n",
      "75\n",
      "76\n",
      "77\n",
      "78\n",
      "79\n",
      "80\n",
      "81\n",
      "82\n",
      "83\n",
      "84\n",
      "85\n",
      "86\n",
      "87\n",
      "88\n",
      "89\n",
      "90\n",
      "91\n",
      "92\n",
      "93\n",
      "94\n",
      "95\n",
      "96\n",
      "97\n",
      "98\n",
      "99\n",
      "100\n",
      "101\n",
      "102\n",
      "103\n",
      "104\n",
      "105\n",
      "106\n",
      "107\n",
      "108\n",
      "109\n",
      "110\n",
      "111\n",
      "112\n",
      "113\n",
      "114\n",
      "115\n",
      "116\n",
      "117\n",
      "118\n",
      "119\n",
      "120\n",
      "121\n",
      "122\n",
      "123\n",
      "124\n",
      "125\n",
      "126\n",
      "127\n",
      "128\n",
      "129\n",
      "130\n",
      "131\n",
      "132\n",
      "133\n",
      "134\n",
      "135\n",
      "136\n",
      "137\n",
      "138\n",
      "139\n",
      "140\n",
      "141\n",
      "142\n",
      "143\n",
      "144\n",
      "145\n",
      "146\n",
      "147\n",
      "148\n",
      "149\n",
      "150\n",
      "151\n",
      "152\n",
      "153\n",
      "154\n",
      "155\n",
      "156\n",
      "157\n",
      "158\n",
      "159\n",
      "160\n",
      "161\n",
      "162\n",
      "163\n",
      "164\n",
      "165\n",
      "166\n",
      "167\n",
      "168\n",
      "169\n",
      "170\n",
      "171\n",
      "172\n",
      "173\n",
      "174\n",
      "175\n",
      "176\n",
      "177\n",
      "178\n",
      "179\n",
      "180\n",
      "181\n",
      "182\n",
      "183\n",
      "184\n",
      "185\n",
      "186\n",
      "187\n",
      "188\n",
      "189\n",
      "190\n",
      "191\n",
      "192\n",
      "193\n",
      "194\n",
      "195\n",
      "196\n",
      "197\n",
      "198\n",
      "199\n",
      "200\n",
      "201\n",
      "202\n",
      "203\n",
      "204\n",
      "205\n",
      "206\n",
      "207\n",
      "208\n",
      "209\n",
      "210\n",
      "211\n",
      "212\n",
      "213\n",
      "214\n",
      "215\n"
     ]
    }
   ],
   "source": [
    "for i in vk.index:\n",
    "    print(i)"
   ]
  },
  {
   "cell_type": "markdown",
   "id": "c95e1878",
   "metadata": {},
   "source": [
    "## Arithmetic operation"
   ]
  },
  {
   "cell_type": "code",
   "execution_count": 70,
   "id": "8241c182",
   "metadata": {},
   "outputs": [
    {
     "data": {
      "text/plain": [
       "match_no\n",
       "1      101\n",
       "2      123\n",
       "3      113\n",
       "4      112\n",
       "5      101\n",
       "      ... \n",
       "211    100\n",
       "212    120\n",
       "213    173\n",
       "214    125\n",
       "215    107\n",
       "Name: runs, Length: 215, dtype: int64"
      ]
     },
     "execution_count": 70,
     "metadata": {},
     "output_type": "execute_result"
    }
   ],
   "source": [
    "100 - vk\n",
    "100 + vk"
   ]
  },
  {
   "cell_type": "markdown",
   "id": "f12abf67",
   "metadata": {},
   "source": [
    "## Relational opr"
   ]
  },
  {
   "cell_type": "code",
   "execution_count": 76,
   "id": "9ba2885e",
   "metadata": {},
   "outputs": [
    {
     "data": {
      "text/plain": [
       "match_no\n",
       "1      False\n",
       "2      False\n",
       "3      False\n",
       "4      False\n",
       "5      False\n",
       "       ...  \n",
       "211    False\n",
       "212    False\n",
       "213     True\n",
       "214    False\n",
       "215    False\n",
       "Name: runs, Length: 215, dtype: bool"
      ]
     },
     "execution_count": 76,
     "metadata": {},
     "output_type": "execute_result"
    }
   ],
   "source": [
    "sorted(vk)\n",
    "vk >= 50"
   ]
  },
  {
   "cell_type": "code",
   "execution_count": 78,
   "id": "b524c32a",
   "metadata": {},
   "outputs": [
    {
     "data": {
      "text/plain": [
       "match_no\n",
       "34      58\n",
       "41      71\n",
       "44      56\n",
       "45      67\n",
       "52      70\n",
       "57      57\n",
       "68      73\n",
       "71      51\n",
       "73      58\n",
       "74      65\n",
       "80      57\n",
       "81      93\n",
       "82      99\n",
       "85      56\n",
       "97      67\n",
       "99      73\n",
       "103     51\n",
       "104     62\n",
       "110     82\n",
       "116     75\n",
       "117     79\n",
       "119     80\n",
       "120    100\n",
       "122     52\n",
       "123    108\n",
       "126    109\n",
       "127     75\n",
       "128    113\n",
       "129     54\n",
       "131     54\n",
       "132     62\n",
       "134     64\n",
       "137     55\n",
       "141     58\n",
       "144     57\n",
       "145     92\n",
       "148     68\n",
       "152     70\n",
       "160     84\n",
       "162     67\n",
       "164    100\n",
       "175     72\n",
       "178     90\n",
       "188     72\n",
       "197     51\n",
       "198     53\n",
       "209     58\n",
       "213     73\n",
       "Name: runs, dtype: int64"
      ]
     },
     "execution_count": 78,
     "metadata": {},
     "output_type": "execute_result"
    }
   ],
   "source": [
    "# boolean indexing on series\n",
    "\n",
    "vk[vk > 50]"
   ]
  },
  {
   "cell_type": "code",
   "execution_count": 79,
   "id": "cb516932",
   "metadata": {},
   "outputs": [
    {
     "data": {
      "text/plain": [
       "48"
      ]
     },
     "execution_count": 79,
     "metadata": {},
     "output_type": "execute_result"
    }
   ],
   "source": [
    "# boolean series with size\n",
    "\n",
    "vk[vk > 50].size"
   ]
  },
  {
   "cell_type": "code",
   "execution_count": 82,
   "id": "2fbca447",
   "metadata": {},
   "outputs": [
    {
     "data": {
      "text/plain": [
       "9"
      ]
     },
     "execution_count": 82,
     "metadata": {},
     "output_type": "execute_result"
    }
   ],
   "source": [
    "# find duck number in vk series\n",
    "\n",
    "vk[vk == 0].size"
   ]
  },
  {
   "cell_type": "code",
   "execution_count": 84,
   "id": "7c110af3",
   "metadata": {},
   "outputs": [
    {
     "data": {
      "text/plain": [
       "match_no\n",
       "123    108\n",
       "126    109\n",
       "128    113\n",
       "Name: runs, dtype: int64"
      ]
     },
     "execution_count": 84,
     "metadata": {},
     "output_type": "execute_result"
    }
   ],
   "source": [
    "# find number greater then 100\n",
    "\n",
    "vk[vk > 100]"
   ]
  },
  {
   "cell_type": "code",
   "execution_count": 89,
   "id": "bfb47158",
   "metadata": {},
   "outputs": [
    {
     "data": {
      "text/plain": [
       "lead\n",
       "Akshay Kumar        48\n",
       "Amitabh Bachchan    45\n",
       "Ajay Devgn          38\n",
       "Salman Khan         31\n",
       "Sanjay Dutt         26\n",
       "Shah Rukh Khan      22\n",
       "Emraan Hashmi       21\n",
       "Name: count, dtype: int64"
      ]
     },
     "execution_count": 89,
     "metadata": {},
     "output_type": "execute_result"
    }
   ],
   "source": [
    "# find actor who have done more than 20 movies\n",
    "\n",
    "num = bollywood.value_counts()\n",
    "num[num > 20]\n"
   ]
  },
  {
   "cell_type": "markdown",
   "id": "61f11fee",
   "metadata": {},
   "source": [
    "## Ploting graph on series\n"
   ]
  },
  {
   "cell_type": "code",
   "execution_count": 90,
   "id": "c7c0046b",
   "metadata": {},
   "outputs": [
    {
     "data": {
      "text/plain": [
       "<Axes: >"
      ]
     },
     "execution_count": 90,
     "metadata": {},
     "output_type": "execute_result"
    },
    {
     "data": {
      "image/png": "[encoded data removed]",
      "text/plain": [
       "<Figure size 640x480 with 1 Axes>"
      ]
     },
     "metadata": {},
     "output_type": "display_data"
    }
   ],
   "source": [
    "subs.plot()"
   ]
  },
  {
   "cell_type": "code",
   "execution_count": 91,
   "id": "179974a9",
   "metadata": {},
   "outputs": [
    {
     "data": {
      "text/plain": [
       "<Axes: xlabel='match_no'>"
      ]
     },
     "execution_count": 91,
     "metadata": {},
     "output_type": "execute_result"
    },
    {
     "data": {
      "image/png": "[encoded data removed]",
      "text/plain": [
       "<Figure size 640x480 with 1 Axes>"
      ]
     },
     "metadata": {},
     "output_type": "display_data"
    }
   ],
   "source": [
    "vk.plot()"
   ]
  },
  {
   "cell_type": "code",
   "execution_count": 95,
   "id": "5ccf1d8c",
   "metadata": {},
   "outputs": [
    {
     "data": {
      "text/plain": [
       "<Axes: xlabel='runs'>"
      ]
     },
     "execution_count": 95,
     "metadata": {},
     "output_type": "execute_result"
    },
    {
     "data": {
      "image/png": "[encoded data removed]",
      "text/plain": [
       "<Figure size 640x480 with 1 Axes>"
      ]
     },
     "metadata": {},
     "output_type": "display_data"
    }
   ],
   "source": [
    "vk.value_counts().head(20).plot(kind='bar')"
   ]
  },
  {
   "cell_type": "code",
   "execution_count": 96,
   "id": "6ba4506c",
   "metadata": {},
   "outputs": [
    {
     "data": {
      "text/plain": [
       "<Axes: ylabel='count'>"
      ]
     },
     "execution_count": 96,
     "metadata": {},
     "output_type": "execute_result"
    },
    {
     "data": {
      "image/png": "[encoded data removed]",
      "text/plain": [
       "<Figure size 640x480 with 1 Axes>"
      ]
     },
     "metadata": {},
     "output_type": "display_data"
    }
   ],
   "source": [
    "subs.value_counts().head(20).plot(kind='pie')"
   ]
  },
  {
   "cell_type": "markdown",
   "id": "bb392618",
   "metadata": {},
   "source": [
    "# Some important series method"
   ]
  },
  {
   "cell_type": "code",
   "execution_count": 98,
   "id": "6249425b",
   "metadata": {},
   "outputs": [
    {
     "data": {
      "text/plain": [
       "match_no\n",
       "1       1\n",
       "2      23\n",
       "3      13\n",
       "4      12\n",
       "5       1\n",
       "       ..\n",
       "211     0\n",
       "212    20\n",
       "213    73\n",
       "214    25\n",
       "215     7\n",
       "Name: runs, Length: 215, dtype: int16"
      ]
     },
     "execution_count": 98,
     "metadata": {},
     "output_type": "execute_result"
    }
   ],
   "source": [
    "#astype \n",
    "\n",
    "vk.astype('int16')"
   ]
  },
  {
   "cell_type": "code",
   "execution_count": null,
   "id": "9ce8afec",
   "metadata": {},
   "outputs": [],
   "source": [
    "import sys\n",
    "sys.getsizeof(vk)"
   ]
  },
  {
   "cell_type": "code",
   "execution_count": 102,
   "id": "0aadf4fa",
   "metadata": {},
   "outputs": [
    {
     "data": {
      "text/plain": [
       "47"
      ]
     },
     "execution_count": 102,
     "metadata": {},
     "output_type": "execute_result"
    }
   ],
   "source": [
    "#between\n",
    "vk[vk.between(50,100)].size"
   ]
  },
  {
   "cell_type": "code",
   "execution_count": 111,
   "id": "9f79724f",
   "metadata": {},
   "outputs": [
    {
     "data": {
      "text/plain": [
       "match_no\n",
       "1      50\n",
       "2      50\n",
       "3      50\n",
       "4      50\n",
       "5      50\n",
       "       ..\n",
       "211    50\n",
       "212    50\n",
       "213    73\n",
       "214    50\n",
       "215    50\n",
       "Name: runs, Length: 215, dtype: int64"
      ]
     },
     "execution_count": 111,
     "metadata": {},
     "output_type": "execute_result"
    }
   ],
   "source": [
    "#clip\n",
    "\n",
    "vk.clip(50,100)"
   ]
  },
  {
   "cell_type": "code",
   "execution_count": 113,
   "id": "4774a65f",
   "metadata": {},
   "outputs": [
    {
     "data": {
      "text/plain": [
       "0    1\n",
       "1    1\n",
       "2    2\n",
       "3    3\n",
       "4    3\n",
       "5    4\n",
       "6    5\n",
       "7    5\n",
       "dtype: int64"
      ]
     },
     "execution_count": 113,
     "metadata": {},
     "output_type": "execute_result"
    }
   ],
   "source": [
    "#drop_duplicates\n",
    "\n",
    "temp = pd.Series([1,1,2,3,3,4,5,5])\n",
    "\n",
    "temp"
   ]
  },
  {
   "cell_type": "code",
   "execution_count": null,
   "id": "9b8fbdfd",
   "metadata": {},
   "outputs": [
    {
     "data": {
      "text/plain": [
       "1    1\n",
       "2    2\n",
       "4    3\n",
       "5    4\n",
       "7    5\n",
       "dtype: int64"
      ]
     },
     "execution_count": 116,
     "metadata": {},
     "output_type": "execute_result"
    }
   ],
   "source": [
    "temp.drop_duplicates()\n",
    "temp.drop_duplicates(keep='last')\n"
   ]
  },
  {
   "cell_type": "code",
   "execution_count": null,
   "id": "0d80ce96",
   "metadata": {},
   "outputs": [
    {
     "name": "stdout",
     "output_type": "stream",
     "text": [
      "0     1.0\n",
      "1     2.0\n",
      "2     3.0\n",
      "3     NaN\n",
      "4     NaN\n",
      "5     6.0\n",
      "6     7.0\n",
      "7     8.0\n",
      "8     NaN\n",
      "9    10.0\n",
      "dtype: float64\n"
     ]
    }
   ],
   "source": [
    "\n",
    "\n",
    "temp = pd.Series([1,2,3,np.nan, np.nan, 6,7,8,np.nan, 10 ])\n",
    "print(temp)"
   ]
  },
  {
   "cell_type": "code",
   "execution_count": 120,
   "id": "41170091",
   "metadata": {},
   "outputs": [
    {
     "name": "stdout",
     "output_type": "stream",
     "text": [
      "7\n"
     ]
    }
   ],
   "source": [
    "# count and size.\n",
    "\n",
    "print(temp.count())"
   ]
  },
  {
   "cell_type": "code",
   "execution_count": 121,
   "id": "852d1a7d",
   "metadata": {},
   "outputs": [
    {
     "data": {
      "text/plain": [
       "10"
      ]
     },
     "execution_count": 121,
     "metadata": {},
     "output_type": "execute_result"
    }
   ],
   "source": [
    "temp.size"
   ]
  },
  {
   "cell_type": "code",
   "execution_count": 124,
   "id": "783a2767",
   "metadata": {},
   "outputs": [
    {
     "data": {
      "text/plain": [
       "np.int64(3)"
      ]
     },
     "execution_count": 124,
     "metadata": {},
     "output_type": "execute_result"
    }
   ],
   "source": [
    "#isnull\n",
    "temp.isnull().sum()"
   ]
  },
  {
   "cell_type": "code",
   "execution_count": 125,
   "id": "23f81716",
   "metadata": {},
   "outputs": [
    {
     "data": {
      "text/plain": [
       "0     1.0\n",
       "1     2.0\n",
       "2     3.0\n",
       "5     6.0\n",
       "6     7.0\n",
       "7     8.0\n",
       "9    10.0\n",
       "dtype: float64"
      ]
     },
     "execution_count": 125,
     "metadata": {},
     "output_type": "execute_result"
    }
   ],
   "source": [
    "#dropna\n",
    "temp.dropna()"
   ]
  },
  {
   "cell_type": "code",
   "execution_count": 126,
   "id": "dbaf99c6",
   "metadata": {},
   "outputs": [
    {
     "data": {
      "text/plain": [
       "0     1.0\n",
       "1     2.0\n",
       "2     3.0\n",
       "3     0.0\n",
       "4     0.0\n",
       "5     6.0\n",
       "6     7.0\n",
       "7     8.0\n",
       "8     0.0\n",
       "9    10.0\n",
       "dtype: float64"
      ]
     },
     "execution_count": 126,
     "metadata": {},
     "output_type": "execute_result"
    }
   ],
   "source": [
    "#fillna\n",
    "\n",
    "temp.fillna(0)"
   ]
  },
  {
   "cell_type": "code",
   "execution_count": 131,
   "id": "1e039a93",
   "metadata": {},
   "outputs": [
    {
     "data": {
      "text/plain": [
       "match_no\n",
       "15      50\n",
       "120    100\n",
       "164    100\n",
       "182     50\n",
       "Name: runs, dtype: int64"
      ]
     },
     "execution_count": 131,
     "metadata": {},
     "output_type": "execute_result"
    }
   ],
   "source": [
    "#isin\n",
    "\n",
    "vk[vk.isin([50,100])]"
   ]
  },
  {
   "cell_type": "code",
   "execution_count": 135,
   "id": "6fb28a94",
   "metadata": {},
   "outputs": [
    {
     "data": {
      "text/plain": [
       "0       bad gay\n",
       "1       bad gay\n",
       "2       bad gay\n",
       "3       bad gay\n",
       "4       bad gay\n",
       "         ...   \n",
       "360    good day\n",
       "361    good day\n",
       "362    good day\n",
       "363    good day\n",
       "364    good day\n",
       "Name: Subscribers gained, Length: 365, dtype: object"
      ]
     },
     "execution_count": 135,
     "metadata": {},
     "output_type": "execute_result"
    }
   ],
   "source": [
    "#apply\n",
    "\n",
    "subs.apply(lambda x:'good day' if x > subs.mean() else 'bad gay')"
   ]
  },
  {
   "cell_type": "code",
   "execution_count": 137,
   "id": "ac561bef",
   "metadata": {},
   "outputs": [],
   "source": [
    "#copy\n",
    "\n",
    "new = vk.head()"
   ]
  },
  {
   "cell_type": "code",
   "execution_count": 139,
   "id": "9df8e839",
   "metadata": {},
   "outputs": [],
   "source": [
    "new[1] = 100"
   ]
  },
  {
   "cell_type": "code",
   "execution_count": 140,
   "id": "83c3c604",
   "metadata": {},
   "outputs": [
    {
     "data": {
      "text/plain": [
       "match_no\n",
       "1      100\n",
       "2       23\n",
       "3       13\n",
       "4       12\n",
       "5        1\n",
       "      ... \n",
       "211      0\n",
       "212     20\n",
       "213     73\n",
       "214     25\n",
       "215      7\n",
       "Name: runs, Length: 215, dtype: int64"
      ]
     },
     "execution_count": 140,
     "metadata": {},
     "output_type": "execute_result"
    }
   ],
   "source": [
    "vk"
   ]
  },
  {
   "cell_type": "code",
   "execution_count": null,
   "id": "2eba5103",
   "metadata": {},
   "outputs": [],
   "source": [
    "new = vk.head().copy()"
   ]
  },
  {
   "cell_type": "code",
   "execution_count": 151,
   "id": "79e20196",
   "metadata": {},
   "outputs": [
    {
     "data": {
      "text/plain": [
       "match_no\n",
       "1     1\n",
       "2    23\n",
       "3    13\n",
       "4    12\n",
       "5     1\n",
       "Name: runs, dtype: int64"
      ]
     },
     "execution_count": 151,
     "metadata": {},
     "output_type": "execute_result"
    }
   ],
   "source": [
    "new[1] = 1\n",
    "new"
   ]
  },
  {
   "cell_type": "code",
   "execution_count": 152,
   "id": "ffaf329c",
   "metadata": {},
   "outputs": [
    {
     "data": {
      "text/plain": [
       "match_no\n",
       "1       1\n",
       "2      23\n",
       "3      13\n",
       "4      12\n",
       "5       1\n",
       "       ..\n",
       "211     0\n",
       "212    20\n",
       "213    73\n",
       "214    25\n",
       "215     7\n",
       "Name: runs, Length: 215, dtype: int64"
      ]
     },
     "execution_count": 152,
     "metadata": {},
     "output_type": "execute_result"
    }
   ],
   "source": [
    "vk"
   ]
  },
  {
   "cell_type": "code",
   "execution_count": 153,
   "id": "cd8d6515",
   "metadata": {},
   "outputs": [
    {
     "data": {
      "text/plain": [
       "match_no\n",
       "1       1\n",
       "2      23\n",
       "3      13\n",
       "4      12\n",
       "5       1\n",
       "       ..\n",
       "211     0\n",
       "212    20\n",
       "213    73\n",
       "214    25\n",
       "215     7\n",
       "Name: runs, Length: 215, dtype: int64"
      ]
     },
     "execution_count": 153,
     "metadata": {},
     "output_type": "execute_result"
    }
   ],
   "source": [
    "vk"
   ]
  },
  {
   "cell_type": "code",
   "execution_count": 155,
   "id": "e898930f",
   "metadata": {},
   "outputs": [
    {
     "data": {
      "text/plain": [
       "match_no\n",
       "1     1\n",
       "2    23\n",
       "3    13\n",
       "4    12\n",
       "5     1\n",
       "Name: runs, dtype: int64"
      ]
     },
     "execution_count": 155,
     "metadata": {},
     "output_type": "execute_result"
    }
   ],
   "source": [
    "new = vk.head().copy()\n",
    "new"
   ]
  },
  {
   "cell_type": "code",
   "execution_count": 156,
   "id": "cef1e5ad",
   "metadata": {},
   "outputs": [
    {
     "data": {
      "text/plain": [
       "match_no\n",
       "1    100\n",
       "2     23\n",
       "3     13\n",
       "4     12\n",
       "5      1\n",
       "Name: runs, dtype: int64"
      ]
     },
     "execution_count": 156,
     "metadata": {},
     "output_type": "execute_result"
    }
   ],
   "source": [
    "new[1] = 100\n",
    "new"
   ]
  },
  {
   "cell_type": "code",
   "execution_count": 157,
   "id": "5173e767",
   "metadata": {},
   "outputs": [
    {
     "data": {
      "text/plain": [
       "match_no\n",
       "1       1\n",
       "2      23\n",
       "3      13\n",
       "4      12\n",
       "5       1\n",
       "       ..\n",
       "211     0\n",
       "212    20\n",
       "213    73\n",
       "214    25\n",
       "215     7\n",
       "Name: runs, Length: 215, dtype: int64"
      ]
     },
     "execution_count": 157,
     "metadata": {},
     "output_type": "execute_result"
    }
   ],
   "source": [
    "vk"
   ]
  },
  {
   "cell_type": "markdown",
   "id": "252e6a64",
   "metadata": {},
   "source": []
  }
 ],
 "metadata": {
  "kernelspec": {
   "display_name": "venv (3.13.5)",
   "language": "python",
   "name": "python3"
  },
  "language_info": {
   "codemirror_mode": {
    "name": "ipython",
    "version": 3
   },
   "file_extension": ".py",
   "mimetype": "text/x-python",
   "name": "python",
   "nbconvert_exporter": "python",
   "pygments_lexer": "ipython3",
   "version": "3.13.5"
  }
 },
 "nbformat": 4,
 "nbformat_minor": 5
}
