{
 "cells": [
  {
   "cell_type": "markdown",
   "id": "01384d8c",
   "metadata": {},
   "source": [
    "## Pandas"
   ]
  },
  {
   "cell_type": "markdown",
   "id": "f8c40c56",
   "metadata": {},
   "source": [
    "Pandas ia a powerful and versatile py library specially designed for data manipulation and analysis.\n",
    "Its provide data structure like series and Dataframe.\n",
    "1 series: A 1D labeled array (like excel column).\n",
    "2 datafrome: A 2B labeled array data table (excelSheet, sql table)"
   ]
  },
  {
   "cell_type": "code",
   "execution_count": 1,
   "id": "01395595",
   "metadata": {},
   "outputs": [],
   "source": [
    "import numpy as np\n",
    "import pandas as pd"
   ]
  },
  {
   "cell_type": "code",
   "execution_count": null,
   "id": "66fc082d",
   "metadata": {},
   "outputs": [
    {
     "data": {
      "text/plain": [
       "0     Pakistan\n",
       "1        India\n",
       "2    Banladesh\n",
       "3         Oman\n",
       "4        Dubai\n",
       "dtype: object"
      ]
     },
     "execution_count": 3,
     "metadata": {},
     "output_type": "execute_result"
    }
   ],
   "source": [
    "country = [\"Pakistan\", \"India\", \"Bangladesh\", \"Oman\", \"Dubai\"]\n",
    "\n",
    "pd.Series(country)"
   ]
  },
  {
   "cell_type": "code",
   "execution_count": 4,
   "id": "d0f55c62",
   "metadata": {},
   "outputs": [
    {
     "data": {
      "text/plain": [
       "0    20\n",
       "1    40\n",
       "2    55\n",
       "3    90\n",
       "4    10\n",
       "dtype: int64"
      ]
     },
     "execution_count": 4,
     "metadata": {},
     "output_type": "execute_result"
    }
   ],
   "source": [
    "score = [20,40,55,90,10]\n",
    "\n",
    "pd.Series(score)"
   ]
  },
  {
   "cell_type": "code",
   "execution_count": 19,
   "id": "316ae873",
   "metadata": {},
   "outputs": [
    {
     "name": "stdout",
     "output_type": "stream",
     "text": [
      "Country:     country Code:\n"
     ]
    },
    {
     "data": {
      "text/plain": [
       "Pakistan      4\n",
       "India         9\n",
       "Bangladesh    4\n",
       "Oman          3\n",
       "Dubai         6\n",
       "dtype: int64"
      ]
     },
     "execution_count": 19,
     "metadata": {},
     "output_type": "execute_result"
    }
   ],
   "source": [
    "#custom index\n",
    "country = [\"Pakistan\", \"India\", \"Bangladesh\", \"Oman\", \"Dubai\"]\n",
    "countryCode = [4,9,4,3,6]\n",
    "\n",
    "print(\"Country:\"+ \"     \" +\"country Code:\")\n",
    "pd.Series(countryCode, country)\n"
   ]
  },
  {
   "cell_type": "code",
   "execution_count": 35,
   "id": "e747f898",
   "metadata": {},
   "outputs": [
    {
     "data": {
      "text/plain": [
       "maths       50\n",
       "english     60\n",
       "Urdu        90\n",
       "Biology    100\n",
       "dtype: int64"
      ]
     },
     "execution_count": 35,
     "metadata": {},
     "output_type": "execute_result"
    }
   ],
   "source": [
    "#dict\n",
    "\n",
    "marks = {\n",
    "    'maths': 50,\n",
    "    'english': 60,\n",
    "    'Urdu': 90,\n",
    "    'Biology': 100\n",
    "}\n",
    "\n",
    "pd.Series(marks, index=marks)"
   ]
  },
  {
   "cell_type": "markdown",
   "id": "78fcac21",
   "metadata": {},
   "source": [
    "Series Attribues "
   ]
  },
  {
   "cell_type": "code",
   "execution_count": 37,
   "id": "4a28ff4c",
   "metadata": {},
   "outputs": [
    {
     "ename": "AttributeError",
     "evalue": "'dict' object has no attribute 'size'",
     "output_type": "error",
     "traceback": [
      "\u001b[31m---------------------------------------------------------------------------\u001b[39m",
      "\u001b[31mAttributeError\u001b[39m                            Traceback (most recent call last)",
      "\u001b[36mCell\u001b[39m\u001b[36m \u001b[39m\u001b[32mIn[37]\u001b[39m\u001b[32m, line 3\u001b[39m\n\u001b[32m      1\u001b[39m \u001b[38;5;66;03m#size\u001b[39;00m\n\u001b[32m----> \u001b[39m\u001b[32m3\u001b[39m \u001b[43mmarks\u001b[49m\u001b[43m.\u001b[49m\u001b[43msize\u001b[49m\n",
      "\u001b[31mAttributeError\u001b[39m: 'dict' object has no attribute 'size'"
     ]
    }
   ],
   "source": [
    "#size\n",
    "\n",
    "marks.size"
   ]
  },
  {
   "cell_type": "code",
   "execution_count": null,
   "id": "1a75531d",
   "metadata": {},
   "outputs": [],
   "source": []
  }
 ],
 "metadata": {
  "kernelspec": {
   "display_name": "venv (3.13.5)",
   "language": "python",
   "name": "python3"
  },
  "language_info": {
   "codemirror_mode": {
    "name": "ipython",
    "version": 3
   },
   "file_extension": ".py",
   "mimetype": "text/x-python",
   "name": "python",
   "nbconvert_exporter": "python",
   "pygments_lexer": "ipython3",
   "version": "3.13.5"
  }
 },
 "nbformat": 4,
 "nbformat_minor": 5
}
