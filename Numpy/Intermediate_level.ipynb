{
 "cells": [
  {
   "cell_type": "markdown",
   "id": "fd231176",
   "metadata": {},
   "source": [
    "## Intermediate NumPy Project Ideas"
   ]
  },
  {
   "cell_type": "code",
   "execution_count": 1,
   "id": "5f979f3a",
   "metadata": {},
   "outputs": [],
   "source": [
    "import numpy as np"
   ]
  },
  {
   "cell_type": "markdown",
   "id": "6d4060b5",
   "metadata": {},
   "source": [
    "### 1. Image Processing (Grayscale & Color)"
   ]
  },
  {
   "cell_type": "markdown",
   "id": "dc27ab1d",
   "metadata": {},
   "source": [
    "### 2. Weather Data Simulation & Analysis"
   ]
  },
  {
   "cell_type": "code",
   "execution_count": 32,
   "id": "ad0ed1e1",
   "metadata": {},
   "outputs": [
    {
     "name": "stdout",
     "output_type": "stream",
     "text": [
      "Weather per city\n",
      "   Peshawar Lahor Islamabad\n",
      "Day 1  →  39 33 37\n",
      "Day 2  →  36 35 38\n",
      "Day 3  →  36 36 32\n",
      "Day 4  →  31 37 31\n",
      "Day 5  →  35 32 37\n",
      "Average of these days: 35.00°C\n",
      "Hottest Day: 39°C\n",
      "Coldest Day: 31°C\n",
      "Variation between Days: 2.50\n",
      "days above 35°C: [39 37 36 38 36 36 37 37]\n",
      "[39 38 36 37 37]\n"
     ]
    }
   ],
   "source": [
    "np.random.seed(400)\n",
    "weathers = np.random.randint(30, 40, 15).reshape(5,3)\n",
    "\n",
    "print(\"Weather per city\")\n",
    "cities = [\"Peshawar\", \"Lahor\", \"Islamabad\"]\n",
    "days = [\"Day 1\", \"Day 2\", \"Day 3\", \"Day 4\", \"Day 5\"]\n",
    "\n",
    "print('  ',' '.join(cities))\n",
    "for i, row in enumerate(weathers):\n",
    "    print(days[i], \" → \", \" \".join(map(str, row)))\n",
    "\n",
    "mean = np.mean(weathers)\n",
    "print(f\"Average of these days: {mean:.2f}°C\")\n",
    "\n",
    "hottest_day = np.max(weathers)\n",
    "print(f\"Hottest Day: {hottest_day}°C\")\n",
    "\n",
    "coldest_day = np.min(weathers)\n",
    "print(f\"Coldest Day: {coldest_day}°C\")\n",
    "\n",
    "variation = np.std(weathers)\n",
    "print(f\"Variation between Days: {variation:.2f}\")\n",
    "\n",
    "mask = weathers > 35\n",
    "print(f\"days above 35°C: {weathers[mask]}\")\n",
    "\n",
    "hottestPerDay = np.max(weathers, axis=1)\n",
    "print(hottestPerDay)\n",
    "\n"
   ]
  },
  {
   "cell_type": "markdown",
   "id": "02c4f84b",
   "metadata": {},
   "source": [
    "\n",
    "### 3. Dice & Probability Simulator"
   ]
  },
  {
   "cell_type": "code",
   "execution_count": 61,
   "id": "b7bf1374",
   "metadata": {},
   "outputs": [
    {
     "name": "stdout",
     "output_type": "stream",
     "text": [
      "[3 6 1 4 3 5 5 3 3 3 1 3 1 4 3 2 3 2 5 5 6 2 3 6 2 4 1 4 3 6]\n",
      "1: 4 time(s) 13.3%\n",
      "2: 4 time(s) 13.3%\n",
      "3: 10 time(s) 33.3%\n",
      "4: 4 time(s) 13.3%\n",
      "5: 4 time(s) 13.3%\n",
      "6: 4 time(s) 13.3%\n"
     ]
    }
   ],
   "source": [
    "rolls_dice = 30\n",
    "\n",
    "rolls = np.random.randint(1,7, rolls_dice)\n",
    "\n",
    "values, counts = np.unique(rolls, return_counts=True)\n",
    "\n",
    "percentage = (counts / rolls_dice) * 100\n",
    "\n",
    "print(rolls)\n",
    "\n",
    "\n",
    "for v, c, p in zip(values, counts, percentage):\n",
    "    print(f\"{v}: {c} time(s) {p:.1f}%\")\n",
    "\n"
   ]
  },
  {
   "cell_type": "markdown",
   "id": "2688c977",
   "metadata": {},
   "source": [
    "### 4. Stock Market Analysis"
   ]
  },
  {
   "cell_type": "code",
   "execution_count": 76,
   "id": "ecf7876b",
   "metadata": {},
   "outputs": [
    {
     "name": "stdout",
     "output_type": "stream",
     "text": [
      "[878 848 670 792 775 666 637 721 728 557]\n",
      "Daily Changes:  [ -30 -178  122  -17 -109  -29   84    7 -171]\n",
      "Average Rate: 727.2\n",
      "[ 878 1726 2396 3188 3963 4629 5266 5987 6715 7272]\n",
      "[                 878               744544            498844480\n",
      "         395084828160      306190741824000   203923034054784000\n",
      "   771764176930546688  3039649355637613568  -744557940963516416\n",
      " -8890403495068508160]\n"
     ]
    }
   ],
   "source": [
    "np.random.seed(400)\n",
    "closing_prices = np.random.randint(530, 905, 10)\n",
    "\n",
    "print(closing_prices)\n",
    "\n",
    "daily_changes = np.diff(closing_prices)\n",
    "print(f\"Daily Changes: \", daily_changes)\n",
    "\n",
    "average = np.mean(closing_prices)\n",
    "print(f\"Average Rate: {average}\")\n",
    "\n",
    "total_sum = np.cumsum(closing_prices)\n",
    "print(total_sum)\n",
    "\n",
    "total_sum = np.cumprod(closing_prices)\n",
    "print(total_sum)\n",
    "\n",
    "\n"
   ]
  },
  {
   "cell_type": "markdown",
   "id": "5975f55a",
   "metadata": {},
   "source": [
    "### 5. Mini Recommender System"
   ]
  },
  {
   "cell_type": "code",
   "execution_count": null,
   "id": "dc172f19",
   "metadata": {},
   "outputs": [
    {
     "name": "stdout",
     "output_type": "stream",
     "text": [
      "[[5 2 5 4]\n",
      " [1 4 4 3]\n",
      " [2 2 3 5]\n",
      " [4 2 3 5]]\n",
      "Item1 Item2 Item3 Item4\n",
      "Day 1  →  5 2 5 4\n",
      "Day 2  →  1 4 4 3\n",
      "Day 3  →  2 2 3 5\n",
      "Day 4  →  4 2 3 5\n",
      "[3.   2.5  3.75 4.25]\n"
     ]
    }
   ],
   "source": [
    "np.random.seed(400)\n",
    "rating = np.random.randint(1,6, 16).reshape(4,4)\n",
    "\n",
    "print(rating)\n",
    "\n",
    "print('Item1', 'Item2', 'Item3', 'Item4',)\n",
    "users = ['User1', 'User2', 'User3', 'User4']\n",
    "\n",
    "for i, row in enumerate(rating):\n",
    "    print(days[i], \" → \", \" \".join(map(str, row)))\n",
    "average_row = np.mean(rating, axis=0)\n",
    "print(average_row)"
   ]
  },
  {
   "cell_type": "markdown",
   "id": "f201278a",
   "metadata": {},
   "source": [
    "### 6. Matrix & Linear Algebra Projects"
   ]
  },
  {
   "cell_type": "code",
   "execution_count": 92,
   "id": "d3001fe1",
   "metadata": {},
   "outputs": [
    {
     "name": "stdout",
     "output_type": "stream",
     "text": [
      "Matrix:\n",
      " [[4 8 7 6]\n",
      " [9 7 7 3]\n",
      " [2 8 2 6]\n",
      " [3 8 6 5]]\n",
      "\n",
      "Transpose:\n",
      " [[4 9 2 3]\n",
      " [8 7 8 8]\n",
      " [7 7 2 6]\n",
      " [6 3 6 5]]\n",
      "\n",
      "Determinant: -260.00000000000017\n",
      "\n",
      "Inverse:\n",
      " [[ 0.11538462  0.15384615  0.09615385 -0.34615385]\n",
      " [-0.61538462  0.04615385  0.05384615  0.64615385]\n",
      " [ 0.15384615 -0.06153846 -0.23846154  0.13846154]\n",
      " [ 0.73076923 -0.09230769  0.14230769 -0.79230769]]\n"
     ]
    }
   ],
   "source": [
    "import numpy as np\n",
    "\n",
    "np.random.seed(400)\n",
    "\n",
    "\n",
    "matrix = np.random.randint(1, 10, 16).reshape(4, 4)\n",
    "print(\"Matrix:\\n\", matrix)\n",
    "\n",
    "\n",
    "transpose = matrix.T\n",
    "print(\"\\nTranspose:\\n\", transpose)\n",
    "\n",
    "\n",
    "determinant = np.linalg.det(matrix)\n",
    "print(\"\\nDeterminant:\", determinant)\n",
    "\n",
    "if determinant != 0:\n",
    "    inverse = np.linalg.inv(matrix)\n",
    "    print(\"\\nInverse:\\n\", inverse)\n",
    "else:\n",
    "    print(\"\\nMatrix is singular (no inverse possible)\")\n"
   ]
  }
 ],
 "metadata": {
  "kernelspec": {
   "display_name": "venv (3.13.5)",
   "language": "python",
   "name": "python3"
  },
  "language_info": {
   "codemirror_mode": {
    "name": "ipython",
    "version": 3
   },
   "file_extension": ".py",
   "mimetype": "text/x-python",
   "name": "python",
   "nbconvert_exporter": "python",
   "pygments_lexer": "ipython3",
   "version": "3.13.5"
  }
 },
 "nbformat": 4,
 "nbformat_minor": 5
}
