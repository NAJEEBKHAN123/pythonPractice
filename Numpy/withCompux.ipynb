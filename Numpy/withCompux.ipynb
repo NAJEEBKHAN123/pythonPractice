{
 "cells": [
  {
   "cell_type": "markdown",
   "id": "1f23bb7e",
   "metadata": {},
   "source": [
    "#### everything with compusX"
   ]
  },
  {
   "cell_type": "code",
   "execution_count": 2,
   "id": "df2afcf4",
   "metadata": {},
   "outputs": [],
   "source": [
    "import numpy as np"
   ]
  },
  {
   "cell_type": "code",
   "execution_count": 3,
   "id": "a97416be",
   "metadata": {},
   "outputs": [],
   "source": [
    "arr1 = np.array([1,2,3,4,5,6,7,8,9,4])\n",
    "arr2 = np.array([[1,2,3,4], [6,7,8,9]])\n",
    "arr3 = np.array([[[1,2,3], [4,5,6]], [[7,8,9], [10,11,12]]])"
   ]
  },
  {
   "cell_type": "code",
   "execution_count": 4,
   "id": "88fa41df",
   "metadata": {},
   "outputs": [
    {
     "data": {
      "text/plain": [
       "array([1, 2, 3, 4, 5, 6, 7, 8, 9, 4])"
      ]
     },
     "execution_count": 4,
     "metadata": {},
     "output_type": "execute_result"
    }
   ],
   "source": [
    "arr1"
   ]
  },
  {
   "cell_type": "markdown",
   "id": "653a58d4",
   "metadata": {},
   "source": [
    "### changing array"
   ]
  },
  {
   "cell_type": "code",
   "execution_count": 5,
   "id": "88c4a050",
   "metadata": {},
   "outputs": [
    {
     "name": "stdout",
     "output_type": "stream",
     "text": [
      "int64\n"
     ]
    }
   ],
   "source": [
    "print(arr1.dtype)"
   ]
  },
  {
   "cell_type": "code",
   "execution_count": 6,
   "id": "6747bb9e",
   "metadata": {},
   "outputs": [
    {
     "data": {
      "text/plain": [
       "array([1, 2, 3, 4, 5, 6, 7, 8, 9, 4], dtype=int32)"
      ]
     },
     "execution_count": 6,
     "metadata": {},
     "output_type": "execute_result"
    }
   ],
   "source": [
    "arr1.astype(np.int32)"
   ]
  },
  {
   "cell_type": "markdown",
   "id": "6e001334",
   "metadata": {},
   "source": [
    "### Array operation"
   ]
  },
  {
   "cell_type": "markdown",
   "id": "f2338401",
   "metadata": {},
   "source": [
    "#### scalar operator"
   ]
  },
  {
   "cell_type": "code",
   "execution_count": 7,
   "id": "281906af",
   "metadata": {},
   "outputs": [
    {
     "name": "stdout",
     "output_type": "stream",
     "text": [
      "[[ 2  4  6  8]\n",
      " [12 14 16 18]]\n"
     ]
    }
   ],
   "source": [
    "res = arr2 * 2\n",
    "print(res)"
   ]
  },
  {
   "cell_type": "markdown",
   "id": "dbb8c90c",
   "metadata": {},
   "source": [
    "#### vector operator"
   ]
  },
  {
   "cell_type": "code",
   "execution_count": 8,
   "id": "13edb4eb",
   "metadata": {},
   "outputs": [
    {
     "name": "stdout",
     "output_type": "stream",
     "text": [
      "[[1 2 3]\n",
      " [4 5 6]]\n",
      "[[7 8 9]\n",
      " [4 5 6]]\n",
      "[[ 8 10 12]\n",
      " [ 8 10 12]]\n"
     ]
    }
   ],
   "source": [
    "a1 = np.array([[1,2,3], [4,5,6]])\n",
    "a2 = np.array([[7,8,9], [4,5,6]])\n",
    "print(a1)\n",
    "print(a2)\n",
    "\n",
    "print((a1 + a2))"
   ]
  },
  {
   "cell_type": "code",
   "execution_count": 9,
   "id": "556f00a4",
   "metadata": {},
   "outputs": [
    {
     "name": "stdout",
     "output_type": "stream",
     "text": [
      "[[86. 90. 76.]\n",
      " [98. 66. 54.]\n",
      " [59. 60.  6.]]\n"
     ]
    }
   ],
   "source": [
    "\n",
    "arr = np.random.random((3,3))\n",
    "arr = np.round(arr * 100)\n",
    "print(arr)"
   ]
  },
  {
   "cell_type": "markdown",
   "id": "0b6c7222",
   "metadata": {},
   "source": [
    "### max, min, sum, prod"
   ]
  },
  {
   "cell_type": "code",
   "execution_count": 10,
   "id": "5813baa7",
   "metadata": {},
   "outputs": [
    {
     "data": {
      "text/plain": [
       "np.int64(9)"
      ]
     },
     "execution_count": 10,
     "metadata": {},
     "output_type": "execute_result"
    }
   ],
   "source": [
    "np.max(arr1)"
   ]
  },
  {
   "cell_type": "code",
   "execution_count": 11,
   "id": "559c2efd",
   "metadata": {},
   "outputs": [
    {
     "data": {
      "text/plain": [
       "np.int64(9)"
      ]
     },
     "execution_count": 11,
     "metadata": {},
     "output_type": "execute_result"
    }
   ],
   "source": [
    "np.max(arr2)"
   ]
  },
  {
   "cell_type": "code",
   "execution_count": 12,
   "id": "574313a3",
   "metadata": {},
   "outputs": [
    {
     "data": {
      "text/plain": [
       "np.int64(1)"
      ]
     },
     "execution_count": 12,
     "metadata": {},
     "output_type": "execute_result"
    }
   ],
   "source": [
    "np.min(arr1)"
   ]
  },
  {
   "cell_type": "code",
   "execution_count": 13,
   "id": "c31acccc",
   "metadata": {},
   "outputs": [
    {
     "data": {
      "text/plain": [
       "np.int64(49)"
      ]
     },
     "execution_count": 13,
     "metadata": {},
     "output_type": "execute_result"
    }
   ],
   "source": [
    "np.sum(arr1)"
   ]
  },
  {
   "cell_type": "code",
   "execution_count": 14,
   "id": "5f2e166f",
   "metadata": {},
   "outputs": [
    {
     "data": {
      "text/plain": [
       "np.int64(1451520)"
      ]
     },
     "execution_count": 14,
     "metadata": {},
     "output_type": "execute_result"
    }
   ],
   "source": [
    "np.prod(arr1)"
   ]
  },
  {
   "cell_type": "code",
   "execution_count": 15,
   "id": "9c99a11d",
   "metadata": {},
   "outputs": [
    {
     "data": {
      "text/plain": [
       "array([  24, 3024])"
      ]
     },
     "execution_count": 15,
     "metadata": {},
     "output_type": "execute_result"
    }
   ],
   "source": [
    "np.prod(arr2, axis=1)"
   ]
  },
  {
   "cell_type": "markdown",
   "id": "379aa471",
   "metadata": {},
   "source": [
    "### mean, median"
   ]
  },
  {
   "cell_type": "code",
   "execution_count": 16,
   "id": "f71ccb11",
   "metadata": {},
   "outputs": [
    {
     "data": {
      "text/plain": [
       "np.float64(4.9)"
      ]
     },
     "execution_count": 16,
     "metadata": {},
     "output_type": "execute_result"
    }
   ],
   "source": [
    "np.mean(arr1)"
   ]
  },
  {
   "cell_type": "code",
   "execution_count": 17,
   "id": "61aa5818",
   "metadata": {},
   "outputs": [
    {
     "data": {
      "text/plain": [
       "np.float64(4.5)"
      ]
     },
     "execution_count": 17,
     "metadata": {},
     "output_type": "execute_result"
    }
   ],
   "source": [
    "np.median(arr1)"
   ]
  },
  {
   "cell_type": "markdown",
   "id": "6c571e57",
   "metadata": {},
   "source": [
    "### dot product"
   ]
  },
  {
   "cell_type": "markdown",
   "id": "f60c9780",
   "metadata": {},
   "source": [
    "the dot product is possible when the 4x3 and 3x4 something like this the first matrix column and the second matrix row equal then possible otherwise not possible ..."
   ]
  },
  {
   "cell_type": "code",
   "execution_count": 18,
   "id": "f5512567",
   "metadata": {},
   "outputs": [
    {
     "data": {
      "text/plain": [
       "array([[ 42,  48,  54],\n",
       "       [114, 136, 158],\n",
       "       [186, 224, 262]])"
      ]
     },
     "execution_count": 18,
     "metadata": {},
     "output_type": "execute_result"
    }
   ],
   "source": [
    "a1 = np.arange(12).reshape(3,4)\n",
    "a2 = np.arange(12).reshape(4,3)\n",
    "\n",
    "np.dot(a1, a2)"
   ]
  },
  {
   "cell_type": "markdown",
   "id": "77a03ece",
   "metadata": {},
   "source": [
    "## Round, floor, ceil"
   ]
  },
  {
   "cell_type": "code",
   "execution_count": 19,
   "id": "d1893014",
   "metadata": {},
   "outputs": [
    {
     "name": "stdout",
     "output_type": "stream",
     "text": [
      "[9.02845028]\n",
      "[9.]\n"
     ]
    }
   ],
   "source": [
    "arr = np.random.random(1)\n",
    "print(arr * 10)\n",
    "\n",
    "\n",
    "arr = np.round(arr * 10)\n",
    "\n",
    "print(arr)"
   ]
  },
  {
   "cell_type": "code",
   "execution_count": 20,
   "id": "6c40ed43",
   "metadata": {},
   "outputs": [
    {
     "name": "stdout",
     "output_type": "stream",
     "text": [
      "[0.5239056]\n",
      "[0.]\n"
     ]
    }
   ],
   "source": [
    "arr = np.random.random(1)\n",
    "print(arr * 10)\n",
    "\n",
    "arr = np.floor(arr * 10)\n",
    "\n",
    "print(arr)"
   ]
  },
  {
   "cell_type": "code",
   "execution_count": 21,
   "id": "f5426181",
   "metadata": {},
   "outputs": [
    {
     "name": "stdout",
     "output_type": "stream",
     "text": [
      "[1.42065012]\n",
      "[2.]\n"
     ]
    }
   ],
   "source": [
    "arr = np.random.random(1)\n",
    "print(arr * 10)\n",
    "\n",
    "arr = np.ceil(arr * 10)\n",
    "\n",
    "print(arr)"
   ]
  },
  {
   "cell_type": "markdown",
   "id": "114f32cd",
   "metadata": {},
   "source": [
    "### indexing and slicing"
   ]
  },
  {
   "cell_type": "markdown",
   "id": "81c9d92a",
   "metadata": {},
   "source": [
    "#### indexing"
   ]
  },
  {
   "cell_type": "code",
   "execution_count": 22,
   "id": "0ef459ed",
   "metadata": {},
   "outputs": [
    {
     "name": "stdout",
     "output_type": "stream",
     "text": [
      "3\n"
     ]
    }
   ],
   "source": [
    "print(arr1[2])"
   ]
  },
  {
   "cell_type": "code",
   "execution_count": 23,
   "id": "8968a6d3",
   "metadata": {},
   "outputs": [
    {
     "name": "stdout",
     "output_type": "stream",
     "text": [
      "8\n"
     ]
    }
   ],
   "source": [
    "print(arr2[1, 2])"
   ]
  },
  {
   "cell_type": "code",
   "execution_count": 24,
   "id": "f3edb132",
   "metadata": {},
   "outputs": [
    {
     "name": "stdout",
     "output_type": "stream",
     "text": [
      "12\n"
     ]
    }
   ],
   "source": [
    "print(arr3[1, 1, 2])"
   ]
  },
  {
   "cell_type": "markdown",
   "id": "04631688",
   "metadata": {},
   "source": [
    "### slicing"
   ]
  },
  {
   "cell_type": "code",
   "execution_count": 25,
   "id": "be43d711",
   "metadata": {},
   "outputs": [
    {
     "name": "stdout",
     "output_type": "stream",
     "text": [
      "[2 3 4 5 6 7]\n"
     ]
    }
   ],
   "source": [
    "print(arr1[1:7])"
   ]
  },
  {
   "cell_type": "code",
   "execution_count": 26,
   "id": "272904a6",
   "metadata": {},
   "outputs": [
    {
     "name": "stdout",
     "output_type": "stream",
     "text": [
      "[[1 2]\n",
      " [6 7]]\n"
     ]
    }
   ],
   "source": [
    "print(arr2[:, :2])"
   ]
  },
  {
   "cell_type": "code",
   "execution_count": 27,
   "id": "90714e04",
   "metadata": {},
   "outputs": [
    {
     "name": "stdout",
     "output_type": "stream",
     "text": [
      "[[[11 12]]]\n"
     ]
    }
   ],
   "source": [
    "print(arr3[1:, 1:, 1:])"
   ]
  },
  {
   "cell_type": "code",
   "execution_count": 28,
   "id": "31dbea67",
   "metadata": {},
   "outputs": [
    {
     "name": "stdout",
     "output_type": "stream",
     "text": [
      "1\n",
      "2\n",
      "3\n",
      "4\n",
      "5\n",
      "6\n",
      "7\n",
      "8\n",
      "9\n",
      "4\n"
     ]
    }
   ],
   "source": [
    "for i in arr1:\n",
    "    print(i)"
   ]
  },
  {
   "cell_type": "code",
   "execution_count": 29,
   "id": "696eab39",
   "metadata": {},
   "outputs": [
    {
     "name": "stdout",
     "output_type": "stream",
     "text": [
      "[1 2 3 4]\n",
      "[6 7 8 9]\n"
     ]
    }
   ],
   "source": [
    "for i in arr2:\n",
    "    print(i)"
   ]
  },
  {
   "cell_type": "code",
   "execution_count": 30,
   "id": "746abebc",
   "metadata": {},
   "outputs": [
    {
     "name": "stdout",
     "output_type": "stream",
     "text": [
      "[[1 2 3]\n",
      " [4 5 6]]\n",
      "[[ 7  8  9]\n",
      " [10 11 12]]\n"
     ]
    }
   ],
   "source": [
    "for i in arr3:\n",
    "    print(i)"
   ]
  },
  {
   "cell_type": "code",
   "execution_count": 31,
   "id": "4d07b7e5",
   "metadata": {},
   "outputs": [
    {
     "name": "stdout",
     "output_type": "stream",
     "text": [
      "1\n",
      "2\n",
      "3\n",
      "4\n",
      "5\n",
      "6\n",
      "7\n",
      "8\n",
      "9\n",
      "10\n",
      "11\n",
      "12\n"
     ]
    }
   ],
   "source": [
    "for i in np.nditer(arr3):\n",
    "    print(i)\n",
    "    "
   ]
  },
  {
   "cell_type": "markdown",
   "id": "ef0f2a36",
   "metadata": {},
   "source": [
    "### Reshaping "
   ]
  },
  {
   "cell_type": "markdown",
   "id": "9df30d38",
   "metadata": {},
   "source": [
    "#### Transpose "
   ]
  },
  {
   "cell_type": "code",
   "execution_count": 32,
   "id": "9f1340bf",
   "metadata": {},
   "outputs": [
    {
     "name": "stdout",
     "output_type": "stream",
     "text": [
      "[[1 6]\n",
      " [2 7]\n",
      " [3 8]\n",
      " [4 9]]\n"
     ]
    }
   ],
   "source": [
    "\n",
    "print(arr2.T)"
   ]
  },
  {
   "cell_type": "markdown",
   "id": "e7cfd700",
   "metadata": {},
   "source": [
    "ravel"
   ]
  },
  {
   "cell_type": "code",
   "execution_count": 33,
   "id": "0a4791d4",
   "metadata": {},
   "outputs": [
    {
     "name": "stdout",
     "output_type": "stream",
     "text": [
      "[1 2 3 4 6 7 8 9]\n"
     ]
    }
   ],
   "source": [
    "print(arr2.ravel())"
   ]
  },
  {
   "cell_type": "markdown",
   "id": "f0e91e64",
   "metadata": {},
   "source": [
    "### Stacking"
   ]
  },
  {
   "cell_type": "code",
   "execution_count": 34,
   "id": "63bc45e5",
   "metadata": {},
   "outputs": [
    {
     "data": {
      "text/plain": [
       "array([[1, 2, 3, 4, 5, 6],\n",
       "       [5, 4, 6, 4, 5, 6]])"
      ]
     },
     "execution_count": 34,
     "metadata": {},
     "output_type": "execute_result"
    }
   ],
   "source": [
    "a1 = np.array([1,2,3,4,5,6])\n",
    "a2 = np.array([5,4,6,4,5,6])\n",
    "\n",
    "np.vstack((a1, a2))"
   ]
  },
  {
   "cell_type": "code",
   "execution_count": 35,
   "id": "6c5a2e3c",
   "metadata": {},
   "outputs": [
    {
     "data": {
      "text/plain": [
       "array([1, 2, 3, 4, 5, 6, 5, 4, 6, 4, 5, 6])"
      ]
     },
     "execution_count": 35,
     "metadata": {},
     "output_type": "execute_result"
    }
   ],
   "source": [
    "np.hstack((a1,a2))"
   ]
  },
  {
   "cell_type": "markdown",
   "id": "7e93756e",
   "metadata": {},
   "source": [
    "### spliting"
   ]
  },
  {
   "cell_type": "code",
   "execution_count": 36,
   "id": "958e5d63",
   "metadata": {},
   "outputs": [
    {
     "name": "stdout",
     "output_type": "stream",
     "text": [
      "[array([[1, 2],\n",
      "       [6, 7]]), array([[3, 4],\n",
      "       [8, 9]])]\n"
     ]
    }
   ],
   "source": [
    "a2 = np.array([[1,2,3], [3,4,5], [6,5,4]])\n",
    "\n",
    "res = np.hsplit(arr2, 2)\n",
    "print(res)"
   ]
  },
  {
   "cell_type": "markdown",
   "id": "a35efa53",
   "metadata": {},
   "source": [
    "## advance indexing"
   ]
  },
  {
   "cell_type": "markdown",
   "id": "b0a94c8e",
   "metadata": {},
   "source": [
    "advance indexing mean when we play with the multi-dimensional array then we need to advance indexing concept two types 1. fancy 2. boolean"
   ]
  },
  {
   "cell_type": "markdown",
   "id": "f4988d93",
   "metadata": {},
   "source": [
    "#### Fancy"
   ]
  },
  {
   "cell_type": "code",
   "execution_count": 46,
   "id": "41b3b4ea",
   "metadata": {},
   "outputs": [
    {
     "name": "stdout",
     "output_type": "stream",
     "text": [
      "[[ 4  5  6  7]\n",
      " [ 8  9 10 11]\n",
      " [20 21 22 23]]\n"
     ]
    }
   ],
   "source": [
    "arr = np.arange(24).reshape(6,4)\n",
    "\n",
    "res = [1,2,5]\n",
    "\n",
    "print(arr[res])"
   ]
  },
  {
   "cell_type": "code",
   "execution_count": 53,
   "id": "f7808a9d",
   "metadata": {},
   "outputs": [
    {
     "name": "stdout",
     "output_type": "stream",
     "text": [
      "[[ 0  1  2]\n",
      " [ 4  5  6]\n",
      " [ 8  9 10]\n",
      " [12 13 14]\n",
      " [16 17 18]\n",
      " [20 21 22]]\n"
     ]
    }
   ],
   "source": [
    "arr = np.arange(24).reshape(6,4)\n",
    "\n",
    "col = [0,1,2]\n",
    "\n",
    "\n",
    "print(arr[:, col])"
   ]
  },
  {
   "cell_type": "markdown",
   "id": "fd41f1dc",
   "metadata": {},
   "source": [
    "Boolean mask"
   ]
  },
  {
   "cell_type": "code",
   "execution_count": 56,
   "id": "258a8780",
   "metadata": {},
   "outputs": [
    {
     "name": "stdout",
     "output_type": "stream",
     "text": [
      "[40 50 60]\n"
     ]
    }
   ],
   "source": [
    "arr = np.array([10, 20, 30, 40, 50, 60])\n",
    "\n",
    "mask = arr > 30\n",
    "\n",
    "print(arr[mask])\n",
    "\n"
   ]
  },
  {
   "cell_type": "code",
   "execution_count": 57,
   "id": "d8b6e761",
   "metadata": {},
   "outputs": [
    {
     "name": "stdout",
     "output_type": "stream",
     "text": [
      "[40 50 60]\n"
     ]
    }
   ],
   "source": [
    "arr = np.array([10, 20, 30, 40, 50, 60])\n",
    "\n",
    "print(arr[arr > 30])"
   ]
  },
  {
   "cell_type": "code",
   "execution_count": 60,
   "id": "d49427c1",
   "metadata": {},
   "outputs": [
    {
     "name": "stdout",
     "output_type": "stream",
     "text": [
      "[ 0  2  4  6  8 10 12 14 16 18 20 22]\n"
     ]
    }
   ],
   "source": [
    "arr = np.arange(24).reshape(6,4)\n",
    "\n",
    "mask = arr % 2 == 0\n",
    "\n",
    "print(arr[mask])"
   ]
  },
  {
   "cell_type": "code",
   "execution_count": 61,
   "id": "6ffd6c17",
   "metadata": {},
   "outputs": [
    {
     "name": "stdout",
     "output_type": "stream",
     "text": [
      "[12 14 16 18 20 22]\n"
     ]
    }
   ],
   "source": [
    "arr = np.arange(24).reshape(6,4)\n",
    "\n",
    "mask = (arr % 2 == 0) & (arr > 10)\n",
    "\n",
    "print(arr[mask])"
   ]
  },
  {
   "cell_type": "markdown",
   "id": "97255488",
   "metadata": {},
   "source": [
    "### broadcasting in array"
   ]
  },
  {
   "cell_type": "markdown",
   "id": "78bef2d2",
   "metadata": {},
   "source": [
    "broadcasting is the way numpy automatically stritech the smaller array to the match it into the larger array during the arithemtic operation"
   ]
  },
  {
   "cell_type": "code",
   "execution_count": 62,
   "id": "e925ea6a",
   "metadata": {},
   "outputs": [
    {
     "name": "stdout",
     "output_type": "stream",
     "text": [
      "[6 7 8 9]\n"
     ]
    }
   ],
   "source": [
    "arr = np.array([1,2,3,4])\n",
    "\n",
    "print(arr + 5)"
   ]
  },
  {
   "cell_type": "code",
   "execution_count": 63,
   "id": "254ea443",
   "metadata": {},
   "outputs": [
    {
     "name": "stdout",
     "output_type": "stream",
     "text": [
      "[11 12 13]\n"
     ]
    }
   ],
   "source": [
    "a = np.array([1, 2, 3])\n",
    "b = np.array([10])  \n",
    "\n",
    "print(a + b)"
   ]
  },
  {
   "cell_type": "code",
   "execution_count": 64,
   "id": "37a5a79e",
   "metadata": {},
   "outputs": [
    {
     "name": "stdout",
     "output_type": "stream",
     "text": [
      "[[11 22 33]\n",
      " [14 25 36]]\n"
     ]
    }
   ],
   "source": [
    "A = np.array([[1, 2, 3],\n",
    "              [4, 5, 6]])\n",
    "\n",
    "B = np.array([10, 20, 30])\n",
    "\n",
    "print(A+B)"
   ]
  },
  {
   "cell_type": "markdown",
   "id": "d0669e9b",
   "metadata": {},
   "source": [
    "### working with missing values"
   ]
  },
  {
   "cell_type": "code",
   "execution_count": 65,
   "id": "126e442a",
   "metadata": {},
   "outputs": [
    {
     "name": "stdout",
     "output_type": "stream",
     "text": [
      "[ 1.  2.  3.  4. nan  6.]\n"
     ]
    }
   ],
   "source": [
    "arr = np.array([1, 2, 3, 4, np.nan, 6])\n",
    "\n",
    "print(arr)"
   ]
  },
  {
   "cell_type": "code",
   "execution_count": 68,
   "id": "521628d9",
   "metadata": {},
   "outputs": [
    {
     "data": {
      "text/plain": [
       "array([1., 2., 3., 4., 6.])"
      ]
     },
     "execution_count": 68,
     "metadata": {},
     "output_type": "execute_result"
    }
   ],
   "source": [
    "arr[~np.isnan(arr)]"
   ]
  },
  {
   "cell_type": "markdown",
   "id": "e58907ff",
   "metadata": {},
   "source": [
    "### plotting graph"
   ]
  },
  {
   "cell_type": "markdown",
   "id": "649083ec",
   "metadata": {},
   "source": [
    "x = y"
   ]
  },
  {
   "cell_type": "code",
   "execution_count": 69,
   "id": "e369ed93",
   "metadata": {},
   "outputs": [],
   "source": [
    "import matplotlib.pyplot as plt"
   ]
  },
  {
   "cell_type": "code",
   "execution_count": 71,
   "id": "7cdbea1f",
   "metadata": {},
   "outputs": [
    {
     "data": {
      "text/plain": [
       "[<matplotlib.lines.Line2D at 0x1fdb42b1a90>]"
      ]
     },
     "execution_count": 71,
     "metadata": {},
     "output_type": "execute_result"
    },
    {
     "data": {
      "image/png": "[encoded data removed]",
      "text/plain": [
       "<Figure size 640x480 with 1 Axes>"
      ]
     },
     "metadata": {},
     "output_type": "display_data"
    }
   ],
   "source": [
    "x = np.linspace(-10, 10, 100)\n",
    "\n",
    "y = x\n",
    "\n",
    "plt.plot(x,y)\n"
   ]
  },
  {
   "cell_type": "markdown",
   "id": "4b5b7397",
   "metadata": {},
   "source": [
    "2: y = x**2"
   ]
  },
  {
   "cell_type": "code",
   "execution_count": 72,
   "id": "c99b7aba",
   "metadata": {},
   "outputs": [
    {
     "data": {
      "text/plain": [
       "[<matplotlib.lines.Line2D at 0x1fdb6524410>]"
      ]
     },
     "execution_count": 72,
     "metadata": {},
     "output_type": "execute_result"
    },
    {
     "data": {
      "image/png": "[encoded data removed]",
      "text/plain": [
       "<Figure size 640x480 with 1 Axes>"
      ]
     },
     "metadata": {},
     "output_type": "display_data"
    }
   ],
   "source": [
    "x = np.linspace(-15, 15, 100)\n",
    "\n",
    "y = x** 2\n",
    "\n",
    "plt.plot(x,y)\n"
   ]
  },
  {
   "cell_type": "markdown",
   "id": "73778df6",
   "metadata": {},
   "source": [
    "3: y = sin(x)"
   ]
  },
  {
   "cell_type": "code",
   "execution_count": 73,
   "id": "ae642902",
   "metadata": {},
   "outputs": [
    {
     "data": {
      "text/plain": [
       "[<matplotlib.lines.Line2D at 0x1fdb6552c10>]"
      ]
     },
     "execution_count": 73,
     "metadata": {},
     "output_type": "execute_result"
    },
    {
     "data": {
      "image/png": "[encoded data removed]",
      "text/plain": [
       "<Figure size 640x480 with 1 Axes>"
      ]
     },
     "metadata": {},
     "output_type": "display_data"
    }
   ],
   "source": [
    "x = np.linspace(-15, 15, 100)\n",
    "\n",
    "y = np.sin(x)\n",
    "\n",
    "plt.plot(x,y)"
   ]
  },
  {
   "cell_type": "markdown",
   "id": "41dcaa6d",
   "metadata": {},
   "source": [
    "4: y = cos(x)"
   ]
  },
  {
   "cell_type": "code",
   "execution_count": 74,
   "id": "61178108",
   "metadata": {},
   "outputs": [
    {
     "data": {
      "text/plain": [
       "[<matplotlib.lines.Line2D at 0x1fdb65a6850>]"
      ]
     },
     "execution_count": 74,
     "metadata": {},
     "output_type": "execute_result"
    },
    {
     "data": {
      "image/png": "[encoded data removed]",
      "text/plain": [
       "<Figure size 640x480 with 1 Axes>"
      ]
     },
     "metadata": {},
     "output_type": "display_data"
    }
   ],
   "source": [
    "x = np.linspace(-15, 15, 100)\n",
    "\n",
    "y = np.cos(x)\n",
    "\n",
    "plt.plot(x,y)"
   ]
  },
  {
   "cell_type": "markdown",
   "id": "b064c5da",
   "metadata": {},
   "source": [
    "5: y = xsin(x)"
   ]
  },
  {
   "cell_type": "code",
   "execution_count": 75,
   "id": "e280335e",
   "metadata": {},
   "outputs": [
    {
     "data": {
      "text/plain": [
       "[<matplotlib.lines.Line2D at 0x1fdb662e490>]"
      ]
     },
     "execution_count": 75,
     "metadata": {},
     "output_type": "execute_result"
    },
    {
     "data": {
      "image/png": "[encoded data removed]",
      "text/plain": [
       "<Figure size 640x480 with 1 Axes>"
      ]
     },
     "metadata": {},
     "output_type": "display_data"
    }
   ],
   "source": [
    "x = np.linspace(-15, 15, 100)\n",
    "\n",
    "y = x * np.sin(x)\n",
    "\n",
    "plt.plot(x,y)"
   ]
  },
  {
   "cell_type": "markdown",
   "id": "83918125",
   "metadata": {},
   "source": [
    "## class no 3"
   ]
  },
  {
   "cell_type": "markdown",
   "id": "3dc0d3f6",
   "metadata": {},
   "source": [
    "np.sort"
   ]
  },
  {
   "cell_type": "code",
   "execution_count": 77,
   "id": "16abfe5e",
   "metadata": {},
   "outputs": [
    {
     "data": {
      "text/plain": [
       "array([1, 2, 3, 4, 4, 5, 6, 7, 8, 9])"
      ]
     },
     "execution_count": 77,
     "metadata": {},
     "output_type": "execute_result"
    }
   ],
   "source": [
    "np.sort(arr1)"
   ]
  },
  {
   "cell_type": "code",
   "execution_count": null,
   "id": "7b9f9b18",
   "metadata": {},
   "outputs": [
    {
     "name": "stdout",
     "output_type": "stream",
     "text": [
      "[[85 53  2 41]\n",
      " [35  6 72 32]\n",
      " [95 93 64 45]\n",
      " [82 61 40 38]\n",
      " [92 24 86 38]\n",
      " [39 88 12 93]]\n"
     ]
    }
   ],
   "source": [
    "arr22 = np.random.randint(1, 100, 24).reshape(6,4)\n"
   ]
  },
  {
   "cell_type": "code",
   "execution_count": 83,
   "id": "c7c5ac89",
   "metadata": {},
   "outputs": [
    {
     "data": {
      "text/plain": [
       "array([[35,  6,  2, 32],\n",
       "       [39, 24, 12, 38],\n",
       "       [82, 53, 40, 38],\n",
       "       [85, 61, 64, 41],\n",
       "       [92, 88, 72, 45],\n",
       "       [95, 93, 86, 93]], dtype=int32)"
      ]
     },
     "execution_count": 83,
     "metadata": {},
     "output_type": "execute_result"
    }
   ],
   "source": [
    "np.sort(arr22, axis=0)"
   ]
  },
  {
   "cell_type": "markdown",
   "id": "add94c6f",
   "metadata": {},
   "source": [
    "np.append"
   ]
  },
  {
   "cell_type": "code",
   "execution_count": 84,
   "id": "3358376e",
   "metadata": {},
   "outputs": [
    {
     "data": {
      "text/plain": [
       "array([1, 2, 3, 4, 5, 6, 7, 8, 9, 4])"
      ]
     },
     "execution_count": 84,
     "metadata": {},
     "output_type": "execute_result"
    }
   ],
   "source": [
    "arr1"
   ]
  },
  {
   "cell_type": "code",
   "execution_count": 85,
   "id": "ff854c49",
   "metadata": {},
   "outputs": [
    {
     "data": {
      "text/plain": [
       "array([  1,   2,   3,   4,   5,   6,   7,   8,   9,   4, 100])"
      ]
     },
     "execution_count": 85,
     "metadata": {},
     "output_type": "execute_result"
    }
   ],
   "source": [
    "np.append(arr1, 100)"
   ]
  },
  {
   "cell_type": "code",
   "execution_count": 92,
   "id": "51e0c24f",
   "metadata": {},
   "outputs": [
    {
     "data": {
      "text/plain": [
       "array([[8.50000000e+01, 5.30000000e+01, 2.00000000e+00, 4.10000000e+01],\n",
       "       [3.50000000e+01, 6.00000000e+00, 7.20000000e+01, 3.20000000e+01],\n",
       "       [9.50000000e+01, 9.30000000e+01, 6.40000000e+01, 4.50000000e+01],\n",
       "       [8.20000000e+01, 6.10000000e+01, 4.00000000e+01, 3.80000000e+01],\n",
       "       [9.20000000e+01, 2.40000000e+01, 8.60000000e+01, 3.80000000e+01],\n",
       "       [3.90000000e+01, 8.80000000e+01, 1.20000000e+01, 9.30000000e+01],\n",
       "       [8.17739398e-01, 7.16586251e-01, 3.26953139e-01, 8.87354711e-01],\n",
       "       [6.76906176e-03, 4.26958024e-01, 9.82623248e-01, 7.29062602e-01],\n",
       "       [2.25397542e-02, 6.52437838e-01, 8.18246449e-01, 5.10507514e-01],\n",
       "       [3.84767171e-01, 1.91387027e-01, 2.79914840e-01, 7.88964092e-01],\n",
       "       [8.70147260e-01, 3.72253104e-01, 1.64974375e-01, 7.61946867e-02],\n",
       "       [4.64586477e-01, 4.29459786e-01, 1.78364007e-01, 1.42879272e-01]])"
      ]
     },
     "execution_count": 92,
     "metadata": {},
     "output_type": "execute_result"
    }
   ],
   "source": [
    "np.append(arr22, np.random.random((arr22.shape)), axis=0)"
   ]
  },
  {
   "cell_type": "markdown",
   "id": "45f9b948",
   "metadata": {},
   "source": [
    "np.concatenate"
   ]
  },
  {
   "cell_type": "code",
   "execution_count": 94,
   "id": "e1588d81",
   "metadata": {},
   "outputs": [
    {
     "data": {
      "text/plain": [
       "array([1, 2, 3, 4, 6, 7, 8, 9])"
      ]
     },
     "execution_count": 94,
     "metadata": {},
     "output_type": "execute_result"
    }
   ],
   "source": [
    "a = np.array([1,2,3,4])\n",
    "b = np.array([6,7,8,9])\n",
    "\n",
    "np.concatenate((a,b))"
   ]
  },
  {
   "cell_type": "code",
   "execution_count": 97,
   "id": "375ba6ba",
   "metadata": {},
   "outputs": [
    {
     "data": {
      "text/plain": [
       "array([1, 2, 3, 4, 6, 7, 8, 9])"
      ]
     },
     "execution_count": 97,
     "metadata": {},
     "output_type": "execute_result"
    }
   ],
   "source": [
    "np.concatenate((a,b), axis=0)"
   ]
  },
  {
   "cell_type": "markdown",
   "id": "f5dda5b6",
   "metadata": {},
   "source": [
    "np.unique"
   ]
  },
  {
   "cell_type": "code",
   "execution_count": 98,
   "id": "92d33678",
   "metadata": {},
   "outputs": [
    {
     "data": {
      "text/plain": [
       "array([1, 2, 3, 4, 5, 6, 7, 8, 9, 4])"
      ]
     },
     "execution_count": 98,
     "metadata": {},
     "output_type": "execute_result"
    }
   ],
   "source": [
    "arr1"
   ]
  },
  {
   "cell_type": "code",
   "execution_count": 99,
   "id": "f0c8b267",
   "metadata": {},
   "outputs": [
    {
     "data": {
      "text/plain": [
       "array([1, 2, 3, 4, 5, 6, 7, 8, 9])"
      ]
     },
     "execution_count": 99,
     "metadata": {},
     "output_type": "execute_result"
    }
   ],
   "source": [
    "np.unique(arr1)"
   ]
  },
  {
   "cell_type": "code",
   "execution_count": 101,
   "id": "10682014",
   "metadata": {},
   "outputs": [
    {
     "data": {
      "text/plain": [
       "array([ 2,  6, 12, 24, 32, 35, 38, 39, 40, 41, 45, 53, 61, 64, 72, 82, 85,\n",
       "       86, 88, 92, 93, 95], dtype=int32)"
      ]
     },
     "execution_count": 101,
     "metadata": {},
     "output_type": "execute_result"
    }
   ],
   "source": [
    "np.unique(arr22)"
   ]
  },
  {
   "cell_type": "markdown",
   "id": "9cacf35d",
   "metadata": {},
   "source": [
    "np.expand_dims"
   ]
  },
  {
   "cell_type": "code",
   "execution_count": 105,
   "id": "fafa2450",
   "metadata": {},
   "outputs": [
    {
     "data": {
      "text/plain": [
       "(10,)"
      ]
     },
     "execution_count": 105,
     "metadata": {},
     "output_type": "execute_result"
    }
   ],
   "source": [
    "np.shape(arr1)"
   ]
  },
  {
   "cell_type": "code",
   "execution_count": 108,
   "id": "1b2bbfd9",
   "metadata": {},
   "outputs": [
    {
     "data": {
      "text/plain": [
       "(10, 1)"
      ]
     },
     "execution_count": 108,
     "metadata": {},
     "output_type": "execute_result"
    }
   ],
   "source": [
    "np.expand_dims(arr1, axis=1).shape\n"
   ]
  },
  {
   "cell_type": "markdown",
   "id": "7fc4ae76",
   "metadata": {},
   "source": [
    "np.where"
   ]
  },
  {
   "cell_type": "code",
   "execution_count": 109,
   "id": "16ba6827",
   "metadata": {},
   "outputs": [
    {
     "data": {
      "text/plain": [
       "array([1, 2, 3, 4, 5, 6, 7, 8, 9, 4])"
      ]
     },
     "execution_count": 109,
     "metadata": {},
     "output_type": "execute_result"
    }
   ],
   "source": [
    "arr1"
   ]
  },
  {
   "cell_type": "code",
   "execution_count": 118,
   "id": "1d4fab05",
   "metadata": {},
   "outputs": [
    {
     "data": {
      "text/plain": [
       "(array([5, 6, 7, 8]),)"
      ]
     },
     "execution_count": 118,
     "metadata": {},
     "output_type": "execute_result"
    }
   ],
   "source": [
    "np.where(arr1 > 5)"
   ]
  },
  {
   "cell_type": "code",
   "execution_count": 119,
   "id": "e4728b0d",
   "metadata": {},
   "outputs": [
    {
     "data": {
      "text/plain": [
       "array([0, 0, 0, 0, 0, 6, 7, 8, 9, 0])"
      ]
     },
     "execution_count": 119,
     "metadata": {},
     "output_type": "execute_result"
    }
   ],
   "source": [
    "np.where(arr1 > 5, arr1, 0)"
   ]
  },
  {
   "cell_type": "code",
   "execution_count": 122,
   "id": "78926542",
   "metadata": {},
   "outputs": [
    {
     "data": {
      "text/plain": [
       "array([0, 2, 0, 4, 0, 6, 0, 8, 0, 4])"
      ]
     },
     "execution_count": 122,
     "metadata": {},
     "output_type": "execute_result"
    }
   ],
   "source": [
    "np.where(arr1 %2 == 0, arr1, 0)"
   ]
  },
  {
   "cell_type": "code",
   "execution_count": 123,
   "id": "54421cfc",
   "metadata": {},
   "outputs": [
    {
     "data": {
      "text/plain": [
       "array([ 1,  2,  3,  4,  5, 60, 70, 80, 90,  4])"
      ]
     },
     "execution_count": 123,
     "metadata": {},
     "output_type": "execute_result"
    }
   ],
   "source": [
    "np.where(arr1 > 5, arr1*10, arr1)"
   ]
  },
  {
   "cell_type": "markdown",
   "id": "08676ce8",
   "metadata": {},
   "source": [
    "np.argmax"
   ]
  },
  {
   "cell_type": "code",
   "execution_count": 126,
   "id": "46bdd584",
   "metadata": {},
   "outputs": [],
   "source": [
    "arr11 = np.random.randint(1, 100, 20)"
   ]
  },
  {
   "cell_type": "code",
   "execution_count": 127,
   "id": "577b2e4a",
   "metadata": {},
   "outputs": [
    {
     "data": {
      "text/plain": [
       "array([79, 87, 36, 31, 93, 14, 56, 76, 69,  2, 17, 36, 81, 21, 32, 51, 47,\n",
       "       79, 30, 11], dtype=int32)"
      ]
     },
     "execution_count": 127,
     "metadata": {},
     "output_type": "execute_result"
    }
   ],
   "source": [
    "arr11"
   ]
  },
  {
   "cell_type": "code",
   "execution_count": 129,
   "id": "61280e23",
   "metadata": {},
   "outputs": [
    {
     "data": {
      "text/plain": [
       "np.int32(93)"
      ]
     },
     "execution_count": 129,
     "metadata": {},
     "output_type": "execute_result"
    }
   ],
   "source": [
    "arr11[np.argmax(arr11)]"
   ]
  },
  {
   "cell_type": "markdown",
   "id": "ac99833d",
   "metadata": {},
   "source": [
    "np.argmin"
   ]
  },
  {
   "cell_type": "code",
   "execution_count": 130,
   "id": "74751da9",
   "metadata": {},
   "outputs": [
    {
     "data": {
      "text/plain": [
       "np.int32(2)"
      ]
     },
     "execution_count": 130,
     "metadata": {},
     "output_type": "execute_result"
    }
   ],
   "source": [
    "arr11[np.argmin(arr11)]"
   ]
  },
  {
   "cell_type": "markdown",
   "id": "c2a8b79b",
   "metadata": {},
   "source": [
    "np.cumsum"
   ]
  },
  {
   "cell_type": "markdown",
   "id": "88b3fdf2",
   "metadata": {},
   "source": [
    "we can get the comulative sum of array elements over a given axis"
   ]
  },
  {
   "cell_type": "code",
   "execution_count": 133,
   "id": "6b44463a",
   "metadata": {},
   "outputs": [
    {
     "data": {
      "text/plain": [
       "array([ 1,  3,  6, 10, 15, 21, 28, 36, 45, 49])"
      ]
     },
     "execution_count": 133,
     "metadata": {},
     "output_type": "execute_result"
    }
   ],
   "source": [
    "np.cumsum(arr1)"
   ]
  },
  {
   "cell_type": "code",
   "execution_count": 134,
   "id": "553112a0",
   "metadata": {},
   "outputs": [
    {
     "data": {
      "text/plain": [
       "array([ 79, 166, 202, 233, 326, 340, 396, 472, 541, 543, 560, 596, 677,\n",
       "       698, 730, 781, 828, 907, 937, 948])"
      ]
     },
     "execution_count": 134,
     "metadata": {},
     "output_type": "execute_result"
    }
   ],
   "source": [
    "np.cumsum(arr11)"
   ]
  },
  {
   "cell_type": "markdown",
   "id": "47cf7aae",
   "metadata": {},
   "source": [
    "np.cumprod"
   ]
  },
  {
   "cell_type": "code",
   "execution_count": 136,
   "id": "b225e382",
   "metadata": {},
   "outputs": [
    {
     "data": {
      "text/plain": [
       "array([      1,       2,       6,      24,     120,     720,    5040,\n",
       "         40320,  362880, 1451520])"
      ]
     },
     "execution_count": 136,
     "metadata": {},
     "output_type": "execute_result"
    }
   ],
   "source": [
    "np.cumprod(arr1)"
   ]
  },
  {
   "cell_type": "markdown",
   "id": "060d750d",
   "metadata": {},
   "source": [
    "np.percentile"
   ]
  },
  {
   "cell_type": "code",
   "execution_count": 137,
   "id": "e06b4b4e",
   "metadata": {},
   "outputs": [
    {
     "data": {
      "text/plain": [
       "array([79, 87, 36, 31, 93, 14, 56, 76, 69,  2, 17, 36, 81, 21, 32, 51, 47,\n",
       "       79, 30, 11], dtype=int32)"
      ]
     },
     "execution_count": 137,
     "metadata": {},
     "output_type": "execute_result"
    }
   ],
   "source": [
    "arr11"
   ]
  },
  {
   "cell_type": "code",
   "execution_count": 138,
   "id": "1dfa7298",
   "metadata": {},
   "outputs": [
    {
     "data": {
      "text/plain": [
       "np.float64(93.0)"
      ]
     },
     "execution_count": 138,
     "metadata": {},
     "output_type": "execute_result"
    }
   ],
   "source": [
    "np.percentile(arr11, 100)"
   ]
  },
  {
   "cell_type": "code",
   "execution_count": 139,
   "id": "eb93bb24",
   "metadata": {},
   "outputs": [
    {
     "data": {
      "text/plain": [
       "np.float64(41.5)"
      ]
     },
     "execution_count": 139,
     "metadata": {},
     "output_type": "execute_result"
    }
   ],
   "source": [
    "np.percentile(arr11, 50)"
   ]
  },
  {
   "cell_type": "code",
   "execution_count": 140,
   "id": "32fc86d4",
   "metadata": {},
   "outputs": [
    {
     "data": {
      "text/plain": [
       "np.float64(41.5)"
      ]
     },
     "execution_count": 140,
     "metadata": {},
     "output_type": "execute_result"
    }
   ],
   "source": [
    "np.median(arr11)"
   ]
  },
  {
   "cell_type": "markdown",
   "id": "a09a3689",
   "metadata": {},
   "source": [
    "np.histogram"
   ]
  },
  {
   "cell_type": "code",
   "execution_count": 143,
   "id": "1dd5a6de",
   "metadata": {},
   "outputs": [
    {
     "data": {
      "text/plain": [
       "array([79, 87, 36, 31, 93, 14, 56, 76, 69,  2, 17, 36, 81, 21, 32, 51, 47,\n",
       "       79, 30, 11], dtype=int32)"
      ]
     },
     "execution_count": 143,
     "metadata": {},
     "output_type": "execute_result"
    }
   ],
   "source": [
    "arr11"
   ]
  },
  {
   "cell_type": "code",
   "execution_count": 142,
   "id": "3f131fc0",
   "metadata": {},
   "outputs": [
    {
     "data": {
      "text/plain": [
       "(array([3, 1, 5, 1, 2, 1, 3, 2, 1]),\n",
       " array([ 10,  20,  30,  40,  50,  60,  70,  80,  90, 100]))"
      ]
     },
     "execution_count": 142,
     "metadata": {},
     "output_type": "execute_result"
    }
   ],
   "source": [
    "np.histogram(arr11, [10, 20, 30, 40, 50, 60, 70, 80, 90, 100])"
   ]
  },
  {
   "cell_type": "markdown",
   "id": "c27511ed",
   "metadata": {},
   "source": [
    "np.isin"
   ]
  },
  {
   "cell_type": "code",
   "execution_count": 144,
   "id": "4c26c2c2",
   "metadata": {},
   "outputs": [
    {
     "data": {
      "text/plain": [
       "array([79, 87, 36, 31, 93, 14, 56, 76, 69,  2, 17, 36, 81, 21, 32, 51, 47,\n",
       "       79, 30, 11], dtype=int32)"
      ]
     },
     "execution_count": 144,
     "metadata": {},
     "output_type": "execute_result"
    }
   ],
   "source": [
    "arr11"
   ]
  },
  {
   "cell_type": "code",
   "execution_count": 149,
   "id": "9a770bc0",
   "metadata": {},
   "outputs": [
    {
     "data": {
      "text/plain": [
       "array([76, 30], dtype=int32)"
      ]
     },
     "execution_count": 149,
     "metadata": {},
     "output_type": "execute_result"
    }
   ],
   "source": [
    "arr11[np.isin(arr11, [10, 20, 30, 40, 76, 60, 70, 80, 90])]"
   ]
  },
  {
   "cell_type": "markdown",
   "id": "7357eede",
   "metadata": {},
   "source": [
    "np.flip"
   ]
  },
  {
   "cell_type": "code",
   "execution_count": 150,
   "id": "37e64938",
   "metadata": {},
   "outputs": [
    {
     "data": {
      "text/plain": [
       "array([4, 9, 8, 7, 6, 5, 4, 3, 2, 1])"
      ]
     },
     "execution_count": 150,
     "metadata": {},
     "output_type": "execute_result"
    }
   ],
   "source": [
    "np.flip(arr1)"
   ]
  },
  {
   "cell_type": "code",
   "execution_count": 153,
   "id": "86f665f5",
   "metadata": {},
   "outputs": [
    {
     "data": {
      "text/plain": [
       "array([[4, 3, 2, 1],\n",
       "       [9, 8, 7, 6]])"
      ]
     },
     "execution_count": 153,
     "metadata": {},
     "output_type": "execute_result"
    }
   ],
   "source": [
    "np.flip(arr2, axis=1)"
   ]
  },
  {
   "cell_type": "markdown",
   "id": "57aa630f",
   "metadata": {},
   "source": [
    "np.put"
   ]
  },
  {
   "cell_type": "code",
   "execution_count": 155,
   "id": "8c85d989",
   "metadata": {},
   "outputs": [],
   "source": [
    "np.put(arr1, [1,2], [100, 200])"
   ]
  },
  {
   "cell_type": "code",
   "execution_count": 156,
   "id": "067d3595",
   "metadata": {},
   "outputs": [
    {
     "data": {
      "text/plain": [
       "array([  1, 100, 200,   4,   5,   6,   7,   8,   9,   4])"
      ]
     },
     "execution_count": 156,
     "metadata": {},
     "output_type": "execute_result"
    }
   ],
   "source": [
    "arr1"
   ]
  },
  {
   "cell_type": "markdown",
   "id": "919d333b",
   "metadata": {},
   "source": [
    "np.delete"
   ]
  },
  {
   "cell_type": "code",
   "execution_count": 157,
   "id": "4e3ba1cb",
   "metadata": {},
   "outputs": [
    {
     "data": {
      "text/plain": [
       "array([1, 4, 5, 6, 7, 8, 9, 4])"
      ]
     },
     "execution_count": 157,
     "metadata": {},
     "output_type": "execute_result"
    }
   ],
   "source": [
    "np.delete(arr1, [1,2])"
   ]
  },
  {
   "cell_type": "markdown",
   "id": "c895262d",
   "metadata": {},
   "source": []
  },
  {
   "cell_type": "markdown",
   "id": "12041570",
   "metadata": {},
   "source": [
    "set functions"
   ]
  },
  {
   "cell_type": "markdown",
   "id": "d54f2536",
   "metadata": {},
   "source": [
    "1: np.union1d"
   ]
  },
  {
   "cell_type": "code",
   "execution_count": null,
   "id": "11363b15",
   "metadata": {},
   "outputs": [
    {
     "data": {
      "text/plain": [
       "array([1, 2, 3, 4])"
      ]
     },
     "execution_count": 158,
     "metadata": {},
     "output_type": "execute_result"
    }
   ],
   "source": [
    "a"
   ]
  },
  {
   "cell_type": "code",
   "execution_count": 159,
   "id": "a6dabebc",
   "metadata": {},
   "outputs": [
    {
     "data": {
      "text/plain": [
       "array([6, 7, 8, 9])"
      ]
     },
     "execution_count": 159,
     "metadata": {},
     "output_type": "execute_result"
    }
   ],
   "source": [
    "b"
   ]
  },
  {
   "cell_type": "code",
   "execution_count": 160,
   "id": "01815f62",
   "metadata": {},
   "outputs": [
    {
     "data": {
      "text/plain": [
       "array([1, 2, 3, 4, 6, 7, 8, 9])"
      ]
     },
     "execution_count": 160,
     "metadata": {},
     "output_type": "execute_result"
    }
   ],
   "source": [
    "np.union1d(a,b)"
   ]
  },
  {
   "cell_type": "markdown",
   "id": "e109aab6",
   "metadata": {},
   "source": [
    "np.intersect1d"
   ]
  },
  {
   "cell_type": "code",
   "execution_count": 161,
   "id": "069beda2",
   "metadata": {},
   "outputs": [
    {
     "data": {
      "text/plain": [
       "array([], dtype=int64)"
      ]
     },
     "execution_count": 161,
     "metadata": {},
     "output_type": "execute_result"
    }
   ],
   "source": [
    "np.intersect1d(a,b)"
   ]
  },
  {
   "cell_type": "markdown",
   "id": "6c48ba5f",
   "metadata": {},
   "source": [
    "np.setdiff1d"
   ]
  },
  {
   "cell_type": "code",
   "execution_count": 162,
   "id": "f484fdf0",
   "metadata": {},
   "outputs": [
    {
     "data": {
      "text/plain": [
       "array([1, 2, 3, 4])"
      ]
     },
     "execution_count": 162,
     "metadata": {},
     "output_type": "execute_result"
    }
   ],
   "source": [
    "np.setdiff1d(a,b)"
   ]
  },
  {
   "cell_type": "code",
   "execution_count": 163,
   "id": "94548a0e",
   "metadata": {},
   "outputs": [
    {
     "data": {
      "text/plain": [
       "array([1, 2, 3, 4, 6, 7, 8, 9])"
      ]
     },
     "execution_count": 163,
     "metadata": {},
     "output_type": "execute_result"
    }
   ],
   "source": [
    "np.setxor1d(a,b)"
   ]
  }
 ],
 "metadata": {
  "kernelspec": {
   "display_name": "venv (3.13.5)",
   "language": "python",
   "name": "python3"
  },
  "language_info": {
   "codemirror_mode": {
    "name": "ipython",
    "version": 3
   },
   "file_extension": ".py",
   "mimetype": "text/x-python",
   "name": "python",
   "nbconvert_exporter": "python",
   "pygments_lexer": "ipython3",
   "version": "3.13.5"
  }
 },
 "nbformat": 4,
 "nbformat_minor": 5
}
