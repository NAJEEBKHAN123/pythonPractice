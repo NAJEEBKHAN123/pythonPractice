{
 "cells": [
  {
   "cell_type": "markdown",
   "id": "1f23bb7e",
   "metadata": {},
   "source": [
    "#### everything with compusX"
   ]
  },
  {
   "cell_type": "code",
   "execution_count": 2,
   "id": "df2afcf4",
   "metadata": {},
   "outputs": [],
   "source": [
    "import numpy as np"
   ]
  },
  {
   "cell_type": "code",
   "execution_count": 3,
   "id": "a97416be",
   "metadata": {},
   "outputs": [],
   "source": [
    "arr1 = np.array([1,2,3,4,5,6,7,8,9,4])\n",
    "arr2 = np.array([[1,2,3,4], [6,7,8,9]])\n",
    "arr3 = np.array([[[1,2,3], [4,5,6]], [[7,8,9], [10,11,12]]])"
   ]
  },
  {
   "cell_type": "code",
   "execution_count": 4,
   "id": "88fa41df",
   "metadata": {},
   "outputs": [
    {
     "data": {
      "text/plain": [
       "array([1, 2, 3, 4, 5, 6, 7, 8, 9, 4])"
      ]
     },
     "execution_count": 4,
     "metadata": {},
     "output_type": "execute_result"
    }
   ],
   "source": [
    "arr1"
   ]
  },
  {
   "cell_type": "markdown",
   "id": "653a58d4",
   "metadata": {},
   "source": [
    "### changing array"
   ]
  },
  {
   "cell_type": "code",
   "execution_count": 5,
   "id": "88c4a050",
   "metadata": {},
   "outputs": [
    {
     "name": "stdout",
     "output_type": "stream",
     "text": [
      "int64\n"
     ]
    }
   ],
   "source": [
    "print(arr1.dtype)"
   ]
  },
  {
   "cell_type": "code",
   "execution_count": 6,
   "id": "6747bb9e",
   "metadata": {},
   "outputs": [
    {
     "data": {
      "text/plain": [
       "array([1, 2, 3, 4, 5, 6, 7, 8, 9, 4], dtype=int32)"
      ]
     },
     "execution_count": 6,
     "metadata": {},
     "output_type": "execute_result"
    }
   ],
   "source": [
    "arr1.astype(np.int32)"
   ]
  },
  {
   "cell_type": "markdown",
   "id": "6e001334",
   "metadata": {},
   "source": [
    "### Array operation"
   ]
  },
  {
   "cell_type": "markdown",
   "id": "f2338401",
   "metadata": {},
   "source": [
    "#### scalar operator"
   ]
  },
  {
   "cell_type": "code",
   "execution_count": 7,
   "id": "281906af",
   "metadata": {},
   "outputs": [
    {
     "name": "stdout",
     "output_type": "stream",
     "text": [
      "[[ 2  4  6  8]\n",
      " [12 14 16 18]]\n"
     ]
    }
   ],
   "source": [
    "res = arr2 * 2\n",
    "print(res)"
   ]
  },
  {
   "cell_type": "markdown",
   "id": "dbb8c90c",
   "metadata": {},
   "source": [
    "#### vector operator"
   ]
  },
  {
   "cell_type": "code",
   "execution_count": 8,
   "id": "13edb4eb",
   "metadata": {},
   "outputs": [
    {
     "name": "stdout",
     "output_type": "stream",
     "text": [
      "[[1 2 3]\n",
      " [4 5 6]]\n",
      "[[7 8 9]\n",
      " [4 5 6]]\n",
      "[[ 8 10 12]\n",
      " [ 8 10 12]]\n"
     ]
    }
   ],
   "source": [
    "a1 = np.array([[1,2,3], [4,5,6]])\n",
    "a2 = np.array([[7,8,9], [4,5,6]])\n",
    "print(a1)\n",
    "print(a2)\n",
    "\n",
    "print((a1 + a2))"
   ]
  },
  {
   "cell_type": "code",
   "execution_count": 9,
   "id": "556f00a4",
   "metadata": {},
   "outputs": [
    {
     "name": "stdout",
     "output_type": "stream",
     "text": [
      "[[86. 90. 76.]\n",
      " [98. 66. 54.]\n",
      " [59. 60.  6.]]\n"
     ]
    }
   ],
   "source": [
    "\n",
    "arr = np.random.random((3,3))\n",
    "arr = np.round(arr * 100)\n",
    "print(arr)"
   ]
  },
  {
   "cell_type": "markdown",
   "id": "0b6c7222",
   "metadata": {},
   "source": [
    "### max, min, sum, prod"
   ]
  },
  {
   "cell_type": "code",
   "execution_count": 10,
   "id": "5813baa7",
   "metadata": {},
   "outputs": [
    {
     "data": {
      "text/plain": [
       "np.int64(9)"
      ]
     },
     "execution_count": 10,
     "metadata": {},
     "output_type": "execute_result"
    }
   ],
   "source": [
    "np.max(arr1)"
   ]
  },
  {
   "cell_type": "code",
   "execution_count": 11,
   "id": "559c2efd",
   "metadata": {},
   "outputs": [
    {
     "data": {
      "text/plain": [
       "np.int64(9)"
      ]
     },
     "execution_count": 11,
     "metadata": {},
     "output_type": "execute_result"
    }
   ],
   "source": [
    "np.max(arr2)"
   ]
  },
  {
   "cell_type": "code",
   "execution_count": 12,
   "id": "574313a3",
   "metadata": {},
   "outputs": [
    {
     "data": {
      "text/plain": [
       "np.int64(1)"
      ]
     },
     "execution_count": 12,
     "metadata": {},
     "output_type": "execute_result"
    }
   ],
   "source": [
    "np.min(arr1)"
   ]
  },
  {
   "cell_type": "code",
   "execution_count": 13,
   "id": "c31acccc",
   "metadata": {},
   "outputs": [
    {
     "data": {
      "text/plain": [
       "np.int64(49)"
      ]
     },
     "execution_count": 13,
     "metadata": {},
     "output_type": "execute_result"
    }
   ],
   "source": [
    "np.sum(arr1)"
   ]
  },
  {
   "cell_type": "code",
   "execution_count": 14,
   "id": "5f2e166f",
   "metadata": {},
   "outputs": [
    {
     "data": {
      "text/plain": [
       "np.int64(1451520)"
      ]
     },
     "execution_count": 14,
     "metadata": {},
     "output_type": "execute_result"
    }
   ],
   "source": [
    "np.prod(arr1)"
   ]
  },
  {
   "cell_type": "code",
   "execution_count": 15,
   "id": "9c99a11d",
   "metadata": {},
   "outputs": [
    {
     "data": {
      "text/plain": [
       "array([  24, 3024])"
      ]
     },
     "execution_count": 15,
     "metadata": {},
     "output_type": "execute_result"
    }
   ],
   "source": [
    "np.prod(arr2, axis=1)"
   ]
  },
  {
   "cell_type": "markdown",
   "id": "379aa471",
   "metadata": {},
   "source": [
    "### mean, median"
   ]
  },
  {
   "cell_type": "code",
   "execution_count": 16,
   "id": "f71ccb11",
   "metadata": {},
   "outputs": [
    {
     "data": {
      "text/plain": [
       "np.float64(4.9)"
      ]
     },
     "execution_count": 16,
     "metadata": {},
     "output_type": "execute_result"
    }
   ],
   "source": [
    "np.mean(arr1)"
   ]
  },
  {
   "cell_type": "code",
   "execution_count": 17,
   "id": "61aa5818",
   "metadata": {},
   "outputs": [
    {
     "data": {
      "text/plain": [
       "np.float64(4.5)"
      ]
     },
     "execution_count": 17,
     "metadata": {},
     "output_type": "execute_result"
    }
   ],
   "source": [
    "np.median(arr1)"
   ]
  },
  {
   "cell_type": "markdown",
   "id": "6c571e57",
   "metadata": {},
   "source": [
    "### dot product"
   ]
  },
  {
   "cell_type": "markdown",
   "id": "f60c9780",
   "metadata": {},
   "source": [
    "the dot product is possible when the 4x3 and 3x4 something like this the first matrix column and the second matrix row equal then possible otherwise not possible ..."
   ]
  },
  {
   "cell_type": "code",
   "execution_count": 18,
   "id": "f5512567",
   "metadata": {},
   "outputs": [
    {
     "data": {
      "text/plain": [
       "array([[ 42,  48,  54],\n",
       "       [114, 136, 158],\n",
       "       [186, 224, 262]])"
      ]
     },
     "execution_count": 18,
     "metadata": {},
     "output_type": "execute_result"
    }
   ],
   "source": [
    "a1 = np.arange(12).reshape(3,4)\n",
    "a2 = np.arange(12).reshape(4,3)\n",
    "\n",
    "np.dot(a1, a2)"
   ]
  },
  {
   "cell_type": "markdown",
   "id": "77a03ece",
   "metadata": {},
   "source": [
    "## Round, floor, ceil"
   ]
  },
  {
   "cell_type": "code",
   "execution_count": 19,
   "id": "d1893014",
   "metadata": {},
   "outputs": [
    {
     "name": "stdout",
     "output_type": "stream",
     "text": [
      "[9.02845028]\n",
      "[9.]\n"
     ]
    }
   ],
   "source": [
    "arr = np.random.random(1)\n",
    "print(arr * 10)\n",
    "\n",
    "\n",
    "arr = np.round(arr * 10)\n",
    "\n",
    "print(arr)"
   ]
  },
  {
   "cell_type": "code",
   "execution_count": 20,
   "id": "6c40ed43",
   "metadata": {},
   "outputs": [
    {
     "name": "stdout",
     "output_type": "stream",
     "text": [
      "[0.5239056]\n",
      "[0.]\n"
     ]
    }
   ],
   "source": [
    "arr = np.random.random(1)\n",
    "print(arr * 10)\n",
    "\n",
    "arr = np.floor(arr * 10)\n",
    "\n",
    "print(arr)"
   ]
  },
  {
   "cell_type": "code",
   "execution_count": 21,
   "id": "f5426181",
   "metadata": {},
   "outputs": [
    {
     "name": "stdout",
     "output_type": "stream",
     "text": [
      "[1.42065012]\n",
      "[2.]\n"
     ]
    }
   ],
   "source": [
    "arr = np.random.random(1)\n",
    "print(arr * 10)\n",
    "\n",
    "arr = np.ceil(arr * 10)\n",
    "\n",
    "print(arr)"
   ]
  },
  {
   "cell_type": "markdown",
   "id": "114f32cd",
   "metadata": {},
   "source": [
    "### indexing and slicing"
   ]
  },
  {
   "cell_type": "markdown",
   "id": "81c9d92a",
   "metadata": {},
   "source": [
    "#### indexing"
   ]
  },
  {
   "cell_type": "code",
   "execution_count": 22,
   "id": "0ef459ed",
   "metadata": {},
   "outputs": [
    {
     "name": "stdout",
     "output_type": "stream",
     "text": [
      "3\n"
     ]
    }
   ],
   "source": [
    "print(arr1[2])"
   ]
  },
  {
   "cell_type": "code",
   "execution_count": 23,
   "id": "8968a6d3",
   "metadata": {},
   "outputs": [
    {
     "name": "stdout",
     "output_type": "stream",
     "text": [
      "8\n"
     ]
    }
   ],
   "source": [
    "print(arr2[1, 2])"
   ]
  },
  {
   "cell_type": "code",
   "execution_count": 24,
   "id": "f3edb132",
   "metadata": {},
   "outputs": [
    {
     "name": "stdout",
     "output_type": "stream",
     "text": [
      "12\n"
     ]
    }
   ],
   "source": [
    "print(arr3[1, 1, 2])"
   ]
  },
  {
   "cell_type": "markdown",
   "id": "04631688",
   "metadata": {},
   "source": [
    "### slicing"
   ]
  },
  {
   "cell_type": "code",
   "execution_count": 25,
   "id": "be43d711",
   "metadata": {},
   "outputs": [
    {
     "name": "stdout",
     "output_type": "stream",
     "text": [
      "[2 3 4 5 6 7]\n"
     ]
    }
   ],
   "source": [
    "print(arr1[1:7])"
   ]
  },
  {
   "cell_type": "code",
   "execution_count": 26,
   "id": "272904a6",
   "metadata": {},
   "outputs": [
    {
     "name": "stdout",
     "output_type": "stream",
     "text": [
      "[[1 2]\n",
      " [6 7]]\n"
     ]
    }
   ],
   "source": [
    "print(arr2[:, :2])"
   ]
  },
  {
   "cell_type": "code",
   "execution_count": 27,
   "id": "90714e04",
   "metadata": {},
   "outputs": [
    {
     "name": "stdout",
     "output_type": "stream",
     "text": [
      "[[[11 12]]]\n"
     ]
    }
   ],
   "source": [
    "print(arr3[1:, 1:, 1:])"
   ]
  },
  {
   "cell_type": "code",
   "execution_count": 28,
   "id": "31dbea67",
   "metadata": {},
   "outputs": [
    {
     "name": "stdout",
     "output_type": "stream",
     "text": [
      "1\n",
      "2\n",
      "3\n",
      "4\n",
      "5\n",
      "6\n",
      "7\n",
      "8\n",
      "9\n",
      "4\n"
     ]
    }
   ],
   "source": [
    "for i in arr1:\n",
    "    print(i)"
   ]
  },
  {
   "cell_type": "code",
   "execution_count": 29,
   "id": "696eab39",
   "metadata": {},
   "outputs": [
    {
     "name": "stdout",
     "output_type": "stream",
     "text": [
      "[1 2 3 4]\n",
      "[6 7 8 9]\n"
     ]
    }
   ],
   "source": [
    "for i in arr2:\n",
    "    print(i)"
   ]
  },
  {
   "cell_type": "code",
   "execution_count": 30,
   "id": "746abebc",
   "metadata": {},
   "outputs": [
    {
     "name": "stdout",
     "output_type": "stream",
     "text": [
      "[[1 2 3]\n",
      " [4 5 6]]\n",
      "[[ 7  8  9]\n",
      " [10 11 12]]\n"
     ]
    }
   ],
   "source": [
    "for i in arr3:\n",
    "    print(i)"
   ]
  },
  {
   "cell_type": "code",
   "execution_count": 31,
   "id": "4d07b7e5",
   "metadata": {},
   "outputs": [
    {
     "name": "stdout",
     "output_type": "stream",
     "text": [
      "1\n",
      "2\n",
      "3\n",
      "4\n",
      "5\n",
      "6\n",
      "7\n",
      "8\n",
      "9\n",
      "10\n",
      "11\n",
      "12\n"
     ]
    }
   ],
   "source": [
    "for i in np.nditer(arr3):\n",
    "    print(i)\n",
    "    "
   ]
  },
  {
   "cell_type": "markdown",
   "id": "ef0f2a36",
   "metadata": {},
   "source": [
    "### Reshaping "
   ]
  },
  {
   "cell_type": "markdown",
   "id": "9df30d38",
   "metadata": {},
   "source": [
    "#### Transpose "
   ]
  },
  {
   "cell_type": "code",
   "execution_count": 32,
   "id": "9f1340bf",
   "metadata": {},
   "outputs": [
    {
     "name": "stdout",
     "output_type": "stream",
     "text": [
      "[[1 6]\n",
      " [2 7]\n",
      " [3 8]\n",
      " [4 9]]\n"
     ]
    }
   ],
   "source": [
    "\n",
    "print(arr2.T)"
   ]
  },
  {
   "cell_type": "markdown",
   "id": "e7cfd700",
   "metadata": {},
   "source": [
    "ravel"
   ]
  },
  {
   "cell_type": "code",
   "execution_count": 33,
   "id": "0a4791d4",
   "metadata": {},
   "outputs": [
    {
     "name": "stdout",
     "output_type": "stream",
     "text": [
      "[1 2 3 4 6 7 8 9]\n"
     ]
    }
   ],
   "source": [
    "print(arr2.ravel())"
   ]
  },
  {
   "cell_type": "markdown",
   "id": "f0e91e64",
   "metadata": {},
   "source": [
    "### Stacking"
   ]
  },
  {
   "cell_type": "code",
   "execution_count": 34,
   "id": "63bc45e5",
   "metadata": {},
   "outputs": [
    {
     "data": {
      "text/plain": [
       "array([[1, 2, 3, 4, 5, 6],\n",
       "       [5, 4, 6, 4, 5, 6]])"
      ]
     },
     "execution_count": 34,
     "metadata": {},
     "output_type": "execute_result"
    }
   ],
   "source": [
    "a1 = np.array([1,2,3,4,5,6])\n",
    "a2 = np.array([5,4,6,4,5,6])\n",
    "\n",
    "np.vstack((a1, a2))"
   ]
  },
  {
   "cell_type": "code",
   "execution_count": 35,
   "id": "6c5a2e3c",
   "metadata": {},
   "outputs": [
    {
     "data": {
      "text/plain": [
       "array([1, 2, 3, 4, 5, 6, 5, 4, 6, 4, 5, 6])"
      ]
     },
     "execution_count": 35,
     "metadata": {},
     "output_type": "execute_result"
    }
   ],
   "source": [
    "np.hstack((a1,a2))"
   ]
  },
  {
   "cell_type": "markdown",
   "id": "7e93756e",
   "metadata": {},
   "source": [
    "### spliting"
   ]
  },
  {
   "cell_type": "code",
   "execution_count": 36,
   "id": "958e5d63",
   "metadata": {},
   "outputs": [
    {
     "name": "stdout",
     "output_type": "stream",
     "text": [
      "[array([[1, 2],\n",
      "       [6, 7]]), array([[3, 4],\n",
      "       [8, 9]])]\n"
     ]
    }
   ],
   "source": [
    "a2 = np.array([[1,2,3], [3,4,5], [6,5,4]])\n",
    "\n",
    "res = np.hsplit(arr2, 2)\n",
    "print(res)"
   ]
  },
  {
   "cell_type": "markdown",
   "id": "a35efa53",
   "metadata": {},
   "source": [
    "## advance indexing"
   ]
  },
  {
   "cell_type": "markdown",
   "id": "b0a94c8e",
   "metadata": {},
   "source": [
    "advance indexing mean when we play with the multi-dimensional array then we need to advance indexing concept two types 1. fancy 2. boolean"
   ]
  },
  {
   "cell_type": "markdown",
   "id": "f4988d93",
   "metadata": {},
   "source": [
    "#### Fancy"
   ]
  },
  {
   "cell_type": "code",
   "execution_count": 46,
   "id": "41b3b4ea",
   "metadata": {},
   "outputs": [
    {
     "name": "stdout",
     "output_type": "stream",
     "text": [
      "[[ 4  5  6  7]\n",
      " [ 8  9 10 11]\n",
      " [20 21 22 23]]\n"
     ]
    }
   ],
   "source": [
    "arr = np.arange(24).reshape(6,4)\n",
    "\n",
    "res = [1,2,5]\n",
    "\n",
    "print(arr[res])"
   ]
  },
  {
   "cell_type": "code",
   "execution_count": null,
   "id": "f7808a9d",
   "metadata": {},
   "outputs": [],
   "source": [
    "arr = np.arange(24).reshape(6,4)\n",
    "\n",
    "res = [1,2,5]\n",
    "\n",
    "print(arr[:, [res]])"
   ]
  },
  {
   "cell_type": "markdown",
   "id": "e58907ff",
   "metadata": {},
   "source": []
  }
 ],
 "metadata": {
  "kernelspec": {
   "display_name": "venv (3.13.5)",
   "language": "python",
   "name": "python3"
  },
  "language_info": {
   "codemirror_mode": {
    "name": "ipython",
    "version": 3
   },
   "file_extension": ".py",
   "mimetype": "text/x-python",
   "name": "python",
   "nbconvert_exporter": "python",
   "pygments_lexer": "ipython3",
   "version": "3.13.5"
  }
 },
 "nbformat": 4,
 "nbformat_minor": 5
}
