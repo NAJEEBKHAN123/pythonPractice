{
 "cells": [
  {
   "cell_type": "markdown",
   "id": "3c16755e",
   "metadata": {},
   "source": [
    "##Numpy array and basic\n",
    "learn about numpy with wih"
   ]
  },
  {
   "cell_type": "markdown",
   "id": "5b8e9262",
   "metadata": {},
   "source": []
  },
  {
   "cell_type": "code",
   "execution_count": 2,
   "id": "87400c33",
   "metadata": {},
   "outputs": [],
   "source": [
    "import numpy as np"
   ]
  },
  {
   "cell_type": "code",
   "execution_count": null,
   "id": "d32468f7",
   "metadata": {},
   "outputs": [],
   "source": []
  },
  {
   "cell_type": "code",
   "execution_count": 3,
   "id": "96b24133",
   "metadata": {},
   "outputs": [
    {
     "name": "stdout",
     "output_type": "stream",
     "text": [
      "1D Array: [1 2 3 4 5]\n",
      "1D Array: [[1 2 3]\n",
      " [4 5 6]]\n",
      "1D Array: [[[1 2]\n",
      "  [3 4]]\n",
      "\n",
      " [[5 6]\n",
      "  [7 8]]]\n"
     ]
    }
   ],
   "source": [
    "\n",
    "arr_1d = np.array([1, 2, 3, 4, 5])\n",
    "arr_2d = np.array([[1, 2, 3], [4, 5, 6]])\n",
    "arr_3d = np.array([[[1, 2], [3, 4]], [[5, 6], [7, 8]]])\n",
    "\n",
    "print(\"1D Array:\", arr_1d)\n",
    "print(\"1D Array:\", arr_2d)\n",
    "print(\"1D Array:\", arr_3d)\n"
   ]
  },
  {
   "cell_type": "code",
   "execution_count": 4,
   "id": "f02d817f",
   "metadata": {},
   "outputs": [
    {
     "name": "stdout",
     "output_type": "stream",
     "text": [
      "Random Integer:  26\n",
      "Random Float:  [46, 40, 35, 41, 86, 96, 68, 54, 1, 98]\n"
     ]
    }
   ],
   "source": [
    "import random\n",
    "print(\"Random Integer: \", random.randint(1, 100))\n",
    "\n",
    "list = random.sample(range(1, 100), 10)\n",
    "print(\"Random Float: \", list)"
   ]
  },
  {
   "cell_type": "markdown",
   "id": "012c1350",
   "metadata": {},
   "source": []
  },
  {
   "cell_type": "markdown",
   "id": "7717c9ab",
   "metadata": {},
   "source": [
    "NumPy Array Indexing\n"
   ]
  },
  {
   "cell_type": "code",
   "execution_count": 5,
   "id": "fb84a767",
   "metadata": {},
   "outputs": [
    {
     "name": "stdout",
     "output_type": "stream",
     "text": [
      "3\n"
     ]
    }
   ],
   "source": [
    "import numpy as np\n",
    "\n",
    "arr = np.array([1,2,3,4])\n",
    "\n",
    "print(arr[2])"
   ]
  },
  {
   "cell_type": "markdown",
   "id": "0b73080b",
   "metadata": {},
   "source": []
  },
  {
   "cell_type": "markdown",
   "id": "ef419443",
   "metadata": {},
   "source": [
    "Access 2-D Arrays"
   ]
  },
  {
   "cell_type": "code",
   "execution_count": 6,
   "id": "d5a202ea",
   "metadata": {},
   "outputs": [
    {
     "name": "stdout",
     "output_type": "stream",
     "text": [
      "3\n"
     ]
    }
   ],
   "source": [
    "import numpy as np\n",
    "\n",
    "arr = np.array([[1,2,3], [4,5,6]])\n",
    "\n",
    "print(arr[0,2])  # access the element of the first row and second third "
   ]
  },
  {
   "cell_type": "markdown",
   "id": "8134e515",
   "metadata": {},
   "source": [
    "Access 3-D Arrays"
   ]
  },
  {
   "cell_type": "code",
   "execution_count": 7,
   "id": "94419474",
   "metadata": {},
   "outputs": [
    {
     "name": "stdout",
     "output_type": "stream",
     "text": [
      "6\n"
     ]
    }
   ],
   "source": [
    "import numpy as np\n",
    "\n",
    "arr = np.array([[[1,2,3], [4,5,6], [7,8,9]]])\n",
    "\n",
    "print(arr[0,1,2])  #Access the third element of the second array of the first array:"
   ]
  },
  {
   "cell_type": "markdown",
   "id": "37ab4533",
   "metadata": {},
   "source": [
    "NumPy Array Slicing"
   ]
  },
  {
   "cell_type": "code",
   "execution_count": 8,
   "id": "298397a0",
   "metadata": {},
   "outputs": [
    {
     "name": "stdout",
     "output_type": "stream",
     "text": [
      "[2 3 4]\n"
     ]
    }
   ],
   "source": [
    "import numpy as np\n",
    "\n",
    "arr = np.array([1, 2, 3, 4])\n",
    "\n",
    "print(arr[1:4])"
   ]
  },
  {
   "cell_type": "markdown",
   "id": "6d62857d",
   "metadata": {},
   "source": [
    "with step\n"
   ]
  },
  {
   "cell_type": "code",
   "execution_count": 9,
   "id": "d9bd203b",
   "metadata": {},
   "outputs": [
    {
     "name": "stdout",
     "output_type": "stream",
     "text": [
      "[ 2  4  6  8 10]\n"
     ]
    }
   ],
   "source": [
    "import numpy as np\n",
    "\n",
    "arr = np.array([1, 2, 3, 4,5,6,7,8,9,10])\n",
    "\n",
    "print(arr[1:10:2])"
   ]
  },
  {
   "cell_type": "markdown",
   "id": "afdaa5ae",
   "metadata": {},
   "source": [
    "Slicing 2-D Arrays"
   ]
  },
  {
   "cell_type": "code",
   "execution_count": 10,
   "id": "75664411",
   "metadata": {},
   "outputs": [
    {
     "name": "stdout",
     "output_type": "stream",
     "text": [
      "[7 8 9]\n"
     ]
    }
   ],
   "source": [
    "import numpy as np\n",
    "\n",
    "arr = np.array([[1, 2, 3, 4, 5], [6, 7, 8, 9, 10]])\n",
    "\n",
    "print(arr[1, 1:4])"
   ]
  },
  {
   "cell_type": "markdown",
   "id": "68519c27",
   "metadata": {},
   "source": [
    "Vertor, Matrix, Tensor"
   ]
  },
  {
   "cell_type": "code",
   "execution_count": 12,
   "id": "4400708f",
   "metadata": {},
   "outputs": [
    {
     "name": "stdout",
     "output_type": "stream",
     "text": [
      "Vector: [1 2 3 4 5]\n"
     ]
    }
   ],
   "source": [
    "vector = np.array([1,2,3,4,5])\n",
    "\n",
    "print(\"Vector:\", vector)"
   ]
  },
  {
   "cell_type": "markdown",
   "id": "64ef84b7",
   "metadata": {},
   "source": [
    "Matrix\n"
   ]
  },
  {
   "cell_type": "code",
   "execution_count": 13,
   "id": "a138daaf",
   "metadata": {},
   "outputs": [
    {
     "name": "stdout",
     "output_type": "stream",
     "text": [
      "Matrix:\n",
      " [[1 2 3]\n",
      " [4 5 6]]\n"
     ]
    }
   ],
   "source": [
    "matrix = np.array([[1,2,3],\n",
    "                   [4,5,6]])\n",
    "\n",
    "print(\"Matrix:\\n\", matrix)"
   ]
  },
  {
   "cell_type": "markdown",
   "id": "42d2be06",
   "metadata": {},
   "source": [
    "Tensor"
   ]
  },
  {
   "cell_type": "code",
   "execution_count": 21,
   "id": "af8d336f",
   "metadata": {},
   "outputs": [
    {
     "name": "stdout",
     "output_type": "stream",
     "text": [
      "Tensor:\n",
      " (2, 2, 2)\n"
     ]
    }
   ],
   "source": [
    "tensor = np.array([[[1,2], [3,4]], [[5,6], [7,8]]])\n",
    "\n",
    "print(\"Tensor:\\n\", tensor.shape)  # Reshaping to 2x2x2 for better visualization"
   ]
  },
  {
   "cell_type": "code",
   "execution_count": null,
   "id": "e0b8d5bf",
   "metadata": {},
   "outputs": [],
   "source": []
  }
 ],
 "metadata": {
  "kernelspec": {
   "display_name": "venv (3.13.5)",
   "language": "python",
   "name": "python3"
  },
  "language_info": {
   "codemirror_mode": {
    "name": "ipython",
    "version": 3
   },
   "file_extension": ".py",
   "mimetype": "text/x-python",
   "name": "python",
   "nbconvert_exporter": "python",
   "pygments_lexer": "ipython3",
   "version": "3.13.5"
  }
 },
 "nbformat": 4,
 "nbformat_minor": 5
}
