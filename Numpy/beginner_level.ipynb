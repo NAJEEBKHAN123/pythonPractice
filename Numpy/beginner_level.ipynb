{
 "cells": [
  {
   "cell_type": "markdown",
   "id": "5f96cac2",
   "metadata": {},
   "source": [
    "## List of the beginner level question and answering"
   ]
  },
  {
   "cell_type": "markdown",
   "id": "73bbc322",
   "metadata": {},
   "source": [
    "### 1. Temperature Data Analyzer"
   ]
  },
  {
   "cell_type": "code",
   "execution_count": 1,
   "id": "5b62dd28",
   "metadata": {},
   "outputs": [],
   "source": [
    "import numpy as np"
   ]
  },
  {
   "cell_type": "code",
   "execution_count": 23,
   "id": "ceb6ac8c",
   "metadata": {},
   "outputs": [
    {
     "name": "stdout",
     "output_type": "stream",
     "text": [
      "[37 36 31 37 31 37 39 32 35 32 36 37 30 38 35 35 33 30 31 33 32 32 33 32\n",
      " 33 32 33 37 32 34]\n",
      "Mean of the 1 month temp: 33.833333333333336\n",
      "Max temp in 1 month: 39\n",
      "Min temp in 1 month: 30\n",
      "standard deviation: 2.50\n",
      "list of hot days: [37 36 37 37 39 35 36 37 38 35 35 37 34]\n"
     ]
    }
   ],
   "source": [
    "days_list = np.random.randint(30, 40, 30)\n",
    "\n",
    "mean = np.mean(days_list)\n",
    "max_val = np.max(days_list)\n",
    "min_val = np.min(days_list)\n",
    "std = np.std(days_list)\n",
    "\n",
    "mask = days_list > mean\n",
    "\n",
    "\n",
    "print(days_list)\n",
    "print(f\"Mean of the 1 month temp: {mean}\")\n",
    "print(f\"Max temp in 1 month: {max_val}\")\n",
    "print(f\"Min temp in 1 month: {min_val}\")\n",
    "print(f\"standard deviation: {std:.2f}\")\n",
    "\n",
    "print(f\"list of hot days: {days_list[mask]}\")\n",
    "\n",
    "\n",
    "\n",
    "\n"
   ]
  },
  {
   "cell_type": "markdown",
   "id": "dc6dff3b",
   "metadata": {},
   "source": [
    "### 2. Student Grades System"
   ]
  },
  {
   "cell_type": "code",
   "execution_count": 50,
   "id": "a9714bca",
   "metadata": {},
   "outputs": [
    {
     "name": "stdout",
     "output_type": "stream",
     "text": [
      "====== Math, English, Science, History =======\n",
      "Student 1 marks: [85, 90, 78, 92]\n",
      "Student 2 marks: [88, 76, 95, 89]\n",
      "Student 3 marks: [91, 82, 87, 90]\n",
      "Student 1 → Total: 345, Average: 86.25\n",
      "Student 2 → Total: 348, Average: 87.00\n",
      "Student 3 → Total: 350, Average: 87.50\n",
      "Subject 1 → Highest Score: 91, Topper: Student 3\n",
      "Subject 2 → Highest Score: 90, Topper: Student 1\n",
      "Subject 3 → Highest Score: 95, Topper: Student 2\n",
      "Subject 4 → Highest Score: 92, Topper: Student 1\n",
      "Rank 1: Student 3 → Total = 350 \n",
      "Rank 2: Student 2 → Total = 348 \n",
      "Rank 3: Student 1 → Total = 345 \n"
     ]
    }
   ],
   "source": [
    "marks = [\n",
    "    [85, 90, 78, 92],  \n",
    "    [88, 76, 95, 89], \n",
    "    [91, 82, 87, 90]   \n",
    "]\n",
    "\n",
    "print(\"====== Math, English, Science, History =======\")\n",
    "for i, student in enumerate(marks, start=1):\n",
    "    print(f\"Student {i} marks: {student}\")\n",
    "    \n",
    "    \n",
    "totals = np.sum(marks, axis=1)\n",
    "averages = np.mean(marks, axis=1)\n",
    "\n",
    "for i, (t, a) in enumerate(zip(totals, averages), start=1):\n",
    "    print(f\"Student {i} → Total: {t}, Average: {a:.2f}\")\n",
    "    \n",
    "highest_score = np.max(marks, axis=0)\n",
    "topper = np.argmax(marks, axis=0)\n",
    "\n",
    "for subj, (score, topper) in enumerate(zip(highest_score, topper), start=1):\n",
    "    print(f\"Subject {subj} → Highest Score: {score}, Topper: Student {topper+1}\")\n",
    "\n",
    "#Use sorting to rank students by total score.\n",
    "\n",
    "totals = np.sum(marks, axis=1)\n",
    "ranking = np.argsort(-totals)\n",
    "\n",
    "for rank, idx in enumerate(ranking, start=1):\n",
    "    print(f\"Rank {rank}: Student {idx+1} → Total = {totals[idx]} \")\n",
    "\n",
    "\n"
   ]
  },
  {
   "cell_type": "markdown",
   "id": "e2fbbe42",
   "metadata": {},
   "source": [
    "### 3. Image Manipulation (Grayscale)"
   ]
  },
  {
   "cell_type": "code",
   "execution_count": 54,
   "id": "ca74b631",
   "metadata": {},
   "outputs": [
    {
     "name": "stdout",
     "output_type": "stream",
     "text": [
      "Original RGB image:\n",
      " [[[255   0   0]\n",
      "  [  0 255   0]\n",
      "  [  0   0 255]]\n",
      "\n",
      " [[255 255   0]\n",
      "  [  0 255 255]\n",
      "  [255   0 255]]\n",
      "\n",
      " [[100 100 100]\n",
      "  [200 200 200]\n",
      "  [ 50  50  50]]]\n",
      "\n",
      "Grayscale image:\n",
      " [[ 76.22 149.68  29.07]\n",
      " [225.9  178.76 105.29]\n",
      " [ 99.99 199.98  50.  ]]\n"
     ]
    }
   ],
   "source": [
    "image = np.array([\n",
    "    [[255, 0, 0], [0, 255, 0], [0, 0, 255]],     # Row 1 (Red, Green, Blue)\n",
    "    [[255, 255, 0], [0, 255, 255], [255, 0, 255]], # Row 2 (Yellow, Cyan, Magenta)\n",
    "    [[100, 100, 100], [200, 200, 200], [50, 50, 50]] # Row 3 (Shades of gray)\n",
    "])\n",
    "\n",
    "print(\"Original RGB image:\\n\", image)\n",
    "\n",
    "grayscale = np.dot(image[...,:3], [0.2989, 0.5870, 0.1140])\n",
    "print(\"\\nGrayscale image:\\n\", np.round(grayscale, 2))"
   ]
  },
  {
   "cell_type": "markdown",
   "id": "e9bda0a4",
   "metadata": {},
   "source": [
    "### 4. Dice Rolling Simulator"
   ]
  },
  {
   "cell_type": "code",
   "execution_count": null,
   "id": "8a38e0d1",
   "metadata": {},
   "outputs": [
    {
     "ename": "ValueError",
     "evalue": "too many values to unpack (expected 2)",
     "output_type": "error",
     "traceback": [
      "\u001b[31m---------------------------------------------------------------------------\u001b[39m",
      "\u001b[31mValueError\u001b[39m                                Traceback (most recent call last)",
      "\u001b[36mCell\u001b[39m\u001b[36m \u001b[39m\u001b[32mIn[92]\u001b[39m\u001b[32m, line 5\u001b[39m\n\u001b[32m      1\u001b[39m num_rolls = \u001b[32m20\u001b[39m\n\u001b[32m      3\u001b[39m rolls = np.random.randint(\u001b[32m1\u001b[39m,\u001b[32m7\u001b[39m, num_rolls)\n\u001b[32m----> \u001b[39m\u001b[32m5\u001b[39m values, counts = np.unique(rolls)\n\u001b[32m      7\u001b[39m averages = (counts / num_rolls) * \u001b[32m100\u001b[39m\n\u001b[32m      9\u001b[39m \u001b[38;5;28mprint\u001b[39m(\u001b[33m\"\u001b[39m\u001b[33mDice rolls:\u001b[39m\u001b[33m\"\u001b[39m, rolls)\n",
      "\u001b[31mValueError\u001b[39m: too many values to unpack (expected 2)"
     ]
    }
   ],
   "source": [
    "num_rolls = 20\n",
    "\n",
    "rolls = np.random.randint(1,7, num_rolls)\n",
    "\n",
    "values, counts = np.unique(rolls, return_counts=True)\n",
    "\n",
    "averages = (counts / num_rolls) * 100\n",
    "\n",
    "print(\"Dice rolls:\", rolls)\n",
    "print(\"\\nFrequencies & Percentages:\")\n",
    "\n",
    "for v, c, p in zip(values, counts, averages):\n",
    "     print(f\"{v} → {c} time(s), {p:.2f}%\")"
   ]
  }
 ],
 "metadata": {
  "kernelspec": {
   "display_name": "venv (3.13.5)",
   "language": "python",
   "name": "python3"
  },
  "language_info": {
   "codemirror_mode": {
    "name": "ipython",
    "version": 3
   },
   "file_extension": ".py",
   "mimetype": "text/x-python",
   "name": "python",
   "nbconvert_exporter": "python",
   "pygments_lexer": "ipython3",
   "version": "3.13.5"
  }
 },
 "nbformat": 4,
 "nbformat_minor": 5
}
