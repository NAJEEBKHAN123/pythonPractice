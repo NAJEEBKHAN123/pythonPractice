{
 "cells": [
  {
   "cell_type": "markdown",
   "id": "5f96cac2",
   "metadata": {},
   "source": [
    "## List of the beginner level question and answering"
   ]
  },
  {
   "cell_type": "markdown",
   "id": "73bbc322",
   "metadata": {},
   "source": [
    "### 1. Temperature Data Analyzer"
   ]
  },
  {
   "cell_type": "code",
   "execution_count": 1,
   "id": "5b62dd28",
   "metadata": {},
   "outputs": [],
   "source": [
    "import numpy as np"
   ]
  },
  {
   "cell_type": "code",
   "execution_count": 23,
   "id": "ceb6ac8c",
   "metadata": {},
   "outputs": [
    {
     "name": "stdout",
     "output_type": "stream",
     "text": [
      "[37 36 31 37 31 37 39 32 35 32 36 37 30 38 35 35 33 30 31 33 32 32 33 32\n",
      " 33 32 33 37 32 34]\n",
      "Mean of the 1 month temp: 33.833333333333336\n",
      "Max temp in 1 month: 39\n",
      "Min temp in 1 month: 30\n",
      "standard deviation: 2.50\n",
      "list of hot days: [37 36 37 37 39 35 36 37 38 35 35 37 34]\n"
     ]
    }
   ],
   "source": [
    "days_list = np.random.randint(30, 40, 30)\n",
    "\n",
    "mean = np.mean(days_list)\n",
    "max_val = np.max(days_list)\n",
    "min_val = np.min(days_list)\n",
    "std = np.std(days_list)\n",
    "\n",
    "mask = days_list > mean\n",
    "\n",
    "\n",
    "print(days_list)\n",
    "print(f\"Mean of the 1 month temp: {mean}\")\n",
    "print(f\"Max temp in 1 month: {max_val}\")\n",
    "print(f\"Min temp in 1 month: {min_val}\")\n",
    "print(f\"standard deviation: {std:.2f}\")\n",
    "\n",
    "print(f\"list of hot days: {days_list[mask]}\")\n",
    "\n",
    "\n",
    "\n",
    "\n"
   ]
  },
  {
   "cell_type": "markdown",
   "id": "dc6dff3b",
   "metadata": {},
   "source": [
    "### 2. Student Grades System"
   ]
  },
  {
   "cell_type": "code",
   "execution_count": 50,
   "id": "a9714bca",
   "metadata": {},
   "outputs": [
    {
     "name": "stdout",
     "output_type": "stream",
     "text": [
      "====== Math, English, Science, History =======\n",
      "Student 1 marks: [85, 90, 78, 92]\n",
      "Student 2 marks: [88, 76, 95, 89]\n",
      "Student 3 marks: [91, 82, 87, 90]\n",
      "Student 1 → Total: 345, Average: 86.25\n",
      "Student 2 → Total: 348, Average: 87.00\n",
      "Student 3 → Total: 350, Average: 87.50\n",
      "Subject 1 → Highest Score: 91, Topper: Student 3\n",
      "Subject 2 → Highest Score: 90, Topper: Student 1\n",
      "Subject 3 → Highest Score: 95, Topper: Student 2\n",
      "Subject 4 → Highest Score: 92, Topper: Student 1\n",
      "Rank 1: Student 3 → Total = 350 \n",
      "Rank 2: Student 2 → Total = 348 \n",
      "Rank 3: Student 1 → Total = 345 \n"
     ]
    }
   ],
   "source": [
    "marks = [\n",
    "    [85, 90, 78, 92],  \n",
    "    [88, 76, 95, 89], \n",
    "    [91, 82, 87, 90]   \n",
    "]\n",
    "\n",
    "print(\"====== Math, English, Science, History =======\")\n",
    "for i, student in enumerate(marks, start=1):\n",
    "    print(f\"Student {i} marks: {student}\")\n",
    "    \n",
    "    \n",
    "totals = np.sum(marks, axis=1)\n",
    "averages = np.mean(marks, axis=1)\n",
    "\n",
    "for i, (t, a) in enumerate(zip(totals, averages), start=1):\n",
    "    print(f\"Student {i} → Total: {t}, Average: {a:.2f}\")\n",
    "    \n",
    "highest_score = np.max(marks, axis=0)\n",
    "topper = np.argmax(marks, axis=0)\n",
    "\n",
    "for subj, (score, topper) in enumerate(zip(highest_score, topper), start=1):\n",
    "    print(f\"Subject {subj} → Highest Score: {score}, Topper: Student {topper+1}\")\n",
    "\n",
    "#Use sorting to rank students by total score.\n",
    "\n",
    "totals = np.sum(marks, axis=1)\n",
    "ranking = np.argsort(-totals)\n",
    "\n",
    "for rank, idx in enumerate(ranking, start=1):\n",
    "    print(f\"Rank {rank}: Student {idx+1} → Total = {totals[idx]} \")\n",
    "\n",
    "\n"
   ]
  },
  {
   "cell_type": "markdown",
   "id": "e2fbbe42",
   "metadata": {},
   "source": [
    "### 3. Image Manipulation (Grayscale)"
   ]
  },
  {
   "cell_type": "code",
   "execution_count": 54,
   "id": "ca74b631",
   "metadata": {},
   "outputs": [
    {
     "name": "stdout",
     "output_type": "stream",
     "text": [
      "Original RGB image:\n",
      " [[[255   0   0]\n",
      "  [  0 255   0]\n",
      "  [  0   0 255]]\n",
      "\n",
      " [[255 255   0]\n",
      "  [  0 255 255]\n",
      "  [255   0 255]]\n",
      "\n",
      " [[100 100 100]\n",
      "  [200 200 200]\n",
      "  [ 50  50  50]]]\n",
      "\n",
      "Grayscale image:\n",
      " [[ 76.22 149.68  29.07]\n",
      " [225.9  178.76 105.29]\n",
      " [ 99.99 199.98  50.  ]]\n"
     ]
    }
   ],
   "source": [
    "image = np.array([\n",
    "    [[255, 0, 0], [0, 255, 0], [0, 0, 255]],     # Row 1 (Red, Green, Blue)\n",
    "    [[255, 255, 0], [0, 255, 255], [255, 0, 255]], # Row 2 (Yellow, Cyan, Magenta)\n",
    "    [[100, 100, 100], [200, 200, 200], [50, 50, 50]] # Row 3 (Shades of gray)\n",
    "])\n",
    "\n",
    "print(\"Original RGB image:\\n\", image)\n",
    "\n",
    "grayscale = np.dot(image[...,:3], [0.2989, 0.5870, 0.1140])\n",
    "print(\"\\nGrayscale image:\\n\", np.round(grayscale, 2))"
   ]
  },
  {
   "cell_type": "markdown",
   "id": "e9bda0a4",
   "metadata": {},
   "source": [
    "### 4. Dice Rolling Simulator"
   ]
  },
  {
   "cell_type": "code",
   "execution_count": 96,
   "id": "8a38e0d1",
   "metadata": {},
   "outputs": [
    {
     "name": "stdout",
     "output_type": "stream",
     "text": [
      "Dice rolls: [2 6 3 4 1 1 2 6 4 2 2 6 5 4 3 1 1 5 1 3]\n",
      "\n",
      "Frequencies & Percentages:\n",
      "1 → 5 time(s), 25.00%\n",
      "2 → 4 time(s), 20.00%\n",
      "3 → 3 time(s), 15.00%\n",
      "4 → 3 time(s), 15.00%\n",
      "5 → 2 time(s), 10.00%\n",
      "6 → 3 time(s), 15.00%\n"
     ]
    }
   ],
   "source": [
    "num_rolls = 20\n",
    "\n",
    "rolls = np.random.randint(1,7, num_rolls)\n",
    "\n",
    "values, counts = np.unique(rolls, return_counts=True)\n",
    "\n",
    "averages = (counts / num_rolls) * 100\n",
    "\n",
    "print(\"Dice rolls:\", rolls)\n",
    "print(\"\\nFrequencies & Percentages:\")\n",
    "\n",
    "for v, c, p in zip(values, counts, averages):\n",
    "     print(f\"{v} → {c} time(s), {p:.2f}%\")"
   ]
  },
  {
   "cell_type": "markdown",
   "id": "bd77a181",
   "metadata": {},
   "source": [
    "### 5. Stock Price Analysis"
   ]
  },
  {
   "cell_type": "code",
   "execution_count": 104,
   "id": "cf5d9c2b",
   "metadata": {},
   "outputs": [
    {
     "name": "stdout",
     "output_type": "stream",
     "text": [
      "Prices: [100 102 101 105 110 108 112]\n",
      "daily change: [ 2 -1  4  5 -2  4]\n",
      "Average : 105.43\n",
      "Biggest gain in  profit: 112\n",
      "Biggest drop in profit: 100\n",
      "Day 2: Change = 2\n",
      "Day 3: Change = -1\n",
      "Day 4: Change = 4\n",
      "Day 5: Change = 5\n",
      "Day 6: Change = -2\n",
      "Day 7: Change = 4\n"
     ]
    }
   ],
   "source": [
    "prices = np.array([100, 102, 101, 105, 110, 108, 112])\n",
    "print(\"Prices:\", prices)\n",
    "\n",
    "daily_change = np.diff(prices)\n",
    "print(f\"daily change: {daily_change}\")\n",
    "\n",
    "average = np.mean(prices)\n",
    "print(f\"Average : {average:.2f}\")\n",
    "\n",
    "max_val = np.max(prices)\n",
    "print(f\"Biggest gain in  profit: {max_val}\")\n",
    "\n",
    "min_val = np.min(prices)\n",
    "print(f\"Biggest drop in profit: {min_val}\")\n",
    "\n",
    "days = np.arange(2, len(prices)+1)\n",
    "for d, change in zip(days, daily_change):\n",
    "    print(f\"Day {d}: Change = {change}\")"
   ]
  },
  {
   "cell_type": "markdown",
   "id": "ccb65a22",
   "metadata": {},
   "source": [
    "### 6. Tic-Tac-Toe Board"
   ]
  },
  {
   "cell_type": "code",
   "execution_count": 105,
   "id": "0e278a3b",
   "metadata": {},
   "outputs": [
    {
     "name": "stdout",
     "output_type": "stream",
     "text": [
      "[[1 2 0]\n",
      " [2 1 0]\n",
      " [2 0 1]]\n",
      "X wins (diagonal)\n"
     ]
    }
   ],
   "source": [
    "import numpy as np\n",
    "\n",
    "# 0 = empty, 1 = X, 2 = O\n",
    "board = np.array([\n",
    "    [1, 2, 0],\n",
    "    [2, 1, 0],\n",
    "    [2, 0, 1]\n",
    "])\n",
    "\n",
    "def check_winner(b):\n",
    "    # --- Rows ---\n",
    "    for row in b:\n",
    "        if np.all(row == 1):\n",
    "            return \"X wins (row)\"\n",
    "        if np.all(row == 2):\n",
    "            return \"O wins (row)\"\n",
    "\n",
    "    # --- Columns ---\n",
    "    for col in b.T:   # transpose gives columns\n",
    "        if np.all(col == 1):\n",
    "            return \"X wins (column)\"\n",
    "        if np.all(col == 2):\n",
    "            return \"O wins (column)\"\n",
    "\n",
    "    # --- Diagonals ---\n",
    "    if np.all(np.diag(b) == 1):   # main diagonal\n",
    "        return \"X wins (diagonal)\"\n",
    "    if np.all(np.diag(b) == 2):\n",
    "        return \"O wins (diagonal)\"\n",
    "\n",
    "    if np.all(np.diag(np.fliplr(b)) == 1):  # anti-diagonal\n",
    "        return \"X wins (anti-diagonal)\"\n",
    "    if np.all(np.diag(np.fliplr(b)) == 2):\n",
    "        return \"O wins (anti-diagonal)\"\n",
    "\n",
    "    # --- Draw or in-progress ---\n",
    "    if np.all(b != 0):\n",
    "        return \"Draw\"\n",
    "    return \"Game still in progress\"\n",
    "\n",
    "print(board)\n",
    "print(check_winner(board))\n"
   ]
  },
  {
   "cell_type": "markdown",
   "id": "6788ddb4",
   "metadata": {},
   "source": [
    "### 7. Population Data Analyzer"
   ]
  },
  {
   "cell_type": "code",
   "execution_count": null,
   "id": "aa090a59",
   "metadata": {},
   "outputs": [
    {
     "name": "stdout",
     "output_type": "stream",
     "text": [
      "Largest city: City 1 → 4476k\n",
      "Largest city: City 3 → 2250k\n"
     ]
    }
   ],
   "source": [
    "np.random.seed(400)\n",
    "populations  = np.random.randint(2110, 5218, 7)\n",
    "\n",
    "\n",
    "largest_city = np.argmax(populations)\n",
    "smallest_city = np.argmin(populations)\n",
    "\n",
    "print(f\"Largest city: City {largest_city} → {populations[largest_city]}k\")\n",
    "print(f\"Smallest city: City {smallest_city} → {populations[smallest_city]}k\")\n",
    "\n",
    "\n"
   ]
  }
 ],
 "metadata": {
  "kernelspec": {
   "display_name": "venv (3.13.5)",
   "language": "python",
   "name": "python3"
  },
  "language_info": {
   "codemirror_mode": {
    "name": "ipython",
    "version": 3
   },
   "file_extension": ".py",
   "mimetype": "text/x-python",
   "name": "python",
   "nbconvert_exporter": "python",
   "pygments_lexer": "ipython3",
   "version": "3.13.5"
  }
 },
 "nbformat": 4,
 "nbformat_minor": 5
}
