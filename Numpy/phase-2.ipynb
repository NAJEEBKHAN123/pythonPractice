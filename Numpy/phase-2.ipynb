{
 "cells": [
  {
   "cell_type": "markdown",
   "id": "351524e6",
   "metadata": {},
   "source": [
    "Numpy array operations"
   ]
  },
  {
   "cell_type": "code",
   "execution_count": 4,
   "id": "dd5cd73a",
   "metadata": {},
   "outputs": [],
   "source": [
    "import numpy as np"
   ]
  },
  {
   "cell_type": "code",
   "execution_count": null,
   "id": "f1b1efc5",
   "metadata": {},
   "outputs": [],
   "source": []
  },
  {
   "cell_type": "code",
   "execution_count": 5,
   "id": "cc73c41f",
   "metadata": {},
   "outputs": [
    {
     "name": "stdout",
     "output_type": "stream",
     "text": [
      "[1 2 3 4 5]\n"
     ]
    }
   ],
   "source": [
    "arr = np.array([1, 2, 3, 4, 5])\n",
    "\n",
    "print(arr)"
   ]
  },
  {
   "cell_type": "markdown",
   "id": "f88e9dd6",
   "metadata": {},
   "source": [
    "Slicing in array"
   ]
  },
  {
   "cell_type": "code",
   "execution_count": 6,
   "id": "d57db856",
   "metadata": {},
   "outputs": [
    {
     "name": "stdout",
     "output_type": "stream",
     "text": [
      "Sliced array:  [2 3 4 5 6 8]\n"
     ]
    }
   ],
   "source": [
    "arr = np.array([1, 2, 3, 4, 5, 6, 8, 9, 10])\n",
    "\n",
    "print('Sliced array: ', arr[1: 7])"
   ]
  },
  {
   "cell_type": "markdown",
   "id": "b55bd5d4",
   "metadata": {},
   "source": [
    "2D slicing"
   ]
  },
  {
   "cell_type": "code",
   "execution_count": 7,
   "id": "3cad0a78",
   "metadata": {},
   "outputs": [
    {
     "name": "stdout",
     "output_type": "stream",
     "text": [
      "2D Sliced array:  [4 5 6]\n"
     ]
    }
   ],
   "source": [
    "arr = np.array([[1,2,3], [4,5,6]])\n",
    "\n",
    "print('2D Sliced array: ', arr[1, 0:3])  # Slicing a 2D array"
   ]
  },
  {
   "cell_type": "code",
   "execution_count": 8,
   "id": "09b56c37",
   "metadata": {},
   "outputs": [
    {
     "name": "stdout",
     "output_type": "stream",
     "text": [
      "2D Sliced array:  [2 5]\n"
     ]
    }
   ],
   "source": [
    "arr = np.array([[1, 2, 3], [4, 5, 6], [7, 8, 9]])\n",
    "\n",
    "print('2D Sliced array: ', arr[0:2, 1])"
   ]
  },
  {
   "cell_type": "markdown",
   "id": "c3ff3f43",
   "metadata": {},
   "source": [
    "Sorted in array\n"
   ]
  },
  {
   "cell_type": "code",
   "execution_count": 9,
   "id": "ec0265a5",
   "metadata": {},
   "outputs": [
    {
     "name": "stdout",
     "output_type": "stream",
     "text": [
      "Original array:  [1 7 3 9 5]\n",
      "Sorted in array:  [1 3 5 7 9]\n"
     ]
    }
   ],
   "source": [
    "arr = np.array([1, 7, 3, 9, 5])\n",
    "\n",
    "print(\"Original array: \", arr)\n",
    "print(\"Sorted in array: \", np.sort(arr))"
   ]
  },
  {
   "cell_type": "markdown",
   "id": "888a03bc",
   "metadata": {},
   "source": [
    "2D sorted array"
   ]
  },
  {
   "cell_type": "code",
   "execution_count": 10,
   "id": "6e80df9d",
   "metadata": {},
   "outputs": [
    {
     "name": "stdout",
     "output_type": "stream",
     "text": [
      "2D sorted array column:  [[1 4 2]\n",
      " [2 6 3]]\n"
     ]
    }
   ],
   "source": [
    "arr = np.array([[2,4,3], [1,6,2]])\n",
    "\n",
    "print(\"2D sorted array column: \", np.sort(arr, axis=0))"
   ]
  },
  {
   "cell_type": "markdown",
   "id": "ddc5dfc4",
   "metadata": {},
   "source": [
    "###Filter in array"
   ]
  },
  {
   "cell_type": "code",
   "execution_count": 11,
   "id": "38ab2a6e",
   "metadata": {},
   "outputs": [
    {
     "name": "stdout",
     "output_type": "stream",
     "text": [
      "Filtered array: [6 7 8 9]\n"
     ]
    }
   ],
   "source": [
    "arr = np.array([[1, 2, 3], [4, 5, 6], [7, 8, 9]])\n",
    "\n",
    "print('Filtered array:', arr[arr > 5])"
   ]
  },
  {
   "cell_type": "markdown",
   "id": "3cf6f442",
   "metadata": {},
   "source": [
    "Mark array"
   ]
  },
  {
   "cell_type": "code",
   "execution_count": 12,
   "id": "f31af952",
   "metadata": {},
   "outputs": [
    {
     "name": "stdout",
     "output_type": "stream",
     "text": [
      "Filtered even numbers: [ 2  4  6  8 10]\n"
     ]
    }
   ],
   "source": [
    "arr = np.array([1, 2, 3, 4, 5, 6, 7, 8, 9, 10])\n",
    "\n",
    "filtered_arr = arr[arr % 2 == 0]\n",
    "print('Filtered even numbers:', filtered_arr)"
   ]
  },
  {
   "cell_type": "code",
   "execution_count": 13,
   "id": "dc703de7",
   "metadata": {},
   "outputs": [
    {
     "name": "stdout",
     "output_type": "stream",
     "text": [
      "Filtered array with mask:  [ 6  7  8  9 10]\n"
     ]
    }
   ],
   "source": [
    "mask = np.array([1,2,3,4,5,6,7,8,9,10])\n",
    "\n",
    "filtered_arr = mask > 5\n",
    "\n",
    "print(\"Filtered array with mask: \", mask[filtered_arr])\n",
    "\n"
   ]
  },
  {
   "cell_type": "markdown",
   "id": "b026cf90",
   "metadata": {},
   "source": []
  },
  {
   "cell_type": "code",
   "execution_count": 15,
   "id": "a84075b4",
   "metadata": {},
   "outputs": [
    {
     "name": "stdout",
     "output_type": "stream",
     "text": [
      "Conditionally modified array:  [ 1  2  3  4  5 12 14 16 18 20]\n"
     ]
    }
   ],
   "source": [
    "condition_arr = np.where(mask > 5, mask*2, mask)\n",
    "\n",
    "print(\"Conditionally modified array: \", condition_arr)"
   ]
  },
  {
   "cell_type": "markdown",
   "id": "637ff2fd",
   "metadata": {},
   "source": []
  },
  {
   "cell_type": "markdown",
   "id": "7ccdec31",
   "metadata": {},
   "source": [
    "Array combination"
   ]
  },
  {
   "cell_type": "code",
   "execution_count": 16,
   "id": "d44e575c",
   "metadata": {},
   "outputs": [
    {
     "name": "stdout",
     "output_type": "stream",
     "text": [
      "Combined array:  [1 2 3 4 5 6]\n"
     ]
    }
   ],
   "source": [
    "arr1 = np.array([1, 2, 3])\n",
    "arr2 = np.array([4, 5, 6])\n",
    "\n",
    "combined_arr = np.concatenate((arr1, arr2))\n",
    "print(\"Combined array: \", combined_arr)"
   ]
  },
  {
   "cell_type": "markdown",
   "id": "6749ae65",
   "metadata": {},
   "source": [
    "Compatability check"
   ]
  },
  {
   "cell_type": "code",
   "execution_count": 18,
   "id": "293fb4bc",
   "metadata": {},
   "outputs": [
    {
     "name": "stdout",
     "output_type": "stream",
     "text": [
      "Compatibility check:  False\n"
     ]
    }
   ],
   "source": [
    "arr1 = np.array([1, 2, 3])\n",
    "arr2 = np.array([4, 5, 6])\n",
    "arr3 = np.array([7, 8, 9])\n",
    "\n",
    "print(\"Compatibility check: \", np.array_equal(arr1, arr2))\n"
   ]
  },
  {
   "cell_type": "markdown",
   "id": "9dc3ad99",
   "metadata": {},
   "source": [
    "adding removing elements "
   ]
  },
  {
   "cell_type": "code",
   "execution_count": 19,
   "id": "3a97f5c8",
   "metadata": {},
   "outputs": [
    {
     "name": "stdout",
     "output_type": "stream",
     "text": [
      "Original array:  [1 2 3 4 5]\n"
     ]
    }
   ],
   "source": [
    "arr = np.array([1, 2, 3, 4, 5])\n",
    "\n",
    "print(\"Original array: \", arr)"
   ]
  },
  {
   "cell_type": "code",
   "execution_count": 20,
   "id": "f6c2e595",
   "metadata": {},
   "outputs": [
    {
     "name": "stdout",
     "output_type": "stream",
     "text": [
      "Array after adding new row:  [[1 2 3]\n",
      " [4 5 6]\n",
      " [7 8 9]]\n",
      "original array:  [[1 2 3]\n",
      " [4 5 6]]\n"
     ]
    }
   ],
   "source": [
    "arr = np.array([[1,2,3], [4,5,6]])\n",
    "add_new_row = np.array([7, 8, 9])\n",
    "\n",
    "arrAfter_new_row = np.vstack((arr, add_new_row))\n",
    "\n",
    "print(\"Array after adding new row: \", arrAfter_new_row)\n",
    "print(\"original array: \", arr)\n",
    "\n"
   ]
  },
  {
   "cell_type": "code",
   "execution_count": null,
   "id": "eb8506a0",
   "metadata": {},
   "outputs": [
    {
     "name": "stdout",
     "output_type": "stream",
     "text": [
      "Array after adding new row:  [[1 2 9]\n",
      " [4 5 8]]\n",
      "original array:  [[1 2]\n",
      " [4 5]]\n"
     ]
    }
   ],
   "source": [
    "arr = np.array([[1,2], [4,5]])\n",
    "\n",
    "new_col = np.array([[9],[8]])\n",
    "\n",
    "arrAfter_new_col = np.hstack((arr, new_col))\n",
    "\n",
    "print(\"Array after adding new col: \", arrAfter_new_col)\n",
    "print(\"original array: \", arr)"
   ]
  },
  {
   "cell_type": "code",
   "execution_count": 29,
   "id": "92085690",
   "metadata": {},
   "outputs": [
    {
     "name": "stdout",
     "output_type": "stream",
     "text": [
      "[1 2 4 5]\n"
     ]
    }
   ],
   "source": [
    "arr = np.array([1, 2, 3, 4, 5])\n",
    "\n",
    "deleted_element = np.delete(arr, 2)\n",
    "\n",
    "print(deleted_element)"
   ]
  },
  {
   "cell_type": "code",
   "execution_count": null,
   "id": "6c4c8c69",
   "metadata": {},
   "outputs": [],
   "source": []
  }
 ],
 "metadata": {
  "kernelspec": {
   "display_name": "venv (3.13.5)",
   "language": "python",
   "name": "python3"
  },
  "language_info": {
   "codemirror_mode": {
    "name": "ipython",
    "version": 3
   },
   "file_extension": ".py",
   "mimetype": "text/x-python",
   "name": "python",
   "nbconvert_exporter": "python",
   "pygments_lexer": "ipython3",
   "version": "3.13.5"
  }
 },
 "nbformat": 4,
 "nbformat_minor": 5
}
